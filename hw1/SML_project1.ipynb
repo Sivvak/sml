{
 "cells": [
  {
   "cell_type": "markdown",
   "metadata": {},
   "source": [
    "### Task 1\n"
   ]
  },
  {
   "cell_type": "code",
   "execution_count": 19,
   "metadata": {},
   "outputs": [],
   "source": [
    "import pandas as pd"
   ]
  },
  {
   "cell_type": "code",
   "execution_count": 20,
   "metadata": {},
   "outputs": [],
   "source": [
    "DATA_PATH = \"project1_data.csv\"\n",
    "\n",
    "data = pd.read_csv(DATA_PATH, sep=\";\")"
   ]
  },
  {
   "cell_type": "code",
   "execution_count": 21,
   "metadata": {},
   "outputs": [
    {
     "data": {
      "text/html": [
       "<div>\n",
       "<style scoped>\n",
       "    .dataframe tbody tr th:only-of-type {\n",
       "        vertical-align: middle;\n",
       "    }\n",
       "\n",
       "    .dataframe tbody tr th {\n",
       "        vertical-align: top;\n",
       "    }\n",
       "\n",
       "    .dataframe thead th {\n",
       "        text-align: right;\n",
       "    }\n",
       "</style>\n",
       "<table border=\"1\" class=\"dataframe\">\n",
       "  <thead>\n",
       "    <tr style=\"text-align: right;\">\n",
       "      <th></th>\n",
       "      <th>id</th>\n",
       "      <th>weight</th>\n",
       "      <th>height</th>\n",
       "      <th>sex</th>\n",
       "      <th>cats</th>\n",
       "      <th>age</th>\n",
       "      <th>income</th>\n",
       "      <th>savings</th>\n",
       "      <th>single</th>\n",
       "      <th>place</th>\n",
       "      <th>expenses</th>\n",
       "    </tr>\n",
       "  </thead>\n",
       "  <tbody>\n",
       "    <tr>\n",
       "      <th>0</th>\n",
       "      <td>1</td>\n",
       "      <td>84.99</td>\n",
       "      <td>171.72</td>\n",
       "      <td>1</td>\n",
       "      <td>2</td>\n",
       "      <td>55</td>\n",
       "      <td>1213.10</td>\n",
       "      <td>480.45</td>\n",
       "      <td>0</td>\n",
       "      <td>1</td>\n",
       "      <td>326.33</td>\n",
       "    </tr>\n",
       "    <tr>\n",
       "      <th>1</th>\n",
       "      <td>2</td>\n",
       "      <td>91.06</td>\n",
       "      <td>175.83</td>\n",
       "      <td>1</td>\n",
       "      <td>2</td>\n",
       "      <td>41</td>\n",
       "      <td>1300.14</td>\n",
       "      <td>192.14</td>\n",
       "      <td>0</td>\n",
       "      <td>2</td>\n",
       "      <td>409.24</td>\n",
       "    </tr>\n",
       "    <tr>\n",
       "      <th>2</th>\n",
       "      <td>3</td>\n",
       "      <td>88.30</td>\n",
       "      <td>175.34</td>\n",
       "      <td>1</td>\n",
       "      <td>1</td>\n",
       "      <td>42</td>\n",
       "      <td>1203.19</td>\n",
       "      <td>643.34</td>\n",
       "      <td>0</td>\n",
       "      <td>3</td>\n",
       "      <td>274.26</td>\n",
       "    </tr>\n",
       "    <tr>\n",
       "      <th>3</th>\n",
       "      <td>4</td>\n",
       "      <td>84.51</td>\n",
       "      <td>167.64</td>\n",
       "      <td>1</td>\n",
       "      <td>1</td>\n",
       "      <td>50</td>\n",
       "      <td>1231.13</td>\n",
       "      <td>303.35</td>\n",
       "      <td>0</td>\n",
       "      <td>1</td>\n",
       "      <td>374.86</td>\n",
       "    </tr>\n",
       "    <tr>\n",
       "      <th>4</th>\n",
       "      <td>5</td>\n",
       "      <td>85.72</td>\n",
       "      <td>171.62</td>\n",
       "      <td>1</td>\n",
       "      <td>2</td>\n",
       "      <td>53</td>\n",
       "      <td>892.02</td>\n",
       "      <td>424.99</td>\n",
       "      <td>0</td>\n",
       "      <td>2</td>\n",
       "      <td>248.24</td>\n",
       "    </tr>\n",
       "    <tr>\n",
       "      <th>...</th>\n",
       "      <td>...</td>\n",
       "      <td>...</td>\n",
       "      <td>...</td>\n",
       "      <td>...</td>\n",
       "      <td>...</td>\n",
       "      <td>...</td>\n",
       "      <td>...</td>\n",
       "      <td>...</td>\n",
       "      <td>...</td>\n",
       "      <td>...</td>\n",
       "      <td>...</td>\n",
       "    </tr>\n",
       "    <tr>\n",
       "      <th>445</th>\n",
       "      <td>446</td>\n",
       "      <td>86.48</td>\n",
       "      <td>168.03</td>\n",
       "      <td>1</td>\n",
       "      <td>1</td>\n",
       "      <td>59</td>\n",
       "      <td>6838.88</td>\n",
       "      <td>2875.71</td>\n",
       "      <td>1</td>\n",
       "      <td>3</td>\n",
       "      <td>-391.65</td>\n",
       "    </tr>\n",
       "    <tr>\n",
       "      <th>446</th>\n",
       "      <td>447</td>\n",
       "      <td>91.96</td>\n",
       "      <td>171.22</td>\n",
       "      <td>2</td>\n",
       "      <td>2</td>\n",
       "      <td>50</td>\n",
       "      <td>1447.32</td>\n",
       "      <td>511.32</td>\n",
       "      <td>0</td>\n",
       "      <td>3</td>\n",
       "      <td>368.74</td>\n",
       "    </tr>\n",
       "    <tr>\n",
       "      <th>447</th>\n",
       "      <td>448</td>\n",
       "      <td>85.15</td>\n",
       "      <td>174.71</td>\n",
       "      <td>1</td>\n",
       "      <td>1</td>\n",
       "      <td>52</td>\n",
       "      <td>1142.19</td>\n",
       "      <td>519.33</td>\n",
       "      <td>0</td>\n",
       "      <td>2</td>\n",
       "      <td>287.80</td>\n",
       "    </tr>\n",
       "    <tr>\n",
       "      <th>448</th>\n",
       "      <td>449</td>\n",
       "      <td>86.92</td>\n",
       "      <td>166.04</td>\n",
       "      <td>1</td>\n",
       "      <td>5</td>\n",
       "      <td>41</td>\n",
       "      <td>944.19</td>\n",
       "      <td>633.63</td>\n",
       "      <td>0</td>\n",
       "      <td>3</td>\n",
       "      <td>229.27</td>\n",
       "    </tr>\n",
       "    <tr>\n",
       "      <th>449</th>\n",
       "      <td>450</td>\n",
       "      <td>88.90</td>\n",
       "      <td>178.80</td>\n",
       "      <td>1</td>\n",
       "      <td>4</td>\n",
       "      <td>40</td>\n",
       "      <td>2293.23</td>\n",
       "      <td>440.76</td>\n",
       "      <td>1</td>\n",
       "      <td>2</td>\n",
       "      <td>475.40</td>\n",
       "    </tr>\n",
       "  </tbody>\n",
       "</table>\n",
       "<p>450 rows × 11 columns</p>\n",
       "</div>"
      ],
      "text/plain": [
       "      id  weight  height  sex  cats  age   income  savings  single  place  \\\n",
       "0      1   84.99  171.72    1     2   55  1213.10   480.45       0      1   \n",
       "1      2   91.06  175.83    1     2   41  1300.14   192.14       0      2   \n",
       "2      3   88.30  175.34    1     1   42  1203.19   643.34       0      3   \n",
       "3      4   84.51  167.64    1     1   50  1231.13   303.35       0      1   \n",
       "4      5   85.72  171.62    1     2   53   892.02   424.99       0      2   \n",
       "..   ...     ...     ...  ...   ...  ...      ...      ...     ...    ...   \n",
       "445  446   86.48  168.03    1     1   59  6838.88  2875.71       1      3   \n",
       "446  447   91.96  171.22    2     2   50  1447.32   511.32       0      3   \n",
       "447  448   85.15  174.71    1     1   52  1142.19   519.33       0      2   \n",
       "448  449   86.92  166.04    1     5   41   944.19   633.63       0      3   \n",
       "449  450   88.90  178.80    1     4   40  2293.23   440.76       1      2   \n",
       "\n",
       "     expenses  \n",
       "0      326.33  \n",
       "1      409.24  \n",
       "2      274.26  \n",
       "3      374.86  \n",
       "4      248.24  \n",
       "..        ...  \n",
       "445   -391.65  \n",
       "446    368.74  \n",
       "447    287.80  \n",
       "448    229.27  \n",
       "449    475.40  \n",
       "\n",
       "[450 rows x 11 columns]"
      ]
     },
     "execution_count": 21,
     "metadata": {},
     "output_type": "execute_result"
    }
   ],
   "source": [
    "data"
   ]
  },
  {
   "cell_type": "code",
   "execution_count": 22,
   "metadata": {},
   "outputs": [
    {
     "name": "stdout",
     "output_type": "stream",
     "text": [
      "<class 'pandas.core.frame.DataFrame'>\n",
      "RangeIndex: 450 entries, 0 to 449\n",
      "Data columns (total 11 columns):\n",
      " #   Column    Non-Null Count  Dtype  \n",
      "---  ------    --------------  -----  \n",
      " 0   id        450 non-null    int64  \n",
      " 1   weight    450 non-null    float64\n",
      " 2   height    450 non-null    float64\n",
      " 3   sex       450 non-null    int64  \n",
      " 4   cats      450 non-null    int64  \n",
      " 5   age       450 non-null    int64  \n",
      " 6   income    450 non-null    float64\n",
      " 7   savings   450 non-null    float64\n",
      " 8   single    450 non-null    int64  \n",
      " 9   place     450 non-null    int64  \n",
      " 10  expenses  450 non-null    float64\n",
      "dtypes: float64(5), int64(6)\n",
      "memory usage: 38.8 KB\n"
     ]
    }
   ],
   "source": [
    "data.info()"
   ]
  },
  {
   "cell_type": "code",
   "execution_count": 23,
   "metadata": {},
   "outputs": [],
   "source": [
    "# TODO: think whether ID is a variable"
   ]
  },
  {
   "cell_type": "markdown",
   "metadata": {},
   "source": [
    "Some facts about the data:\n",
    "\n",
    "- There are 450 observations in the sample\n",
    "- There are 3 qualitative variables: sex, single, place\n",
    "- There are 7 quantitative variables: weight, height, cats, age, income, savings, expenses\n",
    "- There are no missing data, every observation has a non-null value for each variable\n"
   ]
  },
  {
   "cell_type": "markdown",
   "metadata": {},
   "source": [
    "#### Qualitative variables summary\n"
   ]
  },
  {
   "cell_type": "code",
   "execution_count": 24,
   "metadata": {},
   "outputs": [
    {
     "data": {
      "text/html": [
       "<div>\n",
       "<style scoped>\n",
       "    .dataframe tbody tr th:only-of-type {\n",
       "        vertical-align: middle;\n",
       "    }\n",
       "\n",
       "    .dataframe tbody tr th {\n",
       "        vertical-align: top;\n",
       "    }\n",
       "\n",
       "    .dataframe thead th {\n",
       "        text-align: right;\n",
       "    }\n",
       "</style>\n",
       "<table border=\"1\" class=\"dataframe\">\n",
       "  <thead>\n",
       "    <tr style=\"text-align: right;\">\n",
       "      <th>single</th>\n",
       "      <th>0</th>\n",
       "      <th>1</th>\n",
       "      <th>All</th>\n",
       "    </tr>\n",
       "    <tr>\n",
       "      <th>sex</th>\n",
       "      <th></th>\n",
       "      <th></th>\n",
       "      <th></th>\n",
       "    </tr>\n",
       "  </thead>\n",
       "  <tbody>\n",
       "    <tr>\n",
       "      <th>1</th>\n",
       "      <td>144</td>\n",
       "      <td>86</td>\n",
       "      <td>230</td>\n",
       "    </tr>\n",
       "    <tr>\n",
       "      <th>2</th>\n",
       "      <td>142</td>\n",
       "      <td>78</td>\n",
       "      <td>220</td>\n",
       "    </tr>\n",
       "    <tr>\n",
       "      <th>All</th>\n",
       "      <td>286</td>\n",
       "      <td>164</td>\n",
       "      <td>450</td>\n",
       "    </tr>\n",
       "  </tbody>\n",
       "</table>\n",
       "</div>"
      ],
      "text/plain": [
       "single    0    1  All\n",
       "sex                  \n",
       "1       144   86  230\n",
       "2       142   78  220\n",
       "All     286  164  450"
      ]
     },
     "execution_count": 24,
     "metadata": {},
     "output_type": "execute_result"
    }
   ],
   "source": [
    "pd.crosstab(data[\"sex\"], data[\"single\"], margins=True)"
   ]
  },
  {
   "cell_type": "code",
   "execution_count": 25,
   "metadata": {},
   "outputs": [
    {
     "data": {
      "text/html": [
       "<div>\n",
       "<style scoped>\n",
       "    .dataframe tbody tr th:only-of-type {\n",
       "        vertical-align: middle;\n",
       "    }\n",
       "\n",
       "    .dataframe tbody tr th {\n",
       "        vertical-align: top;\n",
       "    }\n",
       "\n",
       "    .dataframe thead th {\n",
       "        text-align: right;\n",
       "    }\n",
       "</style>\n",
       "<table border=\"1\" class=\"dataframe\">\n",
       "  <thead>\n",
       "    <tr style=\"text-align: right;\">\n",
       "      <th>place</th>\n",
       "      <th>1</th>\n",
       "      <th>2</th>\n",
       "      <th>3</th>\n",
       "      <th>All</th>\n",
       "    </tr>\n",
       "    <tr>\n",
       "      <th>sex</th>\n",
       "      <th></th>\n",
       "      <th></th>\n",
       "      <th></th>\n",
       "      <th></th>\n",
       "    </tr>\n",
       "  </thead>\n",
       "  <tbody>\n",
       "    <tr>\n",
       "      <th>1</th>\n",
       "      <td>57</td>\n",
       "      <td>108</td>\n",
       "      <td>65</td>\n",
       "      <td>230</td>\n",
       "    </tr>\n",
       "    <tr>\n",
       "      <th>2</th>\n",
       "      <td>50</td>\n",
       "      <td>107</td>\n",
       "      <td>63</td>\n",
       "      <td>220</td>\n",
       "    </tr>\n",
       "    <tr>\n",
       "      <th>All</th>\n",
       "      <td>107</td>\n",
       "      <td>215</td>\n",
       "      <td>128</td>\n",
       "      <td>450</td>\n",
       "    </tr>\n",
       "  </tbody>\n",
       "</table>\n",
       "</div>"
      ],
      "text/plain": [
       "place    1    2    3  All\n",
       "sex                      \n",
       "1       57  108   65  230\n",
       "2       50  107   63  220\n",
       "All    107  215  128  450"
      ]
     },
     "execution_count": 25,
     "metadata": {},
     "output_type": "execute_result"
    }
   ],
   "source": [
    "pd.crosstab(data[\"sex\"], data[\"place\"], margins=True)"
   ]
  },
  {
   "cell_type": "code",
   "execution_count": 26,
   "metadata": {},
   "outputs": [
    {
     "data": {
      "text/html": [
       "<div>\n",
       "<style scoped>\n",
       "    .dataframe tbody tr th:only-of-type {\n",
       "        vertical-align: middle;\n",
       "    }\n",
       "\n",
       "    .dataframe tbody tr th {\n",
       "        vertical-align: top;\n",
       "    }\n",
       "\n",
       "    .dataframe thead th {\n",
       "        text-align: right;\n",
       "    }\n",
       "</style>\n",
       "<table border=\"1\" class=\"dataframe\">\n",
       "  <thead>\n",
       "    <tr style=\"text-align: right;\">\n",
       "      <th>single</th>\n",
       "      <th>0</th>\n",
       "      <th>1</th>\n",
       "      <th>All</th>\n",
       "    </tr>\n",
       "    <tr>\n",
       "      <th>place</th>\n",
       "      <th></th>\n",
       "      <th></th>\n",
       "      <th></th>\n",
       "    </tr>\n",
       "  </thead>\n",
       "  <tbody>\n",
       "    <tr>\n",
       "      <th>1</th>\n",
       "      <td>74</td>\n",
       "      <td>33</td>\n",
       "      <td>107</td>\n",
       "    </tr>\n",
       "    <tr>\n",
       "      <th>2</th>\n",
       "      <td>130</td>\n",
       "      <td>85</td>\n",
       "      <td>215</td>\n",
       "    </tr>\n",
       "    <tr>\n",
       "      <th>3</th>\n",
       "      <td>82</td>\n",
       "      <td>46</td>\n",
       "      <td>128</td>\n",
       "    </tr>\n",
       "    <tr>\n",
       "      <th>All</th>\n",
       "      <td>286</td>\n",
       "      <td>164</td>\n",
       "      <td>450</td>\n",
       "    </tr>\n",
       "  </tbody>\n",
       "</table>\n",
       "</div>"
      ],
      "text/plain": [
       "single    0    1  All\n",
       "place                \n",
       "1        74   33  107\n",
       "2       130   85  215\n",
       "3        82   46  128\n",
       "All     286  164  450"
      ]
     },
     "execution_count": 26,
     "metadata": {},
     "output_type": "execute_result"
    }
   ],
   "source": [
    "pd.crosstab(data[\"place\"], data[\"single\"], margins=True)"
   ]
  },
  {
   "cell_type": "code",
   "execution_count": 27,
   "metadata": {},
   "outputs": [
    {
     "data": {
      "text/html": [
       "<div>\n",
       "<style scoped>\n",
       "    .dataframe tbody tr th:only-of-type {\n",
       "        vertical-align: middle;\n",
       "    }\n",
       "\n",
       "    .dataframe tbody tr th {\n",
       "        vertical-align: top;\n",
       "    }\n",
       "\n",
       "    .dataframe thead th {\n",
       "        text-align: right;\n",
       "    }\n",
       "</style>\n",
       "<table border=\"1\" class=\"dataframe\">\n",
       "  <thead>\n",
       "    <tr style=\"text-align: right;\">\n",
       "      <th></th>\n",
       "      <th>sex</th>\n",
       "      <th>single</th>\n",
       "      <th>place</th>\n",
       "    </tr>\n",
       "  </thead>\n",
       "  <tbody>\n",
       "    <tr>\n",
       "      <th>0</th>\n",
       "      <td>1</td>\n",
       "      <td>0</td>\n",
       "      <td>2</td>\n",
       "    </tr>\n",
       "  </tbody>\n",
       "</table>\n",
       "</div>"
      ],
      "text/plain": [
       "   sex  single  place\n",
       "0    1       0      2"
      ]
     },
     "execution_count": 27,
     "metadata": {},
     "output_type": "execute_result"
    }
   ],
   "source": [
    "qual_vars = [\"sex\", \"single\", \"place\"]\n",
    "qual_data = data[qual_vars]\n",
    "\n",
    "qual_data.mode(axis=0)"
   ]
  },
  {
   "cell_type": "code",
   "execution_count": 28,
   "metadata": {},
   "outputs": [
    {
     "data": {
      "text/plain": [
       "np.float64(2.0)"
      ]
     },
     "execution_count": 28,
     "metadata": {},
     "output_type": "execute_result"
    }
   ],
   "source": [
    "data[\"place\"].median()"
   ]
  },
  {
   "cell_type": "markdown",
   "metadata": {},
   "source": [
    "Key observations:\n",
    "\n",
    "- Data is almost evenly distributed in terms of the respondent's **gender** (230 females, 220 males)\n",
    "- Data isn't equally distributed in terms of the **household status**, i.e. we can notice an over-representation of people living in a multi-person household (286 observations) in comparison to the people living in a single-person household (164 observations)\n",
    "- Similar thing can be observed for the **place** variable, i.e. there is an over-representation of people living in medium towns, from 10,000 to 100,000 inhabitants (215 observations). On the other hand, there are only 107 observations of people living in small towns, i.e. up to 10,000 inhabitants and 128 observations of people living in large towns, i.e. over 100,000 inhabitants\n"
   ]
  },
  {
   "cell_type": "markdown",
   "metadata": {},
   "source": [
    "#### Quantitative variables summary\n"
   ]
  },
  {
   "cell_type": "code",
   "execution_count": 29,
   "metadata": {},
   "outputs": [
    {
     "data": {
      "text/html": [
       "<div>\n",
       "<style scoped>\n",
       "    .dataframe tbody tr th:only-of-type {\n",
       "        vertical-align: middle;\n",
       "    }\n",
       "\n",
       "    .dataframe tbody tr th {\n",
       "        vertical-align: top;\n",
       "    }\n",
       "\n",
       "    .dataframe thead th {\n",
       "        text-align: right;\n",
       "    }\n",
       "</style>\n",
       "<table border=\"1\" class=\"dataframe\">\n",
       "  <thead>\n",
       "    <tr style=\"text-align: right;\">\n",
       "      <th></th>\n",
       "      <th>sex</th>\n",
       "      <th>single</th>\n",
       "      <th>place</th>\n",
       "    </tr>\n",
       "  </thead>\n",
       "  <tbody>\n",
       "    <tr>\n",
       "      <th>count</th>\n",
       "      <td>450.000000</td>\n",
       "      <td>450.000000</td>\n",
       "      <td>450.000000</td>\n",
       "    </tr>\n",
       "    <tr>\n",
       "      <th>mean</th>\n",
       "      <td>1.488889</td>\n",
       "      <td>0.364444</td>\n",
       "      <td>2.046667</td>\n",
       "    </tr>\n",
       "    <tr>\n",
       "      <th>std</th>\n",
       "      <td>0.500433</td>\n",
       "      <td>0.481810</td>\n",
       "      <td>0.721944</td>\n",
       "    </tr>\n",
       "    <tr>\n",
       "      <th>min</th>\n",
       "      <td>1.000000</td>\n",
       "      <td>0.000000</td>\n",
       "      <td>1.000000</td>\n",
       "    </tr>\n",
       "    <tr>\n",
       "      <th>25%</th>\n",
       "      <td>1.000000</td>\n",
       "      <td>0.000000</td>\n",
       "      <td>2.000000</td>\n",
       "    </tr>\n",
       "    <tr>\n",
       "      <th>50%</th>\n",
       "      <td>1.000000</td>\n",
       "      <td>0.000000</td>\n",
       "      <td>2.000000</td>\n",
       "    </tr>\n",
       "    <tr>\n",
       "      <th>75%</th>\n",
       "      <td>2.000000</td>\n",
       "      <td>1.000000</td>\n",
       "      <td>3.000000</td>\n",
       "    </tr>\n",
       "    <tr>\n",
       "      <th>max</th>\n",
       "      <td>2.000000</td>\n",
       "      <td>1.000000</td>\n",
       "      <td>3.000000</td>\n",
       "    </tr>\n",
       "  </tbody>\n",
       "</table>\n",
       "</div>"
      ],
      "text/plain": [
       "              sex      single       place\n",
       "count  450.000000  450.000000  450.000000\n",
       "mean     1.488889    0.364444    2.046667\n",
       "std      0.500433    0.481810    0.721944\n",
       "min      1.000000    0.000000    1.000000\n",
       "25%      1.000000    0.000000    2.000000\n",
       "50%      1.000000    0.000000    2.000000\n",
       "75%      2.000000    1.000000    3.000000\n",
       "max      2.000000    1.000000    3.000000"
      ]
     },
     "execution_count": 29,
     "metadata": {},
     "output_type": "execute_result"
    }
   ],
   "source": [
    "quan_vars = [\"weight\", \"height\", \"cats\", \"age\", \"income\", \"savings\", \"expenses\"]\n",
    "quan_data = data[qual_vars]\n",
    "desc = quan_data.describe()\n",
    "\n",
    "desc"
   ]
  },
  {
   "cell_type": "code",
   "execution_count": 30,
   "metadata": {},
   "outputs": [
    {
     "data": {
      "text/plain": [
       "sex       1.0\n",
       "single    1.0\n",
       "place     1.0\n",
       "dtype: float64"
      ]
     },
     "execution_count": 30,
     "metadata": {},
     "output_type": "execute_result"
    }
   ],
   "source": [
    "iqr = desc.loc[\"75%\"] - desc.loc[\"25%\"]\n",
    "\n",
    "iqr"
   ]
  },
  {
   "cell_type": "code",
   "execution_count": 31,
   "metadata": {},
   "outputs": [
    {
     "data": {
      "text/plain": [
       "count    446.000000\n",
       "mean     314.641614\n",
       "std      110.529266\n",
       "min        7.300000\n",
       "25%      237.725000\n",
       "50%      337.805000\n",
       "75%      408.417500\n",
       "max      486.790000\n",
       "Name: expenses, dtype: float64"
      ]
     },
     "execution_count": 31,
     "metadata": {},
     "output_type": "execute_result"
    }
   ],
   "source": [
    "expenses = data[\"expenses\"]\n",
    "filtered_expsenses = expenses[expenses >= 0]\n",
    "\n",
    "filtered_expsenses.describe()"
   ]
  },
  {
   "cell_type": "markdown",
   "metadata": {},
   "source": [
    "Key observations:\n",
    "\n",
    "- The **weight** variable seems to be evenly distributed around 89.5 kg with a quite small standard deviation (~3.6 kg)\n",
    "- Number of **cats** also looks to be evenly distributed. Mean and median of this variable are almost equal, an average resident of the Byteland owns 2 cats. Range of this variable is from 0 to 5 cats, so there are no observations with 6 or more cats\n",
    "- Values of the **height** and **age** variables are less concentrated around the mean value (which can be concluded looking at the standard deviation and interquartile range) but also evenly distributed\n",
    "- Range of the **age** variable is from 34 to 73, which means that there are no observations for young habitants. It can restrict our possibilities of reasoning for the **whole** population of the Byteland\n",
    "- The **income** variable is definitely unevenly distributed. Mean and median values differ significantly, and because mean is higher than median we can conclude that the distribution is right-skewed. We can also observe high std and iqr values.\n",
    "- There are some potential errors in the **savings** and (especially) **expenses** variables. The description of the dataset says about a possibility of negative savings values indicating that expenses were greater than the income of a respondent. However there are no negative values for the savings variable (which by only itself could be possible) and there are negative values for the expenses variable (which doesn't make much sense as it's hard to even define a negative expense in this context)\n",
    "- One could argue if there's sense counting descriptive statistics for a variable with potentially incorrect values. However there are only 4 such observations and they don't impact the statistics much, as we can see above\n",
    "- **Savings** and **expenses** variables have similar characteristics to the income variable (all the facts related to the uneven distribution). The savings variable's distribution is also right-skewed, but the expenses variable's distribution seems to be left-skewed\n"
   ]
  },
  {
   "cell_type": "markdown",
   "metadata": {},
   "source": [
    "#### Variables' distributions\n"
   ]
  },
  {
   "cell_type": "code",
   "execution_count": 32,
   "metadata": {},
   "outputs": [],
   "source": [
    "import matplotlib.pyplot as plt\n",
    "import numpy as np\n",
    "import plotly.express as px\n",
    "import plotly.graph_objects as go\n",
    "import scipy.stats as stats\n",
    "import statsmodels.api as sm"
   ]
  },
  {
   "cell_type": "code",
   "execution_count": null,
   "metadata": {},
   "outputs": [
    {
     "data": {
      "application/vnd.plotly.v1+json": {
       "config": {
        "plotlyServerURL": "https://plot.ly"
       },
       "data": [
        {
         "alignmentgroup": "True",
         "bingroup": "x",
         "histnorm": "probability density",
         "hovertemplate": "weight=%{x}<br>probability density=%{y}<extra></extra>",
         "legendgroup": "",
         "marker": {
          "color": "#636efa",
          "pattern": {
           "shape": ""
          }
         },
         "name": "",
         "offsetgroup": "",
         "orientation": "v",
         "showlegend": false,
         "type": "histogram",
         "x": [
          84.99,
          91.06,
          88.3,
          84.51,
          85.72,
          88.47,
          92.47,
          94.66,
          84.46,
          80.64,
          88.87,
          94.59,
          85.64,
          84.26,
          93.33,
          92.49,
          88.9,
          96.07,
          81.98,
          94.74,
          83.7,
          88.09,
          90.08,
          90.29,
          93.21,
          90.26,
          95.49,
          91.08,
          87.75,
          90.3,
          84.6,
          93.3,
          83.46,
          87.24,
          92.95,
          88.48,
          91.64,
          90.4,
          94.04,
          84.72,
          88.02,
          86.82,
          93.24,
          89.67,
          93.48,
          83.29,
          86.54,
          91.19,
          86.61,
          86.33,
          81.33,
          90.28,
          91.34,
          90.71,
          92.04,
          89.58,
          88.87,
          86.56,
          94.02,
          92.1,
          88.59,
          85.06,
          90.37,
          89.61,
          87.09,
          89.79,
          85.75,
          84.97,
          87.04,
          88.67,
          88.02,
          84.93,
          89.54,
          91.35,
          93.61,
          92.21,
          91.37,
          92.43,
          91.41,
          96.31,
          96.67,
          87.01,
          86.93,
          85.83,
          89.08,
          88.67,
          90.61,
          92.54,
          87.13,
          86.57,
          91.37,
          90.61,
          86.28,
          87.5,
          96.67,
          92.91,
          89.24,
          85.4,
          92.98,
          88.68,
          95.46,
          79.97,
          89.48,
          91.5,
          87.44,
          89.61,
          88.76,
          90.94,
          86.06,
          94.44,
          85.16,
          86.59,
          89.44,
          92.03,
          86.7,
          91.71,
          93.45,
          87.33,
          89.23,
          96.65,
          84.59,
          87.31,
          89.17,
          87.36,
          91.48,
          94.57,
          94.59,
          94.81,
          93.2,
          89.55,
          85.65,
          87.21,
          91.56,
          88.06,
          86.61,
          85.68,
          93.69,
          84.64,
          89.95,
          87.98,
          87.8,
          89.12,
          91.18,
          91.25,
          85.28,
          85.76,
          88.46,
          88.93,
          84.84,
          93.01,
          89.12,
          84.31,
          81.39,
          91.34,
          88.78,
          90.17,
          86.24,
          88.92,
          97.62,
          86.33,
          92.97,
          87.31,
          98.65,
          90.03,
          92.7,
          90.41,
          92,
          90.81,
          90.27,
          94.17,
          89.44,
          89.73,
          85.84,
          86,
          88.03,
          86.57,
          85.78,
          87.59,
          92.21,
          88.04,
          92.74,
          85.6,
          93.85,
          88.67,
          91.6,
          92.03,
          91.19,
          84.07,
          85.59,
          94.28,
          83.92,
          90.34,
          87.86,
          87.18,
          93.48,
          84.17,
          94.94,
          87.08,
          94.04,
          89.14,
          88.18,
          85.95,
          93.4,
          88.78,
          92.15,
          87.52,
          83.46,
          89.84,
          85.43,
          96.61,
          81.97,
          91.03,
          88.77,
          85.63,
          93.35,
          94.83,
          88.81,
          92.72,
          86.46,
          92.57,
          93.22,
          95.78,
          80.38,
          87.77,
          91.83,
          92.15,
          88.97,
          86.34,
          88.82,
          91.6,
          88.53,
          85.61,
          96.01,
          87.43,
          88.95,
          91.19,
          87.71,
          86,
          96.39,
          90.01,
          94.05,
          90.45,
          89.36,
          92.19,
          88.63,
          90.46,
          85.5,
          88.51,
          89.25,
          85.96,
          88,
          88.38,
          93.21,
          94.33,
          86.35,
          87.54,
          93.62,
          94.76,
          91.14,
          86.16,
          83.46,
          90.4,
          92.47,
          87.26,
          89.96,
          88.89,
          84.68,
          93.74,
          85.45,
          90.06,
          85.12,
          91.57,
          95.09,
          90.22,
          83.21,
          89.32,
          93.71,
          92.82,
          83.07,
          91.88,
          88.25,
          85.9,
          77.89,
          91.62,
          90.85,
          93.95,
          92.49,
          92.01,
          84.64,
          92.99,
          86.1,
          96.64,
          89.7,
          91.88,
          91.21,
          85.55,
          86.55,
          84.6,
          87.19,
          84.77,
          87.17,
          91.37,
          89.62,
          85.63,
          88.17,
          90.57,
          90.68,
          93.66,
          88.53,
          87.24,
          90.85,
          85.92,
          83.46,
          95.95,
          99.72,
          85.48,
          90.2,
          94.72,
          85.5,
          86.42,
          88.53,
          88.89,
          87.32,
          86.99,
          90.97,
          87.62,
          87.66,
          93.55,
          86.4,
          91.26,
          85.34,
          88.61,
          90.84,
          82.69,
          93.76,
          93.84,
          88.11,
          88.49,
          83.97,
          92.67,
          85.52,
          87.51,
          86.76,
          88.94,
          84.83,
          90.31,
          86.86,
          87.19,
          94.26,
          91.7,
          93.35,
          89.12,
          90.12,
          89.26,
          95.44,
          91.67,
          83.74,
          91.08,
          90.77,
          87.14,
          95.12,
          88.62,
          93.07,
          96.73,
          89.53,
          89.71,
          95.59,
          92.09,
          90.08,
          84.23,
          83.38,
          96.56,
          98.36,
          85.73,
          90.68,
          87.87,
          86.57,
          94.44,
          92.73,
          94.81,
          91.21,
          88.49,
          90.32,
          89.74,
          85.51,
          98.04,
          87.57,
          97.1,
          82.18,
          97.06,
          83.73,
          88.89,
          92.39,
          90.36,
          90.38,
          86.7,
          91.16,
          91.13,
          88.26,
          84.22,
          92.4,
          87.96,
          94.22,
          88.51,
          90.16,
          88.99,
          90.21,
          84.44,
          92.06,
          92.4,
          91.67,
          94.66,
          90.41,
          90.22,
          82.69,
          91.04,
          93.12,
          85.49,
          93.82,
          90.71,
          93.15,
          91.18,
          90.61,
          91.32,
          85.85,
          91.21,
          87.87,
          89.76,
          92.57,
          86.55,
          90.78,
          90.84,
          93.12,
          86.87,
          87.59,
          85.21,
          85.35,
          87.69,
          93.59,
          89.07,
          88.25,
          92.46,
          89.4,
          88.51,
          90.29,
          86.48,
          91.96,
          85.15,
          86.92,
          88.9
         ],
         "xaxis": "x",
         "yaxis": "y"
        },
        {
         "name": "Normal distribution",
         "type": "scatter",
         "x": [
          77.89,
          78.33551020408163,
          78.78102040816327,
          79.2265306122449,
          79.67204081632653,
          80.11755102040816,
          80.5630612244898,
          81.00857142857143,
          81.45408163265306,
          81.8995918367347,
          82.34510204081633,
          82.79061224489796,
          83.23612244897959,
          83.68163265306123,
          84.12714285714286,
          84.57265306122449,
          85.01816326530613,
          85.46367346938776,
          85.90918367346939,
          86.35469387755101,
          86.80020408163266,
          87.24571428571429,
          87.69122448979591,
          88.13673469387754,
          88.58224489795919,
          89.02775510204081,
          89.47326530612244,
          89.91877551020409,
          90.36428571428571,
          90.80979591836734,
          91.25530612244899,
          91.70081632653061,
          92.14632653061224,
          92.59183673469387,
          93.03734693877551,
          93.48285714285714,
          93.92836734693877,
          94.3738775510204,
          94.81938775510204,
          95.26489795918367,
          95.7104081632653,
          96.15591836734694,
          96.60142857142857,
          97.0469387755102,
          97.49244897959184,
          97.93795918367347,
          98.3834693877551,
          98.82897959183674,
          99.27448979591837,
          99.72
         ],
         "y": [
          0.0006247813323457466,
          0.0009232547334815362,
          0.0013435903971711902,
          0.0019255911876727473,
          0.002717772741952991,
          0.0037775831938146862,
          0.00517090771374966,
          0.006970619653797698,
          0.009253964652176528,
          0.012098628356173343,
          0.015577447156364131,
          0.019751873123953493,
          0.024664489904196986,
          0.030331077530669714,
          0.036732914717562355,
          0.043810155242665134,
          0.05145718734857029,
          0.05952085294242869,
          0.06780224881296952,
          0.07606255350545306,
          0.0840329391862607,
          0.09142817630378162,
          0.09796307535477858,
          0.10337049932609847,
          0.10741938658346942,
          0.10993109962325698,
          0.11079249091080116,
          0.10996435501139326,
          0.10748438754739652,
          0.10346433990753404,
          0.09808166886233967,
          0.09156655023139308,
          0.0841855800127188,
          0.07622376817099756,
          0.06796651016582225,
          0.05968310068878588,
          0.05161306317625297,
          0.043956159634676334,
          0.03686648221748505,
          0.03045057565069019,
          0.02476915353089725,
          0.019841690606756418,
          0.015653016096873605,
          0.012160998659466767,
          0.009304484132802895,
          0.007010794041268033,
          0.005202282935441653,
          0.00380165391488464,
          0.0027359177572260766,
          0.0019390336614677646
         ]
        }
       ],
       "layout": {
        "barmode": "relative",
        "legend": {
         "tracegroupgap": 0
        },
        "template": {
         "data": {
          "bar": [
           {
            "error_x": {
             "color": "#2a3f5f"
            },
            "error_y": {
             "color": "#2a3f5f"
            },
            "marker": {
             "line": {
              "color": "#E5ECF6",
              "width": 0.5
             },
             "pattern": {
              "fillmode": "overlay",
              "size": 10,
              "solidity": 0.2
             }
            },
            "type": "bar"
           }
          ],
          "barpolar": [
           {
            "marker": {
             "line": {
              "color": "#E5ECF6",
              "width": 0.5
             },
             "pattern": {
              "fillmode": "overlay",
              "size": 10,
              "solidity": 0.2
             }
            },
            "type": "barpolar"
           }
          ],
          "carpet": [
           {
            "aaxis": {
             "endlinecolor": "#2a3f5f",
             "gridcolor": "white",
             "linecolor": "white",
             "minorgridcolor": "white",
             "startlinecolor": "#2a3f5f"
            },
            "baxis": {
             "endlinecolor": "#2a3f5f",
             "gridcolor": "white",
             "linecolor": "white",
             "minorgridcolor": "white",
             "startlinecolor": "#2a3f5f"
            },
            "type": "carpet"
           }
          ],
          "choropleth": [
           {
            "colorbar": {
             "outlinewidth": 0,
             "ticks": ""
            },
            "type": "choropleth"
           }
          ],
          "contour": [
           {
            "colorbar": {
             "outlinewidth": 0,
             "ticks": ""
            },
            "colorscale": [
             [
              0,
              "#0d0887"
             ],
             [
              0.1111111111111111,
              "#46039f"
             ],
             [
              0.2222222222222222,
              "#7201a8"
             ],
             [
              0.3333333333333333,
              "#9c179e"
             ],
             [
              0.4444444444444444,
              "#bd3786"
             ],
             [
              0.5555555555555556,
              "#d8576b"
             ],
             [
              0.6666666666666666,
              "#ed7953"
             ],
             [
              0.7777777777777778,
              "#fb9f3a"
             ],
             [
              0.8888888888888888,
              "#fdca26"
             ],
             [
              1,
              "#f0f921"
             ]
            ],
            "type": "contour"
           }
          ],
          "contourcarpet": [
           {
            "colorbar": {
             "outlinewidth": 0,
             "ticks": ""
            },
            "type": "contourcarpet"
           }
          ],
          "heatmap": [
           {
            "colorbar": {
             "outlinewidth": 0,
             "ticks": ""
            },
            "colorscale": [
             [
              0,
              "#0d0887"
             ],
             [
              0.1111111111111111,
              "#46039f"
             ],
             [
              0.2222222222222222,
              "#7201a8"
             ],
             [
              0.3333333333333333,
              "#9c179e"
             ],
             [
              0.4444444444444444,
              "#bd3786"
             ],
             [
              0.5555555555555556,
              "#d8576b"
             ],
             [
              0.6666666666666666,
              "#ed7953"
             ],
             [
              0.7777777777777778,
              "#fb9f3a"
             ],
             [
              0.8888888888888888,
              "#fdca26"
             ],
             [
              1,
              "#f0f921"
             ]
            ],
            "type": "heatmap"
           }
          ],
          "heatmapgl": [
           {
            "colorbar": {
             "outlinewidth": 0,
             "ticks": ""
            },
            "colorscale": [
             [
              0,
              "#0d0887"
             ],
             [
              0.1111111111111111,
              "#46039f"
             ],
             [
              0.2222222222222222,
              "#7201a8"
             ],
             [
              0.3333333333333333,
              "#9c179e"
             ],
             [
              0.4444444444444444,
              "#bd3786"
             ],
             [
              0.5555555555555556,
              "#d8576b"
             ],
             [
              0.6666666666666666,
              "#ed7953"
             ],
             [
              0.7777777777777778,
              "#fb9f3a"
             ],
             [
              0.8888888888888888,
              "#fdca26"
             ],
             [
              1,
              "#f0f921"
             ]
            ],
            "type": "heatmapgl"
           }
          ],
          "histogram": [
           {
            "marker": {
             "pattern": {
              "fillmode": "overlay",
              "size": 10,
              "solidity": 0.2
             }
            },
            "type": "histogram"
           }
          ],
          "histogram2d": [
           {
            "colorbar": {
             "outlinewidth": 0,
             "ticks": ""
            },
            "colorscale": [
             [
              0,
              "#0d0887"
             ],
             [
              0.1111111111111111,
              "#46039f"
             ],
             [
              0.2222222222222222,
              "#7201a8"
             ],
             [
              0.3333333333333333,
              "#9c179e"
             ],
             [
              0.4444444444444444,
              "#bd3786"
             ],
             [
              0.5555555555555556,
              "#d8576b"
             ],
             [
              0.6666666666666666,
              "#ed7953"
             ],
             [
              0.7777777777777778,
              "#fb9f3a"
             ],
             [
              0.8888888888888888,
              "#fdca26"
             ],
             [
              1,
              "#f0f921"
             ]
            ],
            "type": "histogram2d"
           }
          ],
          "histogram2dcontour": [
           {
            "colorbar": {
             "outlinewidth": 0,
             "ticks": ""
            },
            "colorscale": [
             [
              0,
              "#0d0887"
             ],
             [
              0.1111111111111111,
              "#46039f"
             ],
             [
              0.2222222222222222,
              "#7201a8"
             ],
             [
              0.3333333333333333,
              "#9c179e"
             ],
             [
              0.4444444444444444,
              "#bd3786"
             ],
             [
              0.5555555555555556,
              "#d8576b"
             ],
             [
              0.6666666666666666,
              "#ed7953"
             ],
             [
              0.7777777777777778,
              "#fb9f3a"
             ],
             [
              0.8888888888888888,
              "#fdca26"
             ],
             [
              1,
              "#f0f921"
             ]
            ],
            "type": "histogram2dcontour"
           }
          ],
          "mesh3d": [
           {
            "colorbar": {
             "outlinewidth": 0,
             "ticks": ""
            },
            "type": "mesh3d"
           }
          ],
          "parcoords": [
           {
            "line": {
             "colorbar": {
              "outlinewidth": 0,
              "ticks": ""
             }
            },
            "type": "parcoords"
           }
          ],
          "pie": [
           {
            "automargin": true,
            "type": "pie"
           }
          ],
          "scatter": [
           {
            "fillpattern": {
             "fillmode": "overlay",
             "size": 10,
             "solidity": 0.2
            },
            "type": "scatter"
           }
          ],
          "scatter3d": [
           {
            "line": {
             "colorbar": {
              "outlinewidth": 0,
              "ticks": ""
             }
            },
            "marker": {
             "colorbar": {
              "outlinewidth": 0,
              "ticks": ""
             }
            },
            "type": "scatter3d"
           }
          ],
          "scattercarpet": [
           {
            "marker": {
             "colorbar": {
              "outlinewidth": 0,
              "ticks": ""
             }
            },
            "type": "scattercarpet"
           }
          ],
          "scattergeo": [
           {
            "marker": {
             "colorbar": {
              "outlinewidth": 0,
              "ticks": ""
             }
            },
            "type": "scattergeo"
           }
          ],
          "scattergl": [
           {
            "marker": {
             "colorbar": {
              "outlinewidth": 0,
              "ticks": ""
             }
            },
            "type": "scattergl"
           }
          ],
          "scattermapbox": [
           {
            "marker": {
             "colorbar": {
              "outlinewidth": 0,
              "ticks": ""
             }
            },
            "type": "scattermapbox"
           }
          ],
          "scatterpolar": [
           {
            "marker": {
             "colorbar": {
              "outlinewidth": 0,
              "ticks": ""
             }
            },
            "type": "scatterpolar"
           }
          ],
          "scatterpolargl": [
           {
            "marker": {
             "colorbar": {
              "outlinewidth": 0,
              "ticks": ""
             }
            },
            "type": "scatterpolargl"
           }
          ],
          "scatterternary": [
           {
            "marker": {
             "colorbar": {
              "outlinewidth": 0,
              "ticks": ""
             }
            },
            "type": "scatterternary"
           }
          ],
          "surface": [
           {
            "colorbar": {
             "outlinewidth": 0,
             "ticks": ""
            },
            "colorscale": [
             [
              0,
              "#0d0887"
             ],
             [
              0.1111111111111111,
              "#46039f"
             ],
             [
              0.2222222222222222,
              "#7201a8"
             ],
             [
              0.3333333333333333,
              "#9c179e"
             ],
             [
              0.4444444444444444,
              "#bd3786"
             ],
             [
              0.5555555555555556,
              "#d8576b"
             ],
             [
              0.6666666666666666,
              "#ed7953"
             ],
             [
              0.7777777777777778,
              "#fb9f3a"
             ],
             [
              0.8888888888888888,
              "#fdca26"
             ],
             [
              1,
              "#f0f921"
             ]
            ],
            "type": "surface"
           }
          ],
          "table": [
           {
            "cells": {
             "fill": {
              "color": "#EBF0F8"
             },
             "line": {
              "color": "white"
             }
            },
            "header": {
             "fill": {
              "color": "#C8D4E3"
             },
             "line": {
              "color": "white"
             }
            },
            "type": "table"
           }
          ]
         },
         "layout": {
          "annotationdefaults": {
           "arrowcolor": "#2a3f5f",
           "arrowhead": 0,
           "arrowwidth": 1
          },
          "autotypenumbers": "strict",
          "coloraxis": {
           "colorbar": {
            "outlinewidth": 0,
            "ticks": ""
           }
          },
          "colorscale": {
           "diverging": [
            [
             0,
             "#8e0152"
            ],
            [
             0.1,
             "#c51b7d"
            ],
            [
             0.2,
             "#de77ae"
            ],
            [
             0.3,
             "#f1b6da"
            ],
            [
             0.4,
             "#fde0ef"
            ],
            [
             0.5,
             "#f7f7f7"
            ],
            [
             0.6,
             "#e6f5d0"
            ],
            [
             0.7,
             "#b8e186"
            ],
            [
             0.8,
             "#7fbc41"
            ],
            [
             0.9,
             "#4d9221"
            ],
            [
             1,
             "#276419"
            ]
           ],
           "sequential": [
            [
             0,
             "#0d0887"
            ],
            [
             0.1111111111111111,
             "#46039f"
            ],
            [
             0.2222222222222222,
             "#7201a8"
            ],
            [
             0.3333333333333333,
             "#9c179e"
            ],
            [
             0.4444444444444444,
             "#bd3786"
            ],
            [
             0.5555555555555556,
             "#d8576b"
            ],
            [
             0.6666666666666666,
             "#ed7953"
            ],
            [
             0.7777777777777778,
             "#fb9f3a"
            ],
            [
             0.8888888888888888,
             "#fdca26"
            ],
            [
             1,
             "#f0f921"
            ]
           ],
           "sequentialminus": [
            [
             0,
             "#0d0887"
            ],
            [
             0.1111111111111111,
             "#46039f"
            ],
            [
             0.2222222222222222,
             "#7201a8"
            ],
            [
             0.3333333333333333,
             "#9c179e"
            ],
            [
             0.4444444444444444,
             "#bd3786"
            ],
            [
             0.5555555555555556,
             "#d8576b"
            ],
            [
             0.6666666666666666,
             "#ed7953"
            ],
            [
             0.7777777777777778,
             "#fb9f3a"
            ],
            [
             0.8888888888888888,
             "#fdca26"
            ],
            [
             1,
             "#f0f921"
            ]
           ]
          },
          "colorway": [
           "#636efa",
           "#EF553B",
           "#00cc96",
           "#ab63fa",
           "#FFA15A",
           "#19d3f3",
           "#FF6692",
           "#B6E880",
           "#FF97FF",
           "#FECB52"
          ],
          "font": {
           "color": "#2a3f5f"
          },
          "geo": {
           "bgcolor": "white",
           "lakecolor": "white",
           "landcolor": "#E5ECF6",
           "showlakes": true,
           "showland": true,
           "subunitcolor": "white"
          },
          "hoverlabel": {
           "align": "left"
          },
          "hovermode": "closest",
          "mapbox": {
           "style": "light"
          },
          "paper_bgcolor": "white",
          "plot_bgcolor": "#E5ECF6",
          "polar": {
           "angularaxis": {
            "gridcolor": "white",
            "linecolor": "white",
            "ticks": ""
           },
           "bgcolor": "#E5ECF6",
           "radialaxis": {
            "gridcolor": "white",
            "linecolor": "white",
            "ticks": ""
           }
          },
          "scene": {
           "xaxis": {
            "backgroundcolor": "#E5ECF6",
            "gridcolor": "white",
            "gridwidth": 2,
            "linecolor": "white",
            "showbackground": true,
            "ticks": "",
            "zerolinecolor": "white"
           },
           "yaxis": {
            "backgroundcolor": "#E5ECF6",
            "gridcolor": "white",
            "gridwidth": 2,
            "linecolor": "white",
            "showbackground": true,
            "ticks": "",
            "zerolinecolor": "white"
           },
           "zaxis": {
            "backgroundcolor": "#E5ECF6",
            "gridcolor": "white",
            "gridwidth": 2,
            "linecolor": "white",
            "showbackground": true,
            "ticks": "",
            "zerolinecolor": "white"
           }
          },
          "shapedefaults": {
           "line": {
            "color": "#2a3f5f"
           }
          },
          "ternary": {
           "aaxis": {
            "gridcolor": "white",
            "linecolor": "white",
            "ticks": ""
           },
           "baxis": {
            "gridcolor": "white",
            "linecolor": "white",
            "ticks": ""
           },
           "bgcolor": "#E5ECF6",
           "caxis": {
            "gridcolor": "white",
            "linecolor": "white",
            "ticks": ""
           }
          },
          "title": {
           "x": 0.05
          },
          "xaxis": {
           "automargin": true,
           "gridcolor": "white",
           "linecolor": "white",
           "ticks": "",
           "title": {
            "standoff": 15
           },
           "zerolinecolor": "white",
           "zerolinewidth": 2
          },
          "yaxis": {
           "automargin": true,
           "gridcolor": "white",
           "linecolor": "white",
           "ticks": "",
           "title": {
            "standoff": 15
           },
           "zerolinecolor": "white",
           "zerolinewidth": 2
          }
         }
        },
        "title": {
         "text": "Histogram of weight variable vs Normal Distribution PDF"
        },
        "xaxis": {
         "anchor": "y",
         "domain": [
          0,
          1
         ],
         "title": {
          "text": "weight"
         }
        },
        "yaxis": {
         "anchor": "x",
         "domain": [
          0,
          1
         ],
         "title": {
          "text": "probability density"
         }
        }
       }
      }
     },
     "metadata": {},
     "output_type": "display_data"
    },
    {
     "data": {
      "application/vnd.plotly.v1+json": {
       "config": {
        "plotlyServerURL": "https://plot.ly"
       },
       "data": [
        {
         "alignmentgroup": "True",
         "bingroup": "x",
         "histnorm": "probability density",
         "hovertemplate": "height=%{x}<br>probability density=%{y}<extra></extra>",
         "legendgroup": "",
         "marker": {
          "color": "#636efa",
          "pattern": {
           "shape": ""
          }
         },
         "name": "",
         "offsetgroup": "",
         "orientation": "v",
         "showlegend": false,
         "type": "histogram",
         "x": [
          171.72,
          175.83,
          175.34,
          167.64,
          171.62,
          168.75,
          185.12,
          173.19,
          170.66,
          172.6,
          179.2,
          188.42,
          177.76,
          170.04,
          187.06,
          186.79,
          166.81,
          194.87,
          166.27,
          184.7,
          174.03,
          176.51,
          184.24,
          178.45,
          177.66,
          189.3,
          179.2,
          181.08,
          174.82,
          168.28,
          171.42,
          185.17,
          169.2,
          178.77,
          176.55,
          184.81,
          165.59,
          175.88,
          183.33,
          175.57,
          194.31,
          170.15,
          186.38,
          184.88,
          191.5,
          174.33,
          166.51,
          176.94,
          171.53,
          169.28,
          169.88,
          175.98,
          186.83,
          188.61,
          183.77,
          182.74,
          170.48,
          177.66,
          184.59,
          185.35,
          170.45,
          167.91,
          174.98,
          171.07,
          171.83,
          182.45,
          177.19,
          171.08,
          163.41,
          189.21,
          171.52,
          171.05,
          184.98,
          178.51,
          188.3,
          171.2,
          181.4,
          182.17,
          180.9,
          181.37,
          177.41,
          175.86,
          162.97,
          169.99,
          174.25,
          189.01,
          176.7,
          188.67,
          176.42,
          162.84,
          180.26,
          166.03,
          173.6,
          177.97,
          184.8,
          181.62,
          168.34,
          174.58,
          185.11,
          174.1,
          187.94,
          159.57,
          182.1,
          173.26,
          168.26,
          183.75,
          162.14,
          176.9,
          164.65,
          179.46,
          182.53,
          168.87,
          169.65,
          177.2,
          172.66,
          187.56,
          183.96,
          172.24,
          166.14,
          180.92,
          167.51,
          168.1,
          169.13,
          177.98,
          170.5,
          188.01,
          185.56,
          181.36,
          183.16,
          167.35,
          169.07,
          174.5,
          186.14,
          162.19,
          180.09,
          171.51,
          181.12,
          173.78,
          178.16,
          170.93,
          191.78,
          177.57,
          174.59,
          181.59,
          175.23,
          169.75,
          173.64,
          181.2,
          170.22,
          186.97,
          184.29,
          171.73,
          166.27,
          187.91,
          167.48,
          171.95,
          167.44,
          176.62,
          195.2,
          165.53,
          189.87,
          167.7,
          183.92,
          169.21,
          184.54,
          182.35,
          186.39,
          186.24,
          188.96,
          188.32,
          184.2,
          174.29,
          172.87,
          165.25,
          182.96,
          172.59,
          176.65,
          175.41,
          185.45,
          168.5,
          187.43,
          168.33,
          182.53,
          180.92,
          180.04,
          184.12,
          175.02,
          173.68,
          172.27,
          182.02,
          170.55,
          187.6,
          183.94,
          170.66,
          177.08,
          167.75,
          179.34,
          168.33,
          184.32,
          186.4,
          178.14,
          170.37,
          187.99,
          168.16,
          187.02,
          178.5,
          172.18,
          185.18,
          170.82,
          187.11,
          167.98,
          188.33,
          179.69,
          170.11,
          185.23,
          186.34,
          172.61,
          188.29,
          174.95,
          177.87,
          192.75,
          175.02,
          165.49,
          181.44,
          181.34,
          182.47,
          171.36,
          183.72,
          175.79,
          167.78,
          175.77,
          173.08,
          181.93,
          164.32,
          166.29,
          168.49,
          162.99,
          180.08,
          180.94,
          188.03,
          179.37,
          187.77,
          166.48,
          188.45,
          187.54,
          171.86,
          172.38,
          176.55,
          174.3,
          165.51,
          173.13,
          177.52,
          173.23,
          179.46,
          170.03,
          187.27,
          183.11,
          192.03,
          182.63,
          166.86,
          166.88,
          187.58,
          186.48,
          170.07,
          174.07,
          181.14,
          158.67,
          167.67,
          167.19,
          182.12,
          162.02,
          168.83,
          193.46,
          167.08,
          161.13,
          179.37,
          187.22,
          187.18,
          174.11,
          188.98,
          174.25,
          166.91,
          163.59,
          186.56,
          172.95,
          174.5,
          190.54,
          193.54,
          169.53,
          167.71,
          171.87,
          179.42,
          170.75,
          185.94,
          188.34,
          170.22,
          172.84,
          162.04,
          169.01,
          164.41,
          175.09,
          164.99,
          185.4,
          165.71,
          189.69,
          178.76,
          180.77,
          187.18,
          169.24,
          180.21,
          185.16,
          174.01,
          181.19,
          182.48,
          183.84,
          178.64,
          175.76,
          179.11,
          172.5,
          184.6,
          170.59,
          180.73,
          175.04,
          174.35,
          183.01,
          176.59,
          168.73,
          187.03,
          168.63,
          184.94,
          169.49,
          175.76,
          170.44,
          170.48,
          171.68,
          190.23,
          172.24,
          180.25,
          182.23,
          175.61,
          181.65,
          168.1,
          174.11,
          175.33,
          159.87,
          167.49,
          178.83,
          185.65,
          187.31,
          169.87,
          184.02,
          167.75,
          173.88,
          180.47,
          172.91,
          181.14,
          170.77,
          183.28,
          175.27,
          170.44,
          188.15,
          174.48,
          185.53,
          183.41,
          176.1,
          186.89,
          181.37,
          189.14,
          168.06,
          170.78,
          180.98,
          180.21,
          188.65,
          172.73,
          176.13,
          177.87,
          165.35,
          181.65,
          188.88,
          193.42,
          184.4,
          172.58,
          189.91,
          171.04,
          175.64,
          192.33,
          174.19,
          189.4,
          174.45,
          180.12,
          168.84,
          173,
          177.84,
          166.44,
          179.51,
          167.57,
          183.74,
          182.82,
          168.97,
          172.56,
          193.67,
          186.99,
          183.69,
          172.77,
          184.58,
          169.46,
          161.87,
          171.97,
          192.21,
          168.96,
          189.92,
          184.59,
          183.38,
          182.93,
          178.76,
          180.82,
          186.91,
          167.29,
          178.14,
          175.9,
          186.66,
          180.66,
          175.15,
          180.68,
          174.16,
          184.93,
          181.23,
          165.26,
          184.55,
          171.5,
          184.98,
          178.01,
          184.74,
          173.23,
          175.51,
          169.88,
          173.42,
          171.37,
          195.79,
          181.46,
          166.98,
          183.95,
          182.12,
          191.53,
          181.83,
          168.03,
          171.22,
          174.71,
          166.04,
          178.8
         ],
         "xaxis": "x",
         "yaxis": "y"
        },
        {
         "name": "Normal distribution",
         "type": "scatter",
         "x": [
          158.67,
          159.42755102040815,
          160.1851020408163,
          160.9426530612245,
          161.70020408163265,
          162.4577551020408,
          163.21530612244896,
          163.97285714285712,
          164.73040816326528,
          165.48795918367347,
          166.24551020408163,
          167.00306122448978,
          167.76061224489794,
          168.5181632653061,
          169.2757142857143,
          170.03326530612244,
          170.7908163265306,
          171.54836734693876,
          172.30591836734692,
          173.0634693877551,
          173.82102040816326,
          174.57857142857142,
          175.33612244897958,
          176.09367346938774,
          176.8512244897959,
          177.60877551020408,
          178.36632653061224,
          179.1238775510204,
          179.88142857142856,
          180.63897959183672,
          181.39653061224487,
          182.15408163265306,
          182.91163265306122,
          183.66918367346938,
          184.42673469387753,
          185.1842857142857,
          185.94183673469388,
          186.69938775510204,
          187.4569387755102,
          188.21448979591835,
          188.9720408163265,
          189.7295918367347,
          190.48714285714286,
          191.24469387755101,
          192.00224489795917,
          192.75979591836733,
          193.51734693877552,
          194.27489795918368,
          195.03244897959183,
          195.79
         ],
         "y": [
          0.003185175624622962,
          0.003969970349262806,
          0.004903045224413057,
          0.006000249250480324,
          0.007276079572935631,
          0.008742796000010331,
          0.01040945533756445,
          0.012280906467456085,
          0.014356798256596002,
          0.01663066164882918,
          0.01908913346848569,
          0.02171139143886006,
          0.024468866789733413,
          0.02732529204028928,
          0.030237127003948615,
          0.03315438621793422,
          0.036021866871667495,
          0.03878074945150369,
          0.04137051573197666,
          0.04373110270314419,
          0.04580518887939398,
          0.047540493372522565,
          0.048891959913982604,
          0.04982369884730122,
          0.05031057038071582,
          0.050339311640149084,
          0.04990913700067812,
          0.04903177376880091,
          0.04773093095346684,
          0.0460412347133125,
          0.04400669719492886,
          0.041678813245198676,
          0.03911439977727406,
          0.03637330400190929,
          0.0335161087443031,
          0.030601955946712136,
          0.027686594289304523,
          0.024820735363081953,
          0.022048777147062656,
          0.019407926019593798,
          0.016927721469313425,
          0.01462994310691872,
          0.012528859133227453,
          0.010631760181217236,
          0.008939712938776465,
          0.007448464145483275,
          0.006149426937652768,
          0.005030687225995401,
          0.004077976734556544,
          0.0032755703185828426
         ]
        }
       ],
       "layout": {
        "barmode": "relative",
        "legend": {
         "tracegroupgap": 0
        },
        "template": {
         "data": {
          "bar": [
           {
            "error_x": {
             "color": "#2a3f5f"
            },
            "error_y": {
             "color": "#2a3f5f"
            },
            "marker": {
             "line": {
              "color": "#E5ECF6",
              "width": 0.5
             },
             "pattern": {
              "fillmode": "overlay",
              "size": 10,
              "solidity": 0.2
             }
            },
            "type": "bar"
           }
          ],
          "barpolar": [
           {
            "marker": {
             "line": {
              "color": "#E5ECF6",
              "width": 0.5
             },
             "pattern": {
              "fillmode": "overlay",
              "size": 10,
              "solidity": 0.2
             }
            },
            "type": "barpolar"
           }
          ],
          "carpet": [
           {
            "aaxis": {
             "endlinecolor": "#2a3f5f",
             "gridcolor": "white",
             "linecolor": "white",
             "minorgridcolor": "white",
             "startlinecolor": "#2a3f5f"
            },
            "baxis": {
             "endlinecolor": "#2a3f5f",
             "gridcolor": "white",
             "linecolor": "white",
             "minorgridcolor": "white",
             "startlinecolor": "#2a3f5f"
            },
            "type": "carpet"
           }
          ],
          "choropleth": [
           {
            "colorbar": {
             "outlinewidth": 0,
             "ticks": ""
            },
            "type": "choropleth"
           }
          ],
          "contour": [
           {
            "colorbar": {
             "outlinewidth": 0,
             "ticks": ""
            },
            "colorscale": [
             [
              0,
              "#0d0887"
             ],
             [
              0.1111111111111111,
              "#46039f"
             ],
             [
              0.2222222222222222,
              "#7201a8"
             ],
             [
              0.3333333333333333,
              "#9c179e"
             ],
             [
              0.4444444444444444,
              "#bd3786"
             ],
             [
              0.5555555555555556,
              "#d8576b"
             ],
             [
              0.6666666666666666,
              "#ed7953"
             ],
             [
              0.7777777777777778,
              "#fb9f3a"
             ],
             [
              0.8888888888888888,
              "#fdca26"
             ],
             [
              1,
              "#f0f921"
             ]
            ],
            "type": "contour"
           }
          ],
          "contourcarpet": [
           {
            "colorbar": {
             "outlinewidth": 0,
             "ticks": ""
            },
            "type": "contourcarpet"
           }
          ],
          "heatmap": [
           {
            "colorbar": {
             "outlinewidth": 0,
             "ticks": ""
            },
            "colorscale": [
             [
              0,
              "#0d0887"
             ],
             [
              0.1111111111111111,
              "#46039f"
             ],
             [
              0.2222222222222222,
              "#7201a8"
             ],
             [
              0.3333333333333333,
              "#9c179e"
             ],
             [
              0.4444444444444444,
              "#bd3786"
             ],
             [
              0.5555555555555556,
              "#d8576b"
             ],
             [
              0.6666666666666666,
              "#ed7953"
             ],
             [
              0.7777777777777778,
              "#fb9f3a"
             ],
             [
              0.8888888888888888,
              "#fdca26"
             ],
             [
              1,
              "#f0f921"
             ]
            ],
            "type": "heatmap"
           }
          ],
          "heatmapgl": [
           {
            "colorbar": {
             "outlinewidth": 0,
             "ticks": ""
            },
            "colorscale": [
             [
              0,
              "#0d0887"
             ],
             [
              0.1111111111111111,
              "#46039f"
             ],
             [
              0.2222222222222222,
              "#7201a8"
             ],
             [
              0.3333333333333333,
              "#9c179e"
             ],
             [
              0.4444444444444444,
              "#bd3786"
             ],
             [
              0.5555555555555556,
              "#d8576b"
             ],
             [
              0.6666666666666666,
              "#ed7953"
             ],
             [
              0.7777777777777778,
              "#fb9f3a"
             ],
             [
              0.8888888888888888,
              "#fdca26"
             ],
             [
              1,
              "#f0f921"
             ]
            ],
            "type": "heatmapgl"
           }
          ],
          "histogram": [
           {
            "marker": {
             "pattern": {
              "fillmode": "overlay",
              "size": 10,
              "solidity": 0.2
             }
            },
            "type": "histogram"
           }
          ],
          "histogram2d": [
           {
            "colorbar": {
             "outlinewidth": 0,
             "ticks": ""
            },
            "colorscale": [
             [
              0,
              "#0d0887"
             ],
             [
              0.1111111111111111,
              "#46039f"
             ],
             [
              0.2222222222222222,
              "#7201a8"
             ],
             [
              0.3333333333333333,
              "#9c179e"
             ],
             [
              0.4444444444444444,
              "#bd3786"
             ],
             [
              0.5555555555555556,
              "#d8576b"
             ],
             [
              0.6666666666666666,
              "#ed7953"
             ],
             [
              0.7777777777777778,
              "#fb9f3a"
             ],
             [
              0.8888888888888888,
              "#fdca26"
             ],
             [
              1,
              "#f0f921"
             ]
            ],
            "type": "histogram2d"
           }
          ],
          "histogram2dcontour": [
           {
            "colorbar": {
             "outlinewidth": 0,
             "ticks": ""
            },
            "colorscale": [
             [
              0,
              "#0d0887"
             ],
             [
              0.1111111111111111,
              "#46039f"
             ],
             [
              0.2222222222222222,
              "#7201a8"
             ],
             [
              0.3333333333333333,
              "#9c179e"
             ],
             [
              0.4444444444444444,
              "#bd3786"
             ],
             [
              0.5555555555555556,
              "#d8576b"
             ],
             [
              0.6666666666666666,
              "#ed7953"
             ],
             [
              0.7777777777777778,
              "#fb9f3a"
             ],
             [
              0.8888888888888888,
              "#fdca26"
             ],
             [
              1,
              "#f0f921"
             ]
            ],
            "type": "histogram2dcontour"
           }
          ],
          "mesh3d": [
           {
            "colorbar": {
             "outlinewidth": 0,
             "ticks": ""
            },
            "type": "mesh3d"
           }
          ],
          "parcoords": [
           {
            "line": {
             "colorbar": {
              "outlinewidth": 0,
              "ticks": ""
             }
            },
            "type": "parcoords"
           }
          ],
          "pie": [
           {
            "automargin": true,
            "type": "pie"
           }
          ],
          "scatter": [
           {
            "fillpattern": {
             "fillmode": "overlay",
             "size": 10,
             "solidity": 0.2
            },
            "type": "scatter"
           }
          ],
          "scatter3d": [
           {
            "line": {
             "colorbar": {
              "outlinewidth": 0,
              "ticks": ""
             }
            },
            "marker": {
             "colorbar": {
              "outlinewidth": 0,
              "ticks": ""
             }
            },
            "type": "scatter3d"
           }
          ],
          "scattercarpet": [
           {
            "marker": {
             "colorbar": {
              "outlinewidth": 0,
              "ticks": ""
             }
            },
            "type": "scattercarpet"
           }
          ],
          "scattergeo": [
           {
            "marker": {
             "colorbar": {
              "outlinewidth": 0,
              "ticks": ""
             }
            },
            "type": "scattergeo"
           }
          ],
          "scattergl": [
           {
            "marker": {
             "colorbar": {
              "outlinewidth": 0,
              "ticks": ""
             }
            },
            "type": "scattergl"
           }
          ],
          "scattermapbox": [
           {
            "marker": {
             "colorbar": {
              "outlinewidth": 0,
              "ticks": ""
             }
            },
            "type": "scattermapbox"
           }
          ],
          "scatterpolar": [
           {
            "marker": {
             "colorbar": {
              "outlinewidth": 0,
              "ticks": ""
             }
            },
            "type": "scatterpolar"
           }
          ],
          "scatterpolargl": [
           {
            "marker": {
             "colorbar": {
              "outlinewidth": 0,
              "ticks": ""
             }
            },
            "type": "scatterpolargl"
           }
          ],
          "scatterternary": [
           {
            "marker": {
             "colorbar": {
              "outlinewidth": 0,
              "ticks": ""
             }
            },
            "type": "scatterternary"
           }
          ],
          "surface": [
           {
            "colorbar": {
             "outlinewidth": 0,
             "ticks": ""
            },
            "colorscale": [
             [
              0,
              "#0d0887"
             ],
             [
              0.1111111111111111,
              "#46039f"
             ],
             [
              0.2222222222222222,
              "#7201a8"
             ],
             [
              0.3333333333333333,
              "#9c179e"
             ],
             [
              0.4444444444444444,
              "#bd3786"
             ],
             [
              0.5555555555555556,
              "#d8576b"
             ],
             [
              0.6666666666666666,
              "#ed7953"
             ],
             [
              0.7777777777777778,
              "#fb9f3a"
             ],
             [
              0.8888888888888888,
              "#fdca26"
             ],
             [
              1,
              "#f0f921"
             ]
            ],
            "type": "surface"
           }
          ],
          "table": [
           {
            "cells": {
             "fill": {
              "color": "#EBF0F8"
             },
             "line": {
              "color": "white"
             }
            },
            "header": {
             "fill": {
              "color": "#C8D4E3"
             },
             "line": {
              "color": "white"
             }
            },
            "type": "table"
           }
          ]
         },
         "layout": {
          "annotationdefaults": {
           "arrowcolor": "#2a3f5f",
           "arrowhead": 0,
           "arrowwidth": 1
          },
          "autotypenumbers": "strict",
          "coloraxis": {
           "colorbar": {
            "outlinewidth": 0,
            "ticks": ""
           }
          },
          "colorscale": {
           "diverging": [
            [
             0,
             "#8e0152"
            ],
            [
             0.1,
             "#c51b7d"
            ],
            [
             0.2,
             "#de77ae"
            ],
            [
             0.3,
             "#f1b6da"
            ],
            [
             0.4,
             "#fde0ef"
            ],
            [
             0.5,
             "#f7f7f7"
            ],
            [
             0.6,
             "#e6f5d0"
            ],
            [
             0.7,
             "#b8e186"
            ],
            [
             0.8,
             "#7fbc41"
            ],
            [
             0.9,
             "#4d9221"
            ],
            [
             1,
             "#276419"
            ]
           ],
           "sequential": [
            [
             0,
             "#0d0887"
            ],
            [
             0.1111111111111111,
             "#46039f"
            ],
            [
             0.2222222222222222,
             "#7201a8"
            ],
            [
             0.3333333333333333,
             "#9c179e"
            ],
            [
             0.4444444444444444,
             "#bd3786"
            ],
            [
             0.5555555555555556,
             "#d8576b"
            ],
            [
             0.6666666666666666,
             "#ed7953"
            ],
            [
             0.7777777777777778,
             "#fb9f3a"
            ],
            [
             0.8888888888888888,
             "#fdca26"
            ],
            [
             1,
             "#f0f921"
            ]
           ],
           "sequentialminus": [
            [
             0,
             "#0d0887"
            ],
            [
             0.1111111111111111,
             "#46039f"
            ],
            [
             0.2222222222222222,
             "#7201a8"
            ],
            [
             0.3333333333333333,
             "#9c179e"
            ],
            [
             0.4444444444444444,
             "#bd3786"
            ],
            [
             0.5555555555555556,
             "#d8576b"
            ],
            [
             0.6666666666666666,
             "#ed7953"
            ],
            [
             0.7777777777777778,
             "#fb9f3a"
            ],
            [
             0.8888888888888888,
             "#fdca26"
            ],
            [
             1,
             "#f0f921"
            ]
           ]
          },
          "colorway": [
           "#636efa",
           "#EF553B",
           "#00cc96",
           "#ab63fa",
           "#FFA15A",
           "#19d3f3",
           "#FF6692",
           "#B6E880",
           "#FF97FF",
           "#FECB52"
          ],
          "font": {
           "color": "#2a3f5f"
          },
          "geo": {
           "bgcolor": "white",
           "lakecolor": "white",
           "landcolor": "#E5ECF6",
           "showlakes": true,
           "showland": true,
           "subunitcolor": "white"
          },
          "hoverlabel": {
           "align": "left"
          },
          "hovermode": "closest",
          "mapbox": {
           "style": "light"
          },
          "paper_bgcolor": "white",
          "plot_bgcolor": "#E5ECF6",
          "polar": {
           "angularaxis": {
            "gridcolor": "white",
            "linecolor": "white",
            "ticks": ""
           },
           "bgcolor": "#E5ECF6",
           "radialaxis": {
            "gridcolor": "white",
            "linecolor": "white",
            "ticks": ""
           }
          },
          "scene": {
           "xaxis": {
            "backgroundcolor": "#E5ECF6",
            "gridcolor": "white",
            "gridwidth": 2,
            "linecolor": "white",
            "showbackground": true,
            "ticks": "",
            "zerolinecolor": "white"
           },
           "yaxis": {
            "backgroundcolor": "#E5ECF6",
            "gridcolor": "white",
            "gridwidth": 2,
            "linecolor": "white",
            "showbackground": true,
            "ticks": "",
            "zerolinecolor": "white"
           },
           "zaxis": {
            "backgroundcolor": "#E5ECF6",
            "gridcolor": "white",
            "gridwidth": 2,
            "linecolor": "white",
            "showbackground": true,
            "ticks": "",
            "zerolinecolor": "white"
           }
          },
          "shapedefaults": {
           "line": {
            "color": "#2a3f5f"
           }
          },
          "ternary": {
           "aaxis": {
            "gridcolor": "white",
            "linecolor": "white",
            "ticks": ""
           },
           "baxis": {
            "gridcolor": "white",
            "linecolor": "white",
            "ticks": ""
           },
           "bgcolor": "#E5ECF6",
           "caxis": {
            "gridcolor": "white",
            "linecolor": "white",
            "ticks": ""
           }
          },
          "title": {
           "x": 0.05
          },
          "xaxis": {
           "automargin": true,
           "gridcolor": "white",
           "linecolor": "white",
           "ticks": "",
           "title": {
            "standoff": 15
           },
           "zerolinecolor": "white",
           "zerolinewidth": 2
          },
          "yaxis": {
           "automargin": true,
           "gridcolor": "white",
           "linecolor": "white",
           "ticks": "",
           "title": {
            "standoff": 15
           },
           "zerolinecolor": "white",
           "zerolinewidth": 2
          }
         }
        },
        "title": {
         "text": "Histogram of height variable vs Normal Distribution PDF"
        },
        "xaxis": {
         "anchor": "y",
         "domain": [
          0,
          1
         ],
         "title": {
          "text": "height"
         }
        },
        "yaxis": {
         "anchor": "x",
         "domain": [
          0,
          1
         ],
         "title": {
          "text": "probability density"
         }
        }
       }
      }
     },
     "metadata": {},
     "output_type": "display_data"
    },
    {
     "data": {
      "application/vnd.plotly.v1+json": {
       "config": {
        "plotlyServerURL": "https://plot.ly"
       },
       "data": [
        {
         "alignmentgroup": "True",
         "bingroup": "x",
         "histnorm": "probability density",
         "hovertemplate": "cats=%{x}<br>probability density=%{y}<extra></extra>",
         "legendgroup": "",
         "marker": {
          "color": "#636efa",
          "pattern": {
           "shape": ""
          }
         },
         "name": "",
         "offsetgroup": "",
         "orientation": "v",
         "showlegend": false,
         "type": "histogram",
         "x": [
          2,
          2,
          1,
          1,
          2,
          3,
          5,
          4,
          0,
          1,
          3,
          3,
          1,
          0,
          2,
          2,
          2,
          1,
          0,
          1,
          3,
          3,
          3,
          4,
          1,
          5,
          0,
          2,
          2,
          1,
          3,
          4,
          1,
          3,
          3,
          2,
          5,
          5,
          0,
          2,
          2,
          2,
          1,
          1,
          1,
          4,
          4,
          2,
          2,
          1,
          0,
          1,
          1,
          3,
          2,
          2,
          1,
          3,
          3,
          2,
          1,
          2,
          2,
          1,
          2,
          2,
          1,
          2,
          2,
          3,
          1,
          2,
          0,
          1,
          0,
          2,
          2,
          4,
          3,
          0,
          5,
          3,
          1,
          1,
          1,
          5,
          1,
          2,
          0,
          4,
          5,
          1,
          4,
          2,
          1,
          1,
          2,
          2,
          2,
          2,
          0,
          2,
          1,
          1,
          3,
          1,
          2,
          0,
          1,
          1,
          1,
          2,
          2,
          4,
          4,
          1,
          4,
          2,
          0,
          2,
          1,
          4,
          0,
          2,
          4,
          1,
          0,
          2,
          2,
          0,
          1,
          0,
          3,
          3,
          0,
          0,
          0,
          4,
          2,
          3,
          0,
          0,
          1,
          1,
          1,
          2,
          4,
          1,
          3,
          1,
          2,
          2,
          5,
          4,
          3,
          4,
          3,
          1,
          0,
          1,
          5,
          4,
          0,
          3,
          2,
          2,
          0,
          2,
          0,
          3,
          2,
          0,
          2,
          4,
          2,
          5,
          2,
          2,
          4,
          1,
          2,
          1,
          2,
          0,
          2,
          0,
          1,
          1,
          2,
          2,
          2,
          2,
          3,
          4,
          1,
          3,
          0,
          3,
          1,
          1,
          2,
          0,
          0,
          1,
          0,
          2,
          3,
          2,
          1,
          2,
          0,
          3,
          4,
          1,
          3,
          2,
          3,
          1,
          3,
          4,
          5,
          0,
          0,
          4,
          3,
          2,
          1,
          1,
          1,
          3,
          3,
          1,
          2,
          0,
          4,
          3,
          3,
          3,
          3,
          2,
          3,
          2,
          2,
          2,
          1,
          2,
          5,
          2,
          0,
          4,
          3,
          3,
          2,
          4,
          5,
          2,
          0,
          2,
          3,
          3,
          1,
          0,
          3,
          1,
          5,
          2,
          2,
          5,
          2,
          2,
          1,
          2,
          2,
          2,
          4,
          1,
          4,
          1,
          4,
          0,
          3,
          2,
          0,
          3,
          2,
          3,
          1,
          1,
          2,
          2,
          2,
          3,
          3,
          4,
          2,
          5,
          2,
          2,
          3,
          4,
          4,
          0,
          0,
          5,
          1,
          3,
          5,
          2,
          2,
          2,
          3,
          3,
          0,
          2,
          4,
          4,
          4,
          2,
          2,
          2,
          1,
          0,
          0,
          1,
          4,
          1,
          5,
          4,
          1,
          0,
          1,
          2,
          1,
          4,
          3,
          2,
          2,
          1,
          4,
          4,
          3,
          3,
          2,
          3,
          0,
          0,
          0,
          4,
          1,
          3,
          1,
          2,
          0,
          4,
          4,
          2,
          4,
          2,
          1,
          1,
          2,
          0,
          1,
          3,
          4,
          0,
          1,
          0,
          0,
          2,
          4,
          2,
          2,
          2,
          1,
          1,
          1,
          2,
          4,
          1,
          0,
          4,
          5,
          4,
          2,
          3,
          1,
          1,
          2,
          1,
          0,
          4,
          0,
          0,
          4,
          1,
          2,
          3,
          2,
          2,
          3,
          0,
          2,
          0,
          3,
          2,
          3,
          3,
          2,
          1,
          1,
          2,
          4,
          3,
          1,
          3,
          2,
          2,
          1,
          1,
          2,
          1,
          1,
          2,
          3,
          2,
          1,
          1,
          3,
          0,
          1,
          4,
          2,
          2,
          3,
          3,
          4,
          1,
          1,
          1,
          2,
          3,
          3,
          1,
          1,
          1,
          2,
          1,
          5,
          4
         ],
         "xaxis": "x",
         "yaxis": "y"
        },
        {
         "name": "Normal distribution",
         "type": "scatter",
         "x": [
          0,
          0.10204081632653061,
          0.20408163265306123,
          0.30612244897959184,
          0.40816326530612246,
          0.5102040816326531,
          0.6122448979591837,
          0.7142857142857143,
          0.8163265306122449,
          0.9183673469387755,
          1.0204081632653061,
          1.1224489795918369,
          1.2244897959183674,
          1.3265306122448979,
          1.4285714285714286,
          1.5306122448979593,
          1.6326530612244898,
          1.7346938775510203,
          1.836734693877551,
          1.9387755102040818,
          2.0408163265306123,
          2.142857142857143,
          2.2448979591836737,
          2.3469387755102042,
          2.4489795918367347,
          2.5510204081632653,
          2.6530612244897958,
          2.7551020408163267,
          2.857142857142857,
          2.9591836734693877,
          3.0612244897959187,
          3.163265306122449,
          3.2653061224489797,
          3.36734693877551,
          3.4693877551020407,
          3.5714285714285716,
          3.673469387755102,
          3.7755102040816326,
          3.8775510204081636,
          3.979591836734694,
          4.081632653061225,
          4.183673469387755,
          4.285714285714286,
          4.387755102040816,
          4.4897959183673475,
          4.591836734693878,
          4.6938775510204085,
          4.795918367346939,
          4.8979591836734695,
          5
         ],
         "y": [
          0.09674926799331544,
          0.10773455671386475,
          0.1193055844208772,
          0.13139078825507677,
          0.14390221073904122,
          0.1567358761793027,
          0.169772665880812,
          0.18287970931945605,
          0.19591228926085275,
          0.20871623804638384,
          0.22113078082017879,
          0.23299176038905467,
          0.24413515879634262,
          0.25440081365019057,
          0.2636362138036518,
          0.27170025002196524,
          0.278466792471496,
          0.28382796864744186,
          0.2876970228517716,
          0.29001065135327864,
          0.2907307254095618,
          0.2898453366165322,
          0.2873691245355952,
          0.2833428740023974,
          0.277832397596272,
          0.27092674606114653,
          0.26273581467756646,
          0.25338743547852977,
          0.24302406276320113,
          0.2317991718310304,
          0.21987349776740558,
          0.20741124230772498,
          0.1945763724494119,
          0.181529125022046,
          0.168422817567767,
          0.15540104852942505,
          0.14259534992973835,
          0.13012333455473363,
          0.11808735823081658,
          0.10657369714296087,
          0.09565222119683743,
          0.08537652793118373,
          0.07578448799573949,
          0.06689914307382165,
          0.05872989048768999,
          0.051273885524042,
          0.044517592528804426,
          0.038438418676945495,
          0.0330063695528038,
          0.028185672743361933
         ]
        }
       ],
       "layout": {
        "barmode": "relative",
        "legend": {
         "tracegroupgap": 0
        },
        "template": {
         "data": {
          "bar": [
           {
            "error_x": {
             "color": "#2a3f5f"
            },
            "error_y": {
             "color": "#2a3f5f"
            },
            "marker": {
             "line": {
              "color": "#E5ECF6",
              "width": 0.5
             },
             "pattern": {
              "fillmode": "overlay",
              "size": 10,
              "solidity": 0.2
             }
            },
            "type": "bar"
           }
          ],
          "barpolar": [
           {
            "marker": {
             "line": {
              "color": "#E5ECF6",
              "width": 0.5
             },
             "pattern": {
              "fillmode": "overlay",
              "size": 10,
              "solidity": 0.2
             }
            },
            "type": "barpolar"
           }
          ],
          "carpet": [
           {
            "aaxis": {
             "endlinecolor": "#2a3f5f",
             "gridcolor": "white",
             "linecolor": "white",
             "minorgridcolor": "white",
             "startlinecolor": "#2a3f5f"
            },
            "baxis": {
             "endlinecolor": "#2a3f5f",
             "gridcolor": "white",
             "linecolor": "white",
             "minorgridcolor": "white",
             "startlinecolor": "#2a3f5f"
            },
            "type": "carpet"
           }
          ],
          "choropleth": [
           {
            "colorbar": {
             "outlinewidth": 0,
             "ticks": ""
            },
            "type": "choropleth"
           }
          ],
          "contour": [
           {
            "colorbar": {
             "outlinewidth": 0,
             "ticks": ""
            },
            "colorscale": [
             [
              0,
              "#0d0887"
             ],
             [
              0.1111111111111111,
              "#46039f"
             ],
             [
              0.2222222222222222,
              "#7201a8"
             ],
             [
              0.3333333333333333,
              "#9c179e"
             ],
             [
              0.4444444444444444,
              "#bd3786"
             ],
             [
              0.5555555555555556,
              "#d8576b"
             ],
             [
              0.6666666666666666,
              "#ed7953"
             ],
             [
              0.7777777777777778,
              "#fb9f3a"
             ],
             [
              0.8888888888888888,
              "#fdca26"
             ],
             [
              1,
              "#f0f921"
             ]
            ],
            "type": "contour"
           }
          ],
          "contourcarpet": [
           {
            "colorbar": {
             "outlinewidth": 0,
             "ticks": ""
            },
            "type": "contourcarpet"
           }
          ],
          "heatmap": [
           {
            "colorbar": {
             "outlinewidth": 0,
             "ticks": ""
            },
            "colorscale": [
             [
              0,
              "#0d0887"
             ],
             [
              0.1111111111111111,
              "#46039f"
             ],
             [
              0.2222222222222222,
              "#7201a8"
             ],
             [
              0.3333333333333333,
              "#9c179e"
             ],
             [
              0.4444444444444444,
              "#bd3786"
             ],
             [
              0.5555555555555556,
              "#d8576b"
             ],
             [
              0.6666666666666666,
              "#ed7953"
             ],
             [
              0.7777777777777778,
              "#fb9f3a"
             ],
             [
              0.8888888888888888,
              "#fdca26"
             ],
             [
              1,
              "#f0f921"
             ]
            ],
            "type": "heatmap"
           }
          ],
          "heatmapgl": [
           {
            "colorbar": {
             "outlinewidth": 0,
             "ticks": ""
            },
            "colorscale": [
             [
              0,
              "#0d0887"
             ],
             [
              0.1111111111111111,
              "#46039f"
             ],
             [
              0.2222222222222222,
              "#7201a8"
             ],
             [
              0.3333333333333333,
              "#9c179e"
             ],
             [
              0.4444444444444444,
              "#bd3786"
             ],
             [
              0.5555555555555556,
              "#d8576b"
             ],
             [
              0.6666666666666666,
              "#ed7953"
             ],
             [
              0.7777777777777778,
              "#fb9f3a"
             ],
             [
              0.8888888888888888,
              "#fdca26"
             ],
             [
              1,
              "#f0f921"
             ]
            ],
            "type": "heatmapgl"
           }
          ],
          "histogram": [
           {
            "marker": {
             "pattern": {
              "fillmode": "overlay",
              "size": 10,
              "solidity": 0.2
             }
            },
            "type": "histogram"
           }
          ],
          "histogram2d": [
           {
            "colorbar": {
             "outlinewidth": 0,
             "ticks": ""
            },
            "colorscale": [
             [
              0,
              "#0d0887"
             ],
             [
              0.1111111111111111,
              "#46039f"
             ],
             [
              0.2222222222222222,
              "#7201a8"
             ],
             [
              0.3333333333333333,
              "#9c179e"
             ],
             [
              0.4444444444444444,
              "#bd3786"
             ],
             [
              0.5555555555555556,
              "#d8576b"
             ],
             [
              0.6666666666666666,
              "#ed7953"
             ],
             [
              0.7777777777777778,
              "#fb9f3a"
             ],
             [
              0.8888888888888888,
              "#fdca26"
             ],
             [
              1,
              "#f0f921"
             ]
            ],
            "type": "histogram2d"
           }
          ],
          "histogram2dcontour": [
           {
            "colorbar": {
             "outlinewidth": 0,
             "ticks": ""
            },
            "colorscale": [
             [
              0,
              "#0d0887"
             ],
             [
              0.1111111111111111,
              "#46039f"
             ],
             [
              0.2222222222222222,
              "#7201a8"
             ],
             [
              0.3333333333333333,
              "#9c179e"
             ],
             [
              0.4444444444444444,
              "#bd3786"
             ],
             [
              0.5555555555555556,
              "#d8576b"
             ],
             [
              0.6666666666666666,
              "#ed7953"
             ],
             [
              0.7777777777777778,
              "#fb9f3a"
             ],
             [
              0.8888888888888888,
              "#fdca26"
             ],
             [
              1,
              "#f0f921"
             ]
            ],
            "type": "histogram2dcontour"
           }
          ],
          "mesh3d": [
           {
            "colorbar": {
             "outlinewidth": 0,
             "ticks": ""
            },
            "type": "mesh3d"
           }
          ],
          "parcoords": [
           {
            "line": {
             "colorbar": {
              "outlinewidth": 0,
              "ticks": ""
             }
            },
            "type": "parcoords"
           }
          ],
          "pie": [
           {
            "automargin": true,
            "type": "pie"
           }
          ],
          "scatter": [
           {
            "fillpattern": {
             "fillmode": "overlay",
             "size": 10,
             "solidity": 0.2
            },
            "type": "scatter"
           }
          ],
          "scatter3d": [
           {
            "line": {
             "colorbar": {
              "outlinewidth": 0,
              "ticks": ""
             }
            },
            "marker": {
             "colorbar": {
              "outlinewidth": 0,
              "ticks": ""
             }
            },
            "type": "scatter3d"
           }
          ],
          "scattercarpet": [
           {
            "marker": {
             "colorbar": {
              "outlinewidth": 0,
              "ticks": ""
             }
            },
            "type": "scattercarpet"
           }
          ],
          "scattergeo": [
           {
            "marker": {
             "colorbar": {
              "outlinewidth": 0,
              "ticks": ""
             }
            },
            "type": "scattergeo"
           }
          ],
          "scattergl": [
           {
            "marker": {
             "colorbar": {
              "outlinewidth": 0,
              "ticks": ""
             }
            },
            "type": "scattergl"
           }
          ],
          "scattermapbox": [
           {
            "marker": {
             "colorbar": {
              "outlinewidth": 0,
              "ticks": ""
             }
            },
            "type": "scattermapbox"
           }
          ],
          "scatterpolar": [
           {
            "marker": {
             "colorbar": {
              "outlinewidth": 0,
              "ticks": ""
             }
            },
            "type": "scatterpolar"
           }
          ],
          "scatterpolargl": [
           {
            "marker": {
             "colorbar": {
              "outlinewidth": 0,
              "ticks": ""
             }
            },
            "type": "scatterpolargl"
           }
          ],
          "scatterternary": [
           {
            "marker": {
             "colorbar": {
              "outlinewidth": 0,
              "ticks": ""
             }
            },
            "type": "scatterternary"
           }
          ],
          "surface": [
           {
            "colorbar": {
             "outlinewidth": 0,
             "ticks": ""
            },
            "colorscale": [
             [
              0,
              "#0d0887"
             ],
             [
              0.1111111111111111,
              "#46039f"
             ],
             [
              0.2222222222222222,
              "#7201a8"
             ],
             [
              0.3333333333333333,
              "#9c179e"
             ],
             [
              0.4444444444444444,
              "#bd3786"
             ],
             [
              0.5555555555555556,
              "#d8576b"
             ],
             [
              0.6666666666666666,
              "#ed7953"
             ],
             [
              0.7777777777777778,
              "#fb9f3a"
             ],
             [
              0.8888888888888888,
              "#fdca26"
             ],
             [
              1,
              "#f0f921"
             ]
            ],
            "type": "surface"
           }
          ],
          "table": [
           {
            "cells": {
             "fill": {
              "color": "#EBF0F8"
             },
             "line": {
              "color": "white"
             }
            },
            "header": {
             "fill": {
              "color": "#C8D4E3"
             },
             "line": {
              "color": "white"
             }
            },
            "type": "table"
           }
          ]
         },
         "layout": {
          "annotationdefaults": {
           "arrowcolor": "#2a3f5f",
           "arrowhead": 0,
           "arrowwidth": 1
          },
          "autotypenumbers": "strict",
          "coloraxis": {
           "colorbar": {
            "outlinewidth": 0,
            "ticks": ""
           }
          },
          "colorscale": {
           "diverging": [
            [
             0,
             "#8e0152"
            ],
            [
             0.1,
             "#c51b7d"
            ],
            [
             0.2,
             "#de77ae"
            ],
            [
             0.3,
             "#f1b6da"
            ],
            [
             0.4,
             "#fde0ef"
            ],
            [
             0.5,
             "#f7f7f7"
            ],
            [
             0.6,
             "#e6f5d0"
            ],
            [
             0.7,
             "#b8e186"
            ],
            [
             0.8,
             "#7fbc41"
            ],
            [
             0.9,
             "#4d9221"
            ],
            [
             1,
             "#276419"
            ]
           ],
           "sequential": [
            [
             0,
             "#0d0887"
            ],
            [
             0.1111111111111111,
             "#46039f"
            ],
            [
             0.2222222222222222,
             "#7201a8"
            ],
            [
             0.3333333333333333,
             "#9c179e"
            ],
            [
             0.4444444444444444,
             "#bd3786"
            ],
            [
             0.5555555555555556,
             "#d8576b"
            ],
            [
             0.6666666666666666,
             "#ed7953"
            ],
            [
             0.7777777777777778,
             "#fb9f3a"
            ],
            [
             0.8888888888888888,
             "#fdca26"
            ],
            [
             1,
             "#f0f921"
            ]
           ],
           "sequentialminus": [
            [
             0,
             "#0d0887"
            ],
            [
             0.1111111111111111,
             "#46039f"
            ],
            [
             0.2222222222222222,
             "#7201a8"
            ],
            [
             0.3333333333333333,
             "#9c179e"
            ],
            [
             0.4444444444444444,
             "#bd3786"
            ],
            [
             0.5555555555555556,
             "#d8576b"
            ],
            [
             0.6666666666666666,
             "#ed7953"
            ],
            [
             0.7777777777777778,
             "#fb9f3a"
            ],
            [
             0.8888888888888888,
             "#fdca26"
            ],
            [
             1,
             "#f0f921"
            ]
           ]
          },
          "colorway": [
           "#636efa",
           "#EF553B",
           "#00cc96",
           "#ab63fa",
           "#FFA15A",
           "#19d3f3",
           "#FF6692",
           "#B6E880",
           "#FF97FF",
           "#FECB52"
          ],
          "font": {
           "color": "#2a3f5f"
          },
          "geo": {
           "bgcolor": "white",
           "lakecolor": "white",
           "landcolor": "#E5ECF6",
           "showlakes": true,
           "showland": true,
           "subunitcolor": "white"
          },
          "hoverlabel": {
           "align": "left"
          },
          "hovermode": "closest",
          "mapbox": {
           "style": "light"
          },
          "paper_bgcolor": "white",
          "plot_bgcolor": "#E5ECF6",
          "polar": {
           "angularaxis": {
            "gridcolor": "white",
            "linecolor": "white",
            "ticks": ""
           },
           "bgcolor": "#E5ECF6",
           "radialaxis": {
            "gridcolor": "white",
            "linecolor": "white",
            "ticks": ""
           }
          },
          "scene": {
           "xaxis": {
            "backgroundcolor": "#E5ECF6",
            "gridcolor": "white",
            "gridwidth": 2,
            "linecolor": "white",
            "showbackground": true,
            "ticks": "",
            "zerolinecolor": "white"
           },
           "yaxis": {
            "backgroundcolor": "#E5ECF6",
            "gridcolor": "white",
            "gridwidth": 2,
            "linecolor": "white",
            "showbackground": true,
            "ticks": "",
            "zerolinecolor": "white"
           },
           "zaxis": {
            "backgroundcolor": "#E5ECF6",
            "gridcolor": "white",
            "gridwidth": 2,
            "linecolor": "white",
            "showbackground": true,
            "ticks": "",
            "zerolinecolor": "white"
           }
          },
          "shapedefaults": {
           "line": {
            "color": "#2a3f5f"
           }
          },
          "ternary": {
           "aaxis": {
            "gridcolor": "white",
            "linecolor": "white",
            "ticks": ""
           },
           "baxis": {
            "gridcolor": "white",
            "linecolor": "white",
            "ticks": ""
           },
           "bgcolor": "#E5ECF6",
           "caxis": {
            "gridcolor": "white",
            "linecolor": "white",
            "ticks": ""
           }
          },
          "title": {
           "x": 0.05
          },
          "xaxis": {
           "automargin": true,
           "gridcolor": "white",
           "linecolor": "white",
           "ticks": "",
           "title": {
            "standoff": 15
           },
           "zerolinecolor": "white",
           "zerolinewidth": 2
          },
          "yaxis": {
           "automargin": true,
           "gridcolor": "white",
           "linecolor": "white",
           "ticks": "",
           "title": {
            "standoff": 15
           },
           "zerolinecolor": "white",
           "zerolinewidth": 2
          }
         }
        },
        "title": {
         "text": "Histogram of cats variable vs Normal Distribution PDF"
        },
        "xaxis": {
         "anchor": "y",
         "domain": [
          0,
          1
         ],
         "title": {
          "text": "cats"
         }
        },
        "yaxis": {
         "anchor": "x",
         "domain": [
          0,
          1
         ],
         "title": {
          "text": "probability density"
         }
        }
       }
      }
     },
     "metadata": {},
     "output_type": "display_data"
    },
    {
     "data": {
      "application/vnd.plotly.v1+json": {
       "config": {
        "plotlyServerURL": "https://plot.ly"
       },
       "data": [
        {
         "alignmentgroup": "True",
         "bingroup": "x",
         "histnorm": "probability density",
         "hovertemplate": "age=%{x}<br>probability density=%{y}<extra></extra>",
         "legendgroup": "",
         "marker": {
          "color": "#636efa",
          "pattern": {
           "shape": ""
          }
         },
         "name": "",
         "offsetgroup": "",
         "orientation": "v",
         "showlegend": false,
         "type": "histogram",
         "x": [
          55,
          41,
          42,
          50,
          53,
          55,
          40,
          53,
          52,
          54,
          50,
          50,
          53,
          57,
          38,
          46,
          47,
          48,
          59,
          48,
          50,
          56,
          44,
          58,
          45,
          57,
          50,
          45,
          50,
          46,
          47,
          44,
          50,
          49,
          58,
          41,
          60,
          49,
          53,
          56,
          51,
          59,
          43,
          43,
          38,
          54,
          53,
          55,
          56,
          50,
          58,
          51,
          53,
          52,
          42,
          49,
          64,
          35,
          34,
          52,
          57,
          34,
          46,
          43,
          59,
          59,
          42,
          55,
          62,
          55,
          57,
          53,
          38,
          49,
          47,
          42,
          53,
          53,
          49,
          40,
          51,
          56,
          54,
          41,
          47,
          56,
          54,
          44,
          51,
          54,
          46,
          44,
          45,
          54,
          35,
          50,
          48,
          58,
          49,
          53,
          48,
          62,
          50,
          55,
          54,
          52,
          50,
          42,
          56,
          48,
          59,
          57,
          43,
          55,
          53,
          41,
          46,
          45,
          56,
          45,
          51,
          49,
          50,
          49,
          45,
          43,
          56,
          50,
          44,
          56,
          56,
          49,
          44,
          56,
          58,
          64,
          46,
          58,
          48,
          52,
          57,
          48,
          49,
          41,
          55,
          49,
          49,
          53,
          51,
          43,
          60,
          54,
          54,
          47,
          53,
          55,
          49,
          47,
          62,
          44,
          52,
          37,
          50,
          59,
          43,
          44,
          39,
          51,
          43,
          43,
          43,
          59,
          56,
          61,
          43,
          50,
          63,
          60,
          48,
          51,
          44,
          41,
          46,
          37,
          42,
          56,
          43,
          56,
          47,
          54,
          66,
          49,
          36,
          47,
          52,
          56,
          46,
          53,
          35,
          48,
          50,
          51,
          45,
          52,
          43,
          43,
          49,
          62,
          45,
          44,
          47,
          43,
          50,
          36,
          37,
          50,
          50,
          59,
          65,
          49,
          49,
          34,
          73,
          54,
          50,
          47,
          46,
          48,
          58,
          42,
          46,
          55,
          51,
          53,
          43,
          53,
          42,
          52,
          42,
          39,
          53,
          49,
          50,
          49,
          39,
          51,
          67,
          53,
          59,
          54,
          55,
          53,
          41,
          40,
          51,
          41,
          53,
          51,
          46,
          58,
          64,
          58,
          46,
          50,
          52,
          50,
          51,
          41,
          59,
          49,
          54,
          51,
          41,
          53,
          54,
          45,
          49,
          59,
          53,
          51,
          50,
          50,
          61,
          60,
          41,
          52,
          55,
          53,
          52,
          52,
          58,
          47,
          70,
          50,
          47,
          59,
          61,
          55,
          53,
          60,
          55,
          56,
          57,
          60,
          47,
          56,
          39,
          48,
          64,
          43,
          53,
          53,
          59,
          57,
          40,
          54,
          45,
          41,
          45,
          68,
          53,
          50,
          60,
          53,
          48,
          52,
          50,
          47,
          55,
          57,
          51,
          57,
          43,
          55,
          46,
          44,
          49,
          53,
          48,
          52,
          45,
          52,
          52,
          55,
          64,
          45,
          54,
          53,
          52,
          39,
          48,
          44,
          48,
          52,
          52,
          68,
          51,
          45,
          53,
          48,
          57,
          59,
          45,
          46,
          50,
          59,
          39,
          49,
          48,
          55,
          55,
          55,
          42,
          56,
          56,
          55,
          61,
          55,
          48,
          45,
          55,
          52,
          40,
          53,
          67,
          54,
          34,
          38,
          61,
          52,
          44,
          64,
          66,
          47,
          40,
          56,
          51,
          63,
          50,
          68,
          47,
          50,
          52,
          58,
          52,
          57,
          44,
          43,
          38,
          59,
          42,
          44,
          36,
          60,
          50,
          49,
          52,
          55,
          58,
          51,
          45,
          46,
          56,
          59,
          47,
          45,
          56,
          58,
          58,
          53,
          54,
          46,
          50,
          60,
          55,
          50,
          60,
          57,
          46,
          55,
          51,
          52,
          45,
          49,
          51,
          59,
          50,
          52,
          41,
          40
         ],
         "xaxis": "x",
         "yaxis": "y"
        },
        {
         "name": "Normal distribution",
         "type": "scatter",
         "x": [
          34,
          34.795918367346935,
          35.59183673469388,
          36.38775510204081,
          37.183673469387756,
          37.97959183673469,
          38.775510204081634,
          39.57142857142857,
          40.36734693877551,
          41.16326530612245,
          41.95918367346939,
          42.755102040816325,
          43.55102040816327,
          44.3469387755102,
          45.14285714285714,
          45.93877551020408,
          46.734693877551024,
          47.53061224489796,
          48.326530612244895,
          49.12244897959184,
          49.91836734693878,
          50.714285714285715,
          51.51020408163265,
          52.30612244897959,
          53.10204081632653,
          53.897959183673464,
          54.69387755102041,
          55.48979591836735,
          56.285714285714285,
          57.08163265306122,
          57.87755102040816,
          58.673469387755105,
          59.46938775510204,
          60.265306122448976,
          61.06122448979592,
          61.85714285714286,
          62.6530612244898,
          63.44897959183673,
          64.24489795918367,
          65.04081632653062,
          65.83673469387756,
          66.63265306122449,
          67.42857142857143,
          68.22448979591837,
          69.0204081632653,
          69.81632653061224,
          70.61224489795919,
          71.40816326530611,
          72.20408163265306,
          73
         ],
         "y": [
          0.00307085116371082,
          0.004043791012733183,
          0.005253534741734867,
          0.006733602656027435,
          0.008514836895564464,
          0.010622779142107547,
          0.013074736405511659,
          0.01587671696998704,
          0.019020478336452287,
          0.02248097472616071,
          0.026214514032749492,
          0.030157924934105223,
          0.03422898898105037,
          0.038328308929848794,
          0.042342667677756886,
          0.046149791652119625,
          0.0496242829411979,
          0.05264434359947637,
          0.05509880205830432,
          0.05689388220781062,
          0.057959142683644396,
          0.058252062588512205,
          0.057760857636414746,
          0.056505266764848676,
          0.05453523603274492,
          0.051927622109268046,
          0.048781218597707746,
          0.04521055367216608,
          0.041339000990815146,
          0.037291778809574024,
          0.03318938408717202,
          0.029141926431348615,
          0.025244704583673973,
          0.021575223300603352,
          0.01819169963333582,
          0.015132971879285107,
          0.012419615320327258,
          0.010055994675847585,
          0.00803294689806377,
          0.00633078738605678,
          0.004922361798945752,
          0.0037759158402333524,
          0.0028576171996963105,
          0.0021336283212246713,
          0.0015716884247240575,
          0.0011422130371544627,
          0.000818956326212565,
          0.0005793050871300197,
          0.0004042843345964867,
          0.0002783552748039318
         ]
        }
       ],
       "layout": {
        "barmode": "relative",
        "legend": {
         "tracegroupgap": 0
        },
        "template": {
         "data": {
          "bar": [
           {
            "error_x": {
             "color": "#2a3f5f"
            },
            "error_y": {
             "color": "#2a3f5f"
            },
            "marker": {
             "line": {
              "color": "#E5ECF6",
              "width": 0.5
             },
             "pattern": {
              "fillmode": "overlay",
              "size": 10,
              "solidity": 0.2
             }
            },
            "type": "bar"
           }
          ],
          "barpolar": [
           {
            "marker": {
             "line": {
              "color": "#E5ECF6",
              "width": 0.5
             },
             "pattern": {
              "fillmode": "overlay",
              "size": 10,
              "solidity": 0.2
             }
            },
            "type": "barpolar"
           }
          ],
          "carpet": [
           {
            "aaxis": {
             "endlinecolor": "#2a3f5f",
             "gridcolor": "white",
             "linecolor": "white",
             "minorgridcolor": "white",
             "startlinecolor": "#2a3f5f"
            },
            "baxis": {
             "endlinecolor": "#2a3f5f",
             "gridcolor": "white",
             "linecolor": "white",
             "minorgridcolor": "white",
             "startlinecolor": "#2a3f5f"
            },
            "type": "carpet"
           }
          ],
          "choropleth": [
           {
            "colorbar": {
             "outlinewidth": 0,
             "ticks": ""
            },
            "type": "choropleth"
           }
          ],
          "contour": [
           {
            "colorbar": {
             "outlinewidth": 0,
             "ticks": ""
            },
            "colorscale": [
             [
              0,
              "#0d0887"
             ],
             [
              0.1111111111111111,
              "#46039f"
             ],
             [
              0.2222222222222222,
              "#7201a8"
             ],
             [
              0.3333333333333333,
              "#9c179e"
             ],
             [
              0.4444444444444444,
              "#bd3786"
             ],
             [
              0.5555555555555556,
              "#d8576b"
             ],
             [
              0.6666666666666666,
              "#ed7953"
             ],
             [
              0.7777777777777778,
              "#fb9f3a"
             ],
             [
              0.8888888888888888,
              "#fdca26"
             ],
             [
              1,
              "#f0f921"
             ]
            ],
            "type": "contour"
           }
          ],
          "contourcarpet": [
           {
            "colorbar": {
             "outlinewidth": 0,
             "ticks": ""
            },
            "type": "contourcarpet"
           }
          ],
          "heatmap": [
           {
            "colorbar": {
             "outlinewidth": 0,
             "ticks": ""
            },
            "colorscale": [
             [
              0,
              "#0d0887"
             ],
             [
              0.1111111111111111,
              "#46039f"
             ],
             [
              0.2222222222222222,
              "#7201a8"
             ],
             [
              0.3333333333333333,
              "#9c179e"
             ],
             [
              0.4444444444444444,
              "#bd3786"
             ],
             [
              0.5555555555555556,
              "#d8576b"
             ],
             [
              0.6666666666666666,
              "#ed7953"
             ],
             [
              0.7777777777777778,
              "#fb9f3a"
             ],
             [
              0.8888888888888888,
              "#fdca26"
             ],
             [
              1,
              "#f0f921"
             ]
            ],
            "type": "heatmap"
           }
          ],
          "heatmapgl": [
           {
            "colorbar": {
             "outlinewidth": 0,
             "ticks": ""
            },
            "colorscale": [
             [
              0,
              "#0d0887"
             ],
             [
              0.1111111111111111,
              "#46039f"
             ],
             [
              0.2222222222222222,
              "#7201a8"
             ],
             [
              0.3333333333333333,
              "#9c179e"
             ],
             [
              0.4444444444444444,
              "#bd3786"
             ],
             [
              0.5555555555555556,
              "#d8576b"
             ],
             [
              0.6666666666666666,
              "#ed7953"
             ],
             [
              0.7777777777777778,
              "#fb9f3a"
             ],
             [
              0.8888888888888888,
              "#fdca26"
             ],
             [
              1,
              "#f0f921"
             ]
            ],
            "type": "heatmapgl"
           }
          ],
          "histogram": [
           {
            "marker": {
             "pattern": {
              "fillmode": "overlay",
              "size": 10,
              "solidity": 0.2
             }
            },
            "type": "histogram"
           }
          ],
          "histogram2d": [
           {
            "colorbar": {
             "outlinewidth": 0,
             "ticks": ""
            },
            "colorscale": [
             [
              0,
              "#0d0887"
             ],
             [
              0.1111111111111111,
              "#46039f"
             ],
             [
              0.2222222222222222,
              "#7201a8"
             ],
             [
              0.3333333333333333,
              "#9c179e"
             ],
             [
              0.4444444444444444,
              "#bd3786"
             ],
             [
              0.5555555555555556,
              "#d8576b"
             ],
             [
              0.6666666666666666,
              "#ed7953"
             ],
             [
              0.7777777777777778,
              "#fb9f3a"
             ],
             [
              0.8888888888888888,
              "#fdca26"
             ],
             [
              1,
              "#f0f921"
             ]
            ],
            "type": "histogram2d"
           }
          ],
          "histogram2dcontour": [
           {
            "colorbar": {
             "outlinewidth": 0,
             "ticks": ""
            },
            "colorscale": [
             [
              0,
              "#0d0887"
             ],
             [
              0.1111111111111111,
              "#46039f"
             ],
             [
              0.2222222222222222,
              "#7201a8"
             ],
             [
              0.3333333333333333,
              "#9c179e"
             ],
             [
              0.4444444444444444,
              "#bd3786"
             ],
             [
              0.5555555555555556,
              "#d8576b"
             ],
             [
              0.6666666666666666,
              "#ed7953"
             ],
             [
              0.7777777777777778,
              "#fb9f3a"
             ],
             [
              0.8888888888888888,
              "#fdca26"
             ],
             [
              1,
              "#f0f921"
             ]
            ],
            "type": "histogram2dcontour"
           }
          ],
          "mesh3d": [
           {
            "colorbar": {
             "outlinewidth": 0,
             "ticks": ""
            },
            "type": "mesh3d"
           }
          ],
          "parcoords": [
           {
            "line": {
             "colorbar": {
              "outlinewidth": 0,
              "ticks": ""
             }
            },
            "type": "parcoords"
           }
          ],
          "pie": [
           {
            "automargin": true,
            "type": "pie"
           }
          ],
          "scatter": [
           {
            "fillpattern": {
             "fillmode": "overlay",
             "size": 10,
             "solidity": 0.2
            },
            "type": "scatter"
           }
          ],
          "scatter3d": [
           {
            "line": {
             "colorbar": {
              "outlinewidth": 0,
              "ticks": ""
             }
            },
            "marker": {
             "colorbar": {
              "outlinewidth": 0,
              "ticks": ""
             }
            },
            "type": "scatter3d"
           }
          ],
          "scattercarpet": [
           {
            "marker": {
             "colorbar": {
              "outlinewidth": 0,
              "ticks": ""
             }
            },
            "type": "scattercarpet"
           }
          ],
          "scattergeo": [
           {
            "marker": {
             "colorbar": {
              "outlinewidth": 0,
              "ticks": ""
             }
            },
            "type": "scattergeo"
           }
          ],
          "scattergl": [
           {
            "marker": {
             "colorbar": {
              "outlinewidth": 0,
              "ticks": ""
             }
            },
            "type": "scattergl"
           }
          ],
          "scattermapbox": [
           {
            "marker": {
             "colorbar": {
              "outlinewidth": 0,
              "ticks": ""
             }
            },
            "type": "scattermapbox"
           }
          ],
          "scatterpolar": [
           {
            "marker": {
             "colorbar": {
              "outlinewidth": 0,
              "ticks": ""
             }
            },
            "type": "scatterpolar"
           }
          ],
          "scatterpolargl": [
           {
            "marker": {
             "colorbar": {
              "outlinewidth": 0,
              "ticks": ""
             }
            },
            "type": "scatterpolargl"
           }
          ],
          "scatterternary": [
           {
            "marker": {
             "colorbar": {
              "outlinewidth": 0,
              "ticks": ""
             }
            },
            "type": "scatterternary"
           }
          ],
          "surface": [
           {
            "colorbar": {
             "outlinewidth": 0,
             "ticks": ""
            },
            "colorscale": [
             [
              0,
              "#0d0887"
             ],
             [
              0.1111111111111111,
              "#46039f"
             ],
             [
              0.2222222222222222,
              "#7201a8"
             ],
             [
              0.3333333333333333,
              "#9c179e"
             ],
             [
              0.4444444444444444,
              "#bd3786"
             ],
             [
              0.5555555555555556,
              "#d8576b"
             ],
             [
              0.6666666666666666,
              "#ed7953"
             ],
             [
              0.7777777777777778,
              "#fb9f3a"
             ],
             [
              0.8888888888888888,
              "#fdca26"
             ],
             [
              1,
              "#f0f921"
             ]
            ],
            "type": "surface"
           }
          ],
          "table": [
           {
            "cells": {
             "fill": {
              "color": "#EBF0F8"
             },
             "line": {
              "color": "white"
             }
            },
            "header": {
             "fill": {
              "color": "#C8D4E3"
             },
             "line": {
              "color": "white"
             }
            },
            "type": "table"
           }
          ]
         },
         "layout": {
          "annotationdefaults": {
           "arrowcolor": "#2a3f5f",
           "arrowhead": 0,
           "arrowwidth": 1
          },
          "autotypenumbers": "strict",
          "coloraxis": {
           "colorbar": {
            "outlinewidth": 0,
            "ticks": ""
           }
          },
          "colorscale": {
           "diverging": [
            [
             0,
             "#8e0152"
            ],
            [
             0.1,
             "#c51b7d"
            ],
            [
             0.2,
             "#de77ae"
            ],
            [
             0.3,
             "#f1b6da"
            ],
            [
             0.4,
             "#fde0ef"
            ],
            [
             0.5,
             "#f7f7f7"
            ],
            [
             0.6,
             "#e6f5d0"
            ],
            [
             0.7,
             "#b8e186"
            ],
            [
             0.8,
             "#7fbc41"
            ],
            [
             0.9,
             "#4d9221"
            ],
            [
             1,
             "#276419"
            ]
           ],
           "sequential": [
            [
             0,
             "#0d0887"
            ],
            [
             0.1111111111111111,
             "#46039f"
            ],
            [
             0.2222222222222222,
             "#7201a8"
            ],
            [
             0.3333333333333333,
             "#9c179e"
            ],
            [
             0.4444444444444444,
             "#bd3786"
            ],
            [
             0.5555555555555556,
             "#d8576b"
            ],
            [
             0.6666666666666666,
             "#ed7953"
            ],
            [
             0.7777777777777778,
             "#fb9f3a"
            ],
            [
             0.8888888888888888,
             "#fdca26"
            ],
            [
             1,
             "#f0f921"
            ]
           ],
           "sequentialminus": [
            [
             0,
             "#0d0887"
            ],
            [
             0.1111111111111111,
             "#46039f"
            ],
            [
             0.2222222222222222,
             "#7201a8"
            ],
            [
             0.3333333333333333,
             "#9c179e"
            ],
            [
             0.4444444444444444,
             "#bd3786"
            ],
            [
             0.5555555555555556,
             "#d8576b"
            ],
            [
             0.6666666666666666,
             "#ed7953"
            ],
            [
             0.7777777777777778,
             "#fb9f3a"
            ],
            [
             0.8888888888888888,
             "#fdca26"
            ],
            [
             1,
             "#f0f921"
            ]
           ]
          },
          "colorway": [
           "#636efa",
           "#EF553B",
           "#00cc96",
           "#ab63fa",
           "#FFA15A",
           "#19d3f3",
           "#FF6692",
           "#B6E880",
           "#FF97FF",
           "#FECB52"
          ],
          "font": {
           "color": "#2a3f5f"
          },
          "geo": {
           "bgcolor": "white",
           "lakecolor": "white",
           "landcolor": "#E5ECF6",
           "showlakes": true,
           "showland": true,
           "subunitcolor": "white"
          },
          "hoverlabel": {
           "align": "left"
          },
          "hovermode": "closest",
          "mapbox": {
           "style": "light"
          },
          "paper_bgcolor": "white",
          "plot_bgcolor": "#E5ECF6",
          "polar": {
           "angularaxis": {
            "gridcolor": "white",
            "linecolor": "white",
            "ticks": ""
           },
           "bgcolor": "#E5ECF6",
           "radialaxis": {
            "gridcolor": "white",
            "linecolor": "white",
            "ticks": ""
           }
          },
          "scene": {
           "xaxis": {
            "backgroundcolor": "#E5ECF6",
            "gridcolor": "white",
            "gridwidth": 2,
            "linecolor": "white",
            "showbackground": true,
            "ticks": "",
            "zerolinecolor": "white"
           },
           "yaxis": {
            "backgroundcolor": "#E5ECF6",
            "gridcolor": "white",
            "gridwidth": 2,
            "linecolor": "white",
            "showbackground": true,
            "ticks": "",
            "zerolinecolor": "white"
           },
           "zaxis": {
            "backgroundcolor": "#E5ECF6",
            "gridcolor": "white",
            "gridwidth": 2,
            "linecolor": "white",
            "showbackground": true,
            "ticks": "",
            "zerolinecolor": "white"
           }
          },
          "shapedefaults": {
           "line": {
            "color": "#2a3f5f"
           }
          },
          "ternary": {
           "aaxis": {
            "gridcolor": "white",
            "linecolor": "white",
            "ticks": ""
           },
           "baxis": {
            "gridcolor": "white",
            "linecolor": "white",
            "ticks": ""
           },
           "bgcolor": "#E5ECF6",
           "caxis": {
            "gridcolor": "white",
            "linecolor": "white",
            "ticks": ""
           }
          },
          "title": {
           "x": 0.05
          },
          "xaxis": {
           "automargin": true,
           "gridcolor": "white",
           "linecolor": "white",
           "ticks": "",
           "title": {
            "standoff": 15
           },
           "zerolinecolor": "white",
           "zerolinewidth": 2
          },
          "yaxis": {
           "automargin": true,
           "gridcolor": "white",
           "linecolor": "white",
           "ticks": "",
           "title": {
            "standoff": 15
           },
           "zerolinecolor": "white",
           "zerolinewidth": 2
          }
         }
        },
        "title": {
         "text": "Histogram of age variable vs Normal Distribution PDF"
        },
        "xaxis": {
         "anchor": "y",
         "domain": [
          0,
          1
         ],
         "title": {
          "text": "age"
         }
        },
        "yaxis": {
         "anchor": "x",
         "domain": [
          0,
          1
         ],
         "title": {
          "text": "probability density"
         }
        }
       }
      }
     },
     "metadata": {},
     "output_type": "display_data"
    },
    {
     "data": {
      "application/vnd.plotly.v1+json": {
       "config": {
        "plotlyServerURL": "https://plot.ly"
       },
       "data": [
        {
         "alignmentgroup": "True",
         "bingroup": "x",
         "histnorm": "probability density",
         "hovertemplate": "income=%{x}<br>probability density=%{y}<extra></extra>",
         "legendgroup": "",
         "marker": {
          "color": "#636efa",
          "pattern": {
           "shape": ""
          }
         },
         "name": "",
         "offsetgroup": "",
         "orientation": "v",
         "showlegend": false,
         "type": "histogram",
         "x": [
          1213.1,
          1300.14,
          1203.19,
          1231.13,
          892.02,
          1081.08,
          1163.04,
          1771.13,
          1427.16,
          2256.12,
          1354.09,
          2105.59,
          1811.94,
          1267.78,
          1845.5,
          1462.29,
          1510.84,
          1108.41,
          2300.51,
          1267.12,
          1300.31,
          1258.13,
          852.19,
          827.78,
          933.98,
          1773.67,
          1819.51,
          1911.56,
          1158.65,
          1096.15,
          1768.2,
          2206.16,
          1577.75,
          1373.6,
          2942.22,
          946.28,
          2842.48,
          1099.86,
          1919.58,
          1075.74,
          2305.61,
          981.16,
          915.63,
          2714.58,
          1170.3,
          998.5,
          1375.86,
          2115.42,
          2296.07,
          951.28,
          3248.04,
          1023.62,
          1840.31,
          802.79,
          1899.31,
          1199.21,
          851.43,
          1003.05,
          3986.76,
          1157.99,
          846.47,
          4404.13,
          1261.48,
          1762.86,
          2542.76,
          1452.9,
          1283.86,
          1820.14,
          1329.38,
          826.29,
          2746.13,
          1709.97,
          1279.76,
          1090.15,
          977.31,
          1287.49,
          1567.67,
          1183.1,
          1033.57,
          1231.7,
          1174.22,
          2209.79,
          1080.6,
          1190.09,
          1841.54,
          1178.9,
          2043.04,
          991.48,
          1060.55,
          794.59,
          1451.02,
          1003.85,
          3067.35,
          1862.64,
          888.76,
          837.5,
          2334.08,
          1494.62,
          1160.35,
          831.02,
          1295.92,
          1053.19,
          1262.17,
          1172.38,
          1187.71,
          1047.95,
          1445.84,
          1152.36,
          1514.08,
          2735.26,
          2208.97,
          1453.03,
          2541.04,
          1147.58,
          821.7,
          1428.43,
          1073.47,
          825.25,
          1442.04,
          1084.44,
          1117.43,
          1599.26,
          814.96,
          1988.6,
          2204.1,
          1042.7,
          1171.44,
          1605.17,
          1002.1,
          1122.53,
          752.32,
          1026.74,
          940.21,
          1839.92,
          1217.44,
          900.96,
          1091.59,
          987.72,
          2195.51,
          966.74,
          1137.59,
          880.15,
          1330.52,
          1748.95,
          1059.14,
          2071.16,
          1469.95,
          2515.48,
          931.58,
          1063.24,
          1545.96,
          866.86,
          1129.22,
          1066.75,
          1453.34,
          1264.52,
          974.1,
          2805.78,
          5902.86,
          1636.9,
          1019.96,
          1143.1,
          939.89,
          849.83,
          1507.68,
          1163.96,
          993.97,
          1207.09,
          1286.12,
          954.09,
          1253.59,
          1530.3,
          817.23,
          1095.52,
          1317.78,
          4480.25,
          1146.46,
          954.66,
          2597.85,
          2060.79,
          1113.46,
          2994.62,
          998.21,
          1034.6,
          1212.22,
          1272.3,
          2777.24,
          1819.47,
          1095.21,
          2003.97,
          745.39,
          1984.93,
          1769.18,
          1162.13,
          1043.45,
          2918.94,
          956.52,
          3863.91,
          1218.51,
          1008.49,
          1276.91,
          868.58,
          1545.75,
          1117.02,
          954.67,
          1370.35,
          1041.45,
          782.15,
          1260.85,
          1342.62,
          1000.33,
          1396.47,
          1132.76,
          1300.5,
          1933.83,
          1802.07,
          1725.79,
          1384.31,
          1405.41,
          2409.14,
          972.45,
          1722.88,
          3517.69,
          964.78,
          1344.56,
          1210.34,
          910.41,
          2095.4,
          970.44,
          1134.09,
          1947.62,
          1175.59,
          1474.32,
          1429.79,
          5028.91,
          1447.41,
          1545.23,
          1182.08,
          2502.1,
          2347.95,
          1263.47,
          1177.32,
          1408.9,
          1573.23,
          1711.35,
          1243.71,
          1183.9,
          1277.35,
          2082.11,
          1643.4,
          1357.89,
          2471.34,
          1568.28,
          1252.89,
          952.8,
          2123.89,
          1298.63,
          3634.14,
          1208.05,
          1160.49,
          964.77,
          1611.27,
          846.65,
          1565.16,
          1477.12,
          1021.31,
          1351.57,
          6671.5,
          1439.24,
          754.52,
          884.55,
          1721.6,
          1508.45,
          1779.15,
          1070.22,
          1317.94,
          1566.9,
          1138.93,
          1142.53,
          1773.9,
          1838.25,
          1123.39,
          796.01,
          2085.29,
          1092.12,
          1000.07,
          1784.87,
          1319.85,
          1847.41,
          3103.44,
          1414.37,
          1433.5,
          1437.97,
          999.47,
          4300.31,
          1161.38,
          1037.63,
          1229.07,
          978.58,
          961.61,
          1113.78,
          1370.81,
          1540.81,
          1101.53,
          2060.15,
          1750.81,
          1614.59,
          1513.15,
          2323.08,
          1056.69,
          1027.28,
          4347,
          996.35,
          963.2,
          1095.02,
          4368.75,
          1209.69,
          1341.34,
          1513.81,
          1051.32,
          889.91,
          1157.32,
          975.01,
          2687.57,
          954.62,
          888.6,
          1439.42,
          928.96,
          945.04,
          946.36,
          863.77,
          900.66,
          2220.13,
          3841.89,
          1417.66,
          4658.16,
          897.32,
          755.7,
          1219.5,
          1450.57,
          934.55,
          7089.02,
          899.86,
          1123.02,
          1891.57,
          1186.34,
          1182.36,
          1981.5,
          3064.33,
          6226.69,
          980.62,
          2564.94,
          1107.12,
          3582.42,
          849,
          876.63,
          1186.04,
          1870.53,
          1620.38,
          1038.14,
          5190.97,
          3995.17,
          827.09,
          1687.7,
          2087.32,
          1754.94,
          1792.7,
          1852.69,
          1041.35,
          991.42,
          919.64,
          1669.68,
          956.4,
          2106.35,
          1868.25,
          2688.46,
          1792.51,
          691.73,
          1879.56,
          2080.85,
          1136.59,
          1596.36,
          1059.22,
          1159.68,
          1857.27,
          1338.38,
          911.03,
          899.59,
          987.16,
          1665.47,
          913.94,
          812.31,
          4230.68,
          1254.3,
          1185.05,
          1850.54,
          1099.69,
          1852.14,
          1096.18,
          1777.53,
          2612.71,
          1292.53,
          950.64,
          1103.97,
          4171.77,
          950.03,
          1073.88,
          2276.72,
          1162.57,
          887.3,
          838.11,
          2043.85,
          1427.66,
          1116.66,
          1264.99,
          1825.53,
          1839.39,
          1255.94,
          1889.03,
          859.54,
          1183.6,
          1340.43,
          1391.13,
          1367.67,
          1353.43,
          6509.39,
          1722.57,
          2106.35,
          1222.1,
          1703.12,
          1629.33,
          1929.64,
          1214.78,
          946.26,
          2023.93,
          2042.38,
          1609.67,
          1148.17,
          1653.79,
          4164.72,
          1018.62,
          1306.82,
          1336.11,
          1703.69,
          1104.18,
          6838.88,
          1447.32,
          1142.19,
          944.19,
          2293.23
         ],
         "xaxis": "x",
         "yaxis": "y"
        },
        {
         "name": "Normal distribution",
         "type": "scatter",
         "x": [
          691.73,
          822.2869387755102,
          952.8438775510205,
          1083.4008163265307,
          1213.957755102041,
          1344.514693877551,
          1475.0716326530614,
          1605.6285714285716,
          1736.1855102040818,
          1866.742448979592,
          1997.299387755102,
          2127.8563265306125,
          2258.4132653061224,
          2388.970204081633,
          2519.527142857143,
          2650.0840816326536,
          2780.6410204081635,
          2911.197959183674,
          3041.754897959184,
          3172.311836734694,
          3302.868775510204,
          3433.4257142857145,
          3563.982653061225,
          3694.539591836735,
          3825.0965306122453,
          3955.6534693877556,
          4086.2104081632656,
          4216.7673469387755,
          4347.324285714287,
          4477.881224489796,
          4608.438163265307,
          4738.995102040817,
          4869.552040816327,
          5000.108979591838,
          5130.665918367347,
          5261.222857142857,
          5391.779795918368,
          5522.336734693878,
          5652.893673469389,
          5783.450612244898,
          5914.007551020408,
          6044.564489795919,
          6175.121428571429,
          6305.67836734694,
          6436.235306122449,
          6566.792244897961,
          6697.34918367347,
          6827.90612244898,
          6958.463061224491,
          7089.02
         ],
         "y": [
          0.0002682479652507119,
          0.000303427355477302,
          0.00033667125357054377,
          0.00036642943125636735,
          0.0003912079478202908,
          0.00040969248585431454,
          0.0004208635715089586,
          0.00042408965871035704,
          0.0004191862580534446,
          0.000406433408977696,
          0.0003865491932923016,
          0.0003606227750458546,
          0.0003300156528221974,
          0.00029624357209155996,
          0.0002608533033120308,
          0.00022530807352145606,
          0.0001908930759538262,
          0.00015864873232845176,
          0.0001293349932950299,
          0.00010342570548256998,
          0.00008112859361644689,
          0.00006242411749438794,
          0.00004711550860658429,
          0.00003488256115991217,
          0.000025332955106108915,
          0.000018046639835903044,
          0.00001261071924427241,
          0.000008644032107357873,
          0.000005812003861056604,
          0.000003833261306503909,
          0.000002479955939528375,
          0.000001573810769964066,
          9.797021686603434e-7,
          5.982306144030452e-7,
          3.583242557572765e-7,
          2.1053135672224812e-7,
          1.2133619711128882e-7,
          6.859571349820115e-8,
          3.803965633400899e-8,
          2.0692320667147e-8,
          1.1041163060117762e-8,
          5.779010132231748e-9,
          2.9670515813849175e-9,
          1.494272298759982e-9,
          7.381887170011265e-10,
          3.577157552454668e-10,
          1.7003633787852324e-10,
          7.928269885421593e-11,
          3.6261696323598435e-11,
          1.626862378038709e-11
         ]
        }
       ],
       "layout": {
        "barmode": "relative",
        "legend": {
         "tracegroupgap": 0
        },
        "template": {
         "data": {
          "bar": [
           {
            "error_x": {
             "color": "#2a3f5f"
            },
            "error_y": {
             "color": "#2a3f5f"
            },
            "marker": {
             "line": {
              "color": "#E5ECF6",
              "width": 0.5
             },
             "pattern": {
              "fillmode": "overlay",
              "size": 10,
              "solidity": 0.2
             }
            },
            "type": "bar"
           }
          ],
          "barpolar": [
           {
            "marker": {
             "line": {
              "color": "#E5ECF6",
              "width": 0.5
             },
             "pattern": {
              "fillmode": "overlay",
              "size": 10,
              "solidity": 0.2
             }
            },
            "type": "barpolar"
           }
          ],
          "carpet": [
           {
            "aaxis": {
             "endlinecolor": "#2a3f5f",
             "gridcolor": "white",
             "linecolor": "white",
             "minorgridcolor": "white",
             "startlinecolor": "#2a3f5f"
            },
            "baxis": {
             "endlinecolor": "#2a3f5f",
             "gridcolor": "white",
             "linecolor": "white",
             "minorgridcolor": "white",
             "startlinecolor": "#2a3f5f"
            },
            "type": "carpet"
           }
          ],
          "choropleth": [
           {
            "colorbar": {
             "outlinewidth": 0,
             "ticks": ""
            },
            "type": "choropleth"
           }
          ],
          "contour": [
           {
            "colorbar": {
             "outlinewidth": 0,
             "ticks": ""
            },
            "colorscale": [
             [
              0,
              "#0d0887"
             ],
             [
              0.1111111111111111,
              "#46039f"
             ],
             [
              0.2222222222222222,
              "#7201a8"
             ],
             [
              0.3333333333333333,
              "#9c179e"
             ],
             [
              0.4444444444444444,
              "#bd3786"
             ],
             [
              0.5555555555555556,
              "#d8576b"
             ],
             [
              0.6666666666666666,
              "#ed7953"
             ],
             [
              0.7777777777777778,
              "#fb9f3a"
             ],
             [
              0.8888888888888888,
              "#fdca26"
             ],
             [
              1,
              "#f0f921"
             ]
            ],
            "type": "contour"
           }
          ],
          "contourcarpet": [
           {
            "colorbar": {
             "outlinewidth": 0,
             "ticks": ""
            },
            "type": "contourcarpet"
           }
          ],
          "heatmap": [
           {
            "colorbar": {
             "outlinewidth": 0,
             "ticks": ""
            },
            "colorscale": [
             [
              0,
              "#0d0887"
             ],
             [
              0.1111111111111111,
              "#46039f"
             ],
             [
              0.2222222222222222,
              "#7201a8"
             ],
             [
              0.3333333333333333,
              "#9c179e"
             ],
             [
              0.4444444444444444,
              "#bd3786"
             ],
             [
              0.5555555555555556,
              "#d8576b"
             ],
             [
              0.6666666666666666,
              "#ed7953"
             ],
             [
              0.7777777777777778,
              "#fb9f3a"
             ],
             [
              0.8888888888888888,
              "#fdca26"
             ],
             [
              1,
              "#f0f921"
             ]
            ],
            "type": "heatmap"
           }
          ],
          "heatmapgl": [
           {
            "colorbar": {
             "outlinewidth": 0,
             "ticks": ""
            },
            "colorscale": [
             [
              0,
              "#0d0887"
             ],
             [
              0.1111111111111111,
              "#46039f"
             ],
             [
              0.2222222222222222,
              "#7201a8"
             ],
             [
              0.3333333333333333,
              "#9c179e"
             ],
             [
              0.4444444444444444,
              "#bd3786"
             ],
             [
              0.5555555555555556,
              "#d8576b"
             ],
             [
              0.6666666666666666,
              "#ed7953"
             ],
             [
              0.7777777777777778,
              "#fb9f3a"
             ],
             [
              0.8888888888888888,
              "#fdca26"
             ],
             [
              1,
              "#f0f921"
             ]
            ],
            "type": "heatmapgl"
           }
          ],
          "histogram": [
           {
            "marker": {
             "pattern": {
              "fillmode": "overlay",
              "size": 10,
              "solidity": 0.2
             }
            },
            "type": "histogram"
           }
          ],
          "histogram2d": [
           {
            "colorbar": {
             "outlinewidth": 0,
             "ticks": ""
            },
            "colorscale": [
             [
              0,
              "#0d0887"
             ],
             [
              0.1111111111111111,
              "#46039f"
             ],
             [
              0.2222222222222222,
              "#7201a8"
             ],
             [
              0.3333333333333333,
              "#9c179e"
             ],
             [
              0.4444444444444444,
              "#bd3786"
             ],
             [
              0.5555555555555556,
              "#d8576b"
             ],
             [
              0.6666666666666666,
              "#ed7953"
             ],
             [
              0.7777777777777778,
              "#fb9f3a"
             ],
             [
              0.8888888888888888,
              "#fdca26"
             ],
             [
              1,
              "#f0f921"
             ]
            ],
            "type": "histogram2d"
           }
          ],
          "histogram2dcontour": [
           {
            "colorbar": {
             "outlinewidth": 0,
             "ticks": ""
            },
            "colorscale": [
             [
              0,
              "#0d0887"
             ],
             [
              0.1111111111111111,
              "#46039f"
             ],
             [
              0.2222222222222222,
              "#7201a8"
             ],
             [
              0.3333333333333333,
              "#9c179e"
             ],
             [
              0.4444444444444444,
              "#bd3786"
             ],
             [
              0.5555555555555556,
              "#d8576b"
             ],
             [
              0.6666666666666666,
              "#ed7953"
             ],
             [
              0.7777777777777778,
              "#fb9f3a"
             ],
             [
              0.8888888888888888,
              "#fdca26"
             ],
             [
              1,
              "#f0f921"
             ]
            ],
            "type": "histogram2dcontour"
           }
          ],
          "mesh3d": [
           {
            "colorbar": {
             "outlinewidth": 0,
             "ticks": ""
            },
            "type": "mesh3d"
           }
          ],
          "parcoords": [
           {
            "line": {
             "colorbar": {
              "outlinewidth": 0,
              "ticks": ""
             }
            },
            "type": "parcoords"
           }
          ],
          "pie": [
           {
            "automargin": true,
            "type": "pie"
           }
          ],
          "scatter": [
           {
            "fillpattern": {
             "fillmode": "overlay",
             "size": 10,
             "solidity": 0.2
            },
            "type": "scatter"
           }
          ],
          "scatter3d": [
           {
            "line": {
             "colorbar": {
              "outlinewidth": 0,
              "ticks": ""
             }
            },
            "marker": {
             "colorbar": {
              "outlinewidth": 0,
              "ticks": ""
             }
            },
            "type": "scatter3d"
           }
          ],
          "scattercarpet": [
           {
            "marker": {
             "colorbar": {
              "outlinewidth": 0,
              "ticks": ""
             }
            },
            "type": "scattercarpet"
           }
          ],
          "scattergeo": [
           {
            "marker": {
             "colorbar": {
              "outlinewidth": 0,
              "ticks": ""
             }
            },
            "type": "scattergeo"
           }
          ],
          "scattergl": [
           {
            "marker": {
             "colorbar": {
              "outlinewidth": 0,
              "ticks": ""
             }
            },
            "type": "scattergl"
           }
          ],
          "scattermapbox": [
           {
            "marker": {
             "colorbar": {
              "outlinewidth": 0,
              "ticks": ""
             }
            },
            "type": "scattermapbox"
           }
          ],
          "scatterpolar": [
           {
            "marker": {
             "colorbar": {
              "outlinewidth": 0,
              "ticks": ""
             }
            },
            "type": "scatterpolar"
           }
          ],
          "scatterpolargl": [
           {
            "marker": {
             "colorbar": {
              "outlinewidth": 0,
              "ticks": ""
             }
            },
            "type": "scatterpolargl"
           }
          ],
          "scatterternary": [
           {
            "marker": {
             "colorbar": {
              "outlinewidth": 0,
              "ticks": ""
             }
            },
            "type": "scatterternary"
           }
          ],
          "surface": [
           {
            "colorbar": {
             "outlinewidth": 0,
             "ticks": ""
            },
            "colorscale": [
             [
              0,
              "#0d0887"
             ],
             [
              0.1111111111111111,
              "#46039f"
             ],
             [
              0.2222222222222222,
              "#7201a8"
             ],
             [
              0.3333333333333333,
              "#9c179e"
             ],
             [
              0.4444444444444444,
              "#bd3786"
             ],
             [
              0.5555555555555556,
              "#d8576b"
             ],
             [
              0.6666666666666666,
              "#ed7953"
             ],
             [
              0.7777777777777778,
              "#fb9f3a"
             ],
             [
              0.8888888888888888,
              "#fdca26"
             ],
             [
              1,
              "#f0f921"
             ]
            ],
            "type": "surface"
           }
          ],
          "table": [
           {
            "cells": {
             "fill": {
              "color": "#EBF0F8"
             },
             "line": {
              "color": "white"
             }
            },
            "header": {
             "fill": {
              "color": "#C8D4E3"
             },
             "line": {
              "color": "white"
             }
            },
            "type": "table"
           }
          ]
         },
         "layout": {
          "annotationdefaults": {
           "arrowcolor": "#2a3f5f",
           "arrowhead": 0,
           "arrowwidth": 1
          },
          "autotypenumbers": "strict",
          "coloraxis": {
           "colorbar": {
            "outlinewidth": 0,
            "ticks": ""
           }
          },
          "colorscale": {
           "diverging": [
            [
             0,
             "#8e0152"
            ],
            [
             0.1,
             "#c51b7d"
            ],
            [
             0.2,
             "#de77ae"
            ],
            [
             0.3,
             "#f1b6da"
            ],
            [
             0.4,
             "#fde0ef"
            ],
            [
             0.5,
             "#f7f7f7"
            ],
            [
             0.6,
             "#e6f5d0"
            ],
            [
             0.7,
             "#b8e186"
            ],
            [
             0.8,
             "#7fbc41"
            ],
            [
             0.9,
             "#4d9221"
            ],
            [
             1,
             "#276419"
            ]
           ],
           "sequential": [
            [
             0,
             "#0d0887"
            ],
            [
             0.1111111111111111,
             "#46039f"
            ],
            [
             0.2222222222222222,
             "#7201a8"
            ],
            [
             0.3333333333333333,
             "#9c179e"
            ],
            [
             0.4444444444444444,
             "#bd3786"
            ],
            [
             0.5555555555555556,
             "#d8576b"
            ],
            [
             0.6666666666666666,
             "#ed7953"
            ],
            [
             0.7777777777777778,
             "#fb9f3a"
            ],
            [
             0.8888888888888888,
             "#fdca26"
            ],
            [
             1,
             "#f0f921"
            ]
           ],
           "sequentialminus": [
            [
             0,
             "#0d0887"
            ],
            [
             0.1111111111111111,
             "#46039f"
            ],
            [
             0.2222222222222222,
             "#7201a8"
            ],
            [
             0.3333333333333333,
             "#9c179e"
            ],
            [
             0.4444444444444444,
             "#bd3786"
            ],
            [
             0.5555555555555556,
             "#d8576b"
            ],
            [
             0.6666666666666666,
             "#ed7953"
            ],
            [
             0.7777777777777778,
             "#fb9f3a"
            ],
            [
             0.8888888888888888,
             "#fdca26"
            ],
            [
             1,
             "#f0f921"
            ]
           ]
          },
          "colorway": [
           "#636efa",
           "#EF553B",
           "#00cc96",
           "#ab63fa",
           "#FFA15A",
           "#19d3f3",
           "#FF6692",
           "#B6E880",
           "#FF97FF",
           "#FECB52"
          ],
          "font": {
           "color": "#2a3f5f"
          },
          "geo": {
           "bgcolor": "white",
           "lakecolor": "white",
           "landcolor": "#E5ECF6",
           "showlakes": true,
           "showland": true,
           "subunitcolor": "white"
          },
          "hoverlabel": {
           "align": "left"
          },
          "hovermode": "closest",
          "mapbox": {
           "style": "light"
          },
          "paper_bgcolor": "white",
          "plot_bgcolor": "#E5ECF6",
          "polar": {
           "angularaxis": {
            "gridcolor": "white",
            "linecolor": "white",
            "ticks": ""
           },
           "bgcolor": "#E5ECF6",
           "radialaxis": {
            "gridcolor": "white",
            "linecolor": "white",
            "ticks": ""
           }
          },
          "scene": {
           "xaxis": {
            "backgroundcolor": "#E5ECF6",
            "gridcolor": "white",
            "gridwidth": 2,
            "linecolor": "white",
            "showbackground": true,
            "ticks": "",
            "zerolinecolor": "white"
           },
           "yaxis": {
            "backgroundcolor": "#E5ECF6",
            "gridcolor": "white",
            "gridwidth": 2,
            "linecolor": "white",
            "showbackground": true,
            "ticks": "",
            "zerolinecolor": "white"
           },
           "zaxis": {
            "backgroundcolor": "#E5ECF6",
            "gridcolor": "white",
            "gridwidth": 2,
            "linecolor": "white",
            "showbackground": true,
            "ticks": "",
            "zerolinecolor": "white"
           }
          },
          "shapedefaults": {
           "line": {
            "color": "#2a3f5f"
           }
          },
          "ternary": {
           "aaxis": {
            "gridcolor": "white",
            "linecolor": "white",
            "ticks": ""
           },
           "baxis": {
            "gridcolor": "white",
            "linecolor": "white",
            "ticks": ""
           },
           "bgcolor": "#E5ECF6",
           "caxis": {
            "gridcolor": "white",
            "linecolor": "white",
            "ticks": ""
           }
          },
          "title": {
           "x": 0.05
          },
          "xaxis": {
           "automargin": true,
           "gridcolor": "white",
           "linecolor": "white",
           "ticks": "",
           "title": {
            "standoff": 15
           },
           "zerolinecolor": "white",
           "zerolinewidth": 2
          },
          "yaxis": {
           "automargin": true,
           "gridcolor": "white",
           "linecolor": "white",
           "ticks": "",
           "title": {
            "standoff": 15
           },
           "zerolinecolor": "white",
           "zerolinewidth": 2
          }
         }
        },
        "title": {
         "text": "Histogram of income variable vs Normal Distribution PDF"
        },
        "xaxis": {
         "anchor": "y",
         "domain": [
          0,
          1
         ],
         "title": {
          "text": "income"
         }
        },
        "yaxis": {
         "anchor": "x",
         "domain": [
          0,
          1
         ],
         "title": {
          "text": "probability density"
         }
        }
       }
      }
     },
     "metadata": {},
     "output_type": "display_data"
    },
    {
     "data": {
      "application/vnd.plotly.v1+json": {
       "config": {
        "plotlyServerURL": "https://plot.ly"
       },
       "data": [
        {
         "alignmentgroup": "True",
         "bingroup": "x",
         "histnorm": "probability density",
         "hovertemplate": "savings=%{x}<br>probability density=%{y}<extra></extra>",
         "legendgroup": "",
         "marker": {
          "color": "#636efa",
          "pattern": {
           "shape": ""
          }
         },
         "name": "",
         "offsetgroup": "",
         "orientation": "v",
         "showlegend": false,
         "type": "histogram",
         "x": [
          480.45,
          192.14,
          643.34,
          303.35,
          424.99,
          556.04,
          416.89,
          419.02,
          484.21,
          363.35,
          490.61,
          127.14,
          1037.04,
          374.18,
          846.65,
          664.81,
          132.84,
          505.02,
          600.62,
          175.15,
          727.31,
          754.9,
          683.31,
          589.77,
          736.38,
          1008.78,
          878.03,
          918.91,
          597.19,
          800.62,
          851.11,
          337.99,
          496.75,
          231,
          1005.37,
          900.72,
          845.24,
          689.08,
          970.84,
          507.37,
          662.42,
          410.44,
          875.05,
          743.99,
          835.34,
          336.87,
          340.28,
          593.2,
          291.64,
          388.34,
          806.51,
          417.08,
          351.57,
          739.17,
          425.77,
          403.96,
          456.74,
          810.2,
          1641.1,
          393.27,
          447.64,
          1926.37,
          319.56,
          514,
          480.65,
          657.13,
          353.35,
          886.36,
          401.31,
          733.76,
          673.42,
          407.5,
          613.61,
          883.51,
          730.12,
          715.99,
          659.46,
          601.51,
          629.28,
          201.93,
          383,
          271.27,
          372.79,
          530.51,
          408.91,
          594.73,
          322.85,
          391.95,
          849.49,
          638.59,
          464.22,
          781.26,
          960.84,
          517.83,
          436.94,
          836.26,
          420.94,
          244.89,
          863.97,
          620.54,
          612.7,
          691.27,
          288.16,
          769.15,
          770.22,
          634.47,
          653.61,
          581.28,
          629.02,
          1016.71,
          336.18,
          581.51,
          903.43,
          585,
          737.26,
          702.35,
          475.45,
          640.77,
          153.35,
          432.69,
          823.69,
          292.13,
          637.3,
          671.66,
          240.79,
          513.57,
          534,
          552.89,
          708.19,
          413.29,
          442.23,
          289.4,
          889.99,
          864.99,
          745.34,
          409.45,
          290.16,
          904.54,
          417.84,
          510.32,
          747.09,
          456.87,
          315.09,
          661.85,
          381.06,
          364.02,
          564.36,
          560.09,
          627.55,
          377.48,
          680.74,
          748.36,
          682.21,
          905.65,
          649.32,
          208.07,
          411.39,
          853.56,
          3033.94,
          104.02,
          906.82,
          236.06,
          423.46,
          399.43,
          654.96,
          650.53,
          730.05,
          288.54,
          457.96,
          350.47,
          572.35,
          171.24,
          599.58,
          755.44,
          605.95,
          1762.64,
          861.71,
          727.63,
          644.49,
          188.96,
          333.1,
          549.52,
          313.89,
          793.49,
          229.32,
          506.11,
          593.03,
          398.46,
          368.3,
          519.21,
          624.7,
          594.87,
          252.96,
          603.41,
          694.91,
          677.35,
          738.91,
          1671.8,
          437.02,
          682.17,
          287.08,
          580.05,
          524,
          293.98,
          352.1,
          583.93,
          811.81,
          628.5,
          484.5,
          317.88,
          892.62,
          575.12,
          554.58,
          708.1,
          465.3,
          449.21,
          431.72,
          372.16,
          678.23,
          475.16,
          796.65,
          155.78,
          1091.44,
          435.54,
          600.88,
          607.05,
          523.77,
          192.36,
          693.45,
          584.74,
          169,
          842.72,
          129.02,
          179.15,
          2193.3,
          514.56,
          311.85,
          291.19,
          598.47,
          421.21,
          533.66,
          773.11,
          115.33,
          159.74,
          412.96,
          689.78,
          419.75,
          438.94,
          278.06,
          448.65,
          337.69,
          627.84,
          198.31,
          387.36,
          599.24,
          583.77,
          204.27,
          1313.1,
          739.16,
          406.31,
          781.36,
          631,
          817.35,
          109.1,
          85.8,
          557.57,
          464.77,
          2769.05,
          381.68,
          568.78,
          498.44,
          323.43,
          194.62,
          559.24,
          669.94,
          727.25,
          244.1,
          532.04,
          345.3,
          999.11,
          249.46,
          570.67,
          622.22,
          728.99,
          439.36,
          693.49,
          917.42,
          351.18,
          580.58,
          759.99,
          295.17,
          291.41,
          598.66,
          394.02,
          1880.8,
          232.54,
          548.62,
          758.26,
          910.33,
          497.95,
          327.27,
          212.51,
          306.56,
          481.93,
          423.6,
          216.53,
          312.04,
          562.85,
          241.06,
          389.49,
          815.1,
          2126.35,
          870.15,
          728.55,
          680.96,
          1755.83,
          467.39,
          681.51,
          359.02,
          843.37,
          878.76,
          669.26,
          927.62,
          635.4,
          795.39,
          554.46,
          551.7,
          866,
          679.15,
          817.63,
          382.07,
          476.91,
          287.11,
          1262.55,
          516.81,
          1835.92,
          692.23,
          652.63,
          557.92,
          665.38,
          428.27,
          3200.92,
          409.07,
          781.67,
          87.65,
          207.33,
          611.72,
          732.98,
          1012.42,
          2890.6,
          866.1,
          888.73,
          803.67,
          1336.29,
          431.13,
          675.3,
          614.4,
          165.95,
          613.89,
          893.35,
          2312.58,
          1409.11,
          697.92,
          427.55,
          477.2,
          282.9,
          355.38,
          924.67,
          560.05,
          351.49,
          637.42,
          193.68,
          509.21,
          259.76,
          955.28,
          528.66,
          174.79,
          577.74,
          992.25,
          577.08,
          459.65,
          134.29,
          581.65,
          326.91,
          957.64,
          203.43,
          744.35,
          474.95,
          358.36,
          215.01,
          558.63,
          779.83,
          1848.3,
          642.16,
          681.59,
          231.03,
          882.09,
          853.65,
          782.16,
          856.17,
          322.88,
          766,
          622.72,
          704.21,
          1789.78,
          370.42,
          391.97,
          423.45,
          335.07,
          773.33,
          560.74,
          535.67,
          472.28,
          286.89,
          458.55,
          365.52,
          853.07,
          342.54,
          629.24,
          425.93,
          716.61,
          417.94,
          522.06,
          433.08,
          375.35,
          2602.49,
          196.16,
          346.12,
          724.86,
          725.88,
          131.22,
          973.28,
          588.89,
          506.14,
          413.17,
          287.81,
          321.61,
          854.89,
          415.81,
          1789.96,
          803.19,
          535.58,
          310.29,
          348.13,
          591.49,
          2875.71,
          511.32,
          519.33,
          633.63,
          440.76
         ],
         "xaxis": "x",
         "yaxis": "y"
        },
        {
         "name": "Normal distribution",
         "type": "scatter",
         "x": [
          85.8,
          149.3738775510204,
          212.94775510204082,
          276.5216326530612,
          340.0955102040816,
          403.66938775510204,
          467.24326530612245,
          530.8171428571428,
          594.3910204081633,
          657.9648979591836,
          721.538775510204,
          785.1126530612245,
          848.6865306122448,
          912.2604081632653,
          975.8342857142857,
          1039.4081632653063,
          1102.9820408163266,
          1166.555918367347,
          1230.1297959183673,
          1293.7036734693877,
          1357.277551020408,
          1420.8514285714286,
          1484.425306122449,
          1547.9991836734694,
          1611.5730612244897,
          1675.14693877551,
          1738.7208163265307,
          1802.294693877551,
          1865.8685714285714,
          1929.4424489795917,
          1993.0163265306123,
          2056.5902040816327,
          2120.164081632653,
          2183.737959183674,
          2247.311836734694,
          2310.8857142857146,
          2374.459591836735,
          2438.0334693877553,
          2501.6073469387757,
          2565.181224489796,
          2628.7551020408164,
          2692.3289795918367,
          2755.9028571428576,
          2819.476734693878,
          2883.0506122448983,
          2946.6244897959186,
          3010.198367346939,
          3073.7722448979594,
          3137.3461224489797,
          3200.92
         ],
         "y": [
          0.0004204343418388161,
          0.0005056616579182272,
          0.0005941266592294781,
          0.0006819542346300831,
          0.0007646956069645848,
          0.0008376819053890758,
          0.0008964516027530785,
          0.0009371988263134394,
          0.0009571804031174912,
          0.0009550212505382338,
          0.0009308708841543797,
          0.0008863862945925253,
          0.0008245439177290306,
          0.0007493103423618038,
          0.0006652223558682654,
          0.000576937966329899,
          0.0004888195615517464,
          0.000404599376693288,
          0.0003271591084642787,
          0.00025843420680265,
          0.0001994335190725755,
          0.00015035001733495733,
          0.0001107301751431793,
          0.00007966832119093131,
          0.000055996710944040953,
          0.000038450017905063614,
          0.00002579216202778058,
          0.000016901923232541787,
          0.000010820359139036405,
          0.000006767128151986208,
          0.0000041345124181394885,
          0.000002467751217299882,
          0.0000014389166017150272,
          8.196473636311585e-7,
          4.561163535942183e-7,
          2.479598788694152e-7,
          1.3168744202457592e-7,
          6.832261532903769e-8,
          3.4629145686445276e-8,
          1.7146530130854378e-8,
          8.29407371458272e-9,
          3.919374017276754e-9,
          1.8093504884152542e-9,
          8.159919402888002e-10,
          3.5950605612222124e-10,
          1.5473327824626951e-10,
          6.50606529009689e-11,
          2.6724542677011715e-11,
          1.0724062129212094e-11,
          4.204027372679422e-12
         ]
        }
       ],
       "layout": {
        "barmode": "relative",
        "legend": {
         "tracegroupgap": 0
        },
        "template": {
         "data": {
          "bar": [
           {
            "error_x": {
             "color": "#2a3f5f"
            },
            "error_y": {
             "color": "#2a3f5f"
            },
            "marker": {
             "line": {
              "color": "#E5ECF6",
              "width": 0.5
             },
             "pattern": {
              "fillmode": "overlay",
              "size": 10,
              "solidity": 0.2
             }
            },
            "type": "bar"
           }
          ],
          "barpolar": [
           {
            "marker": {
             "line": {
              "color": "#E5ECF6",
              "width": 0.5
             },
             "pattern": {
              "fillmode": "overlay",
              "size": 10,
              "solidity": 0.2
             }
            },
            "type": "barpolar"
           }
          ],
          "carpet": [
           {
            "aaxis": {
             "endlinecolor": "#2a3f5f",
             "gridcolor": "white",
             "linecolor": "white",
             "minorgridcolor": "white",
             "startlinecolor": "#2a3f5f"
            },
            "baxis": {
             "endlinecolor": "#2a3f5f",
             "gridcolor": "white",
             "linecolor": "white",
             "minorgridcolor": "white",
             "startlinecolor": "#2a3f5f"
            },
            "type": "carpet"
           }
          ],
          "choropleth": [
           {
            "colorbar": {
             "outlinewidth": 0,
             "ticks": ""
            },
            "type": "choropleth"
           }
          ],
          "contour": [
           {
            "colorbar": {
             "outlinewidth": 0,
             "ticks": ""
            },
            "colorscale": [
             [
              0,
              "#0d0887"
             ],
             [
              0.1111111111111111,
              "#46039f"
             ],
             [
              0.2222222222222222,
              "#7201a8"
             ],
             [
              0.3333333333333333,
              "#9c179e"
             ],
             [
              0.4444444444444444,
              "#bd3786"
             ],
             [
              0.5555555555555556,
              "#d8576b"
             ],
             [
              0.6666666666666666,
              "#ed7953"
             ],
             [
              0.7777777777777778,
              "#fb9f3a"
             ],
             [
              0.8888888888888888,
              "#fdca26"
             ],
             [
              1,
              "#f0f921"
             ]
            ],
            "type": "contour"
           }
          ],
          "contourcarpet": [
           {
            "colorbar": {
             "outlinewidth": 0,
             "ticks": ""
            },
            "type": "contourcarpet"
           }
          ],
          "heatmap": [
           {
            "colorbar": {
             "outlinewidth": 0,
             "ticks": ""
            },
            "colorscale": [
             [
              0,
              "#0d0887"
             ],
             [
              0.1111111111111111,
              "#46039f"
             ],
             [
              0.2222222222222222,
              "#7201a8"
             ],
             [
              0.3333333333333333,
              "#9c179e"
             ],
             [
              0.4444444444444444,
              "#bd3786"
             ],
             [
              0.5555555555555556,
              "#d8576b"
             ],
             [
              0.6666666666666666,
              "#ed7953"
             ],
             [
              0.7777777777777778,
              "#fb9f3a"
             ],
             [
              0.8888888888888888,
              "#fdca26"
             ],
             [
              1,
              "#f0f921"
             ]
            ],
            "type": "heatmap"
           }
          ],
          "heatmapgl": [
           {
            "colorbar": {
             "outlinewidth": 0,
             "ticks": ""
            },
            "colorscale": [
             [
              0,
              "#0d0887"
             ],
             [
              0.1111111111111111,
              "#46039f"
             ],
             [
              0.2222222222222222,
              "#7201a8"
             ],
             [
              0.3333333333333333,
              "#9c179e"
             ],
             [
              0.4444444444444444,
              "#bd3786"
             ],
             [
              0.5555555555555556,
              "#d8576b"
             ],
             [
              0.6666666666666666,
              "#ed7953"
             ],
             [
              0.7777777777777778,
              "#fb9f3a"
             ],
             [
              0.8888888888888888,
              "#fdca26"
             ],
             [
              1,
              "#f0f921"
             ]
            ],
            "type": "heatmapgl"
           }
          ],
          "histogram": [
           {
            "marker": {
             "pattern": {
              "fillmode": "overlay",
              "size": 10,
              "solidity": 0.2
             }
            },
            "type": "histogram"
           }
          ],
          "histogram2d": [
           {
            "colorbar": {
             "outlinewidth": 0,
             "ticks": ""
            },
            "colorscale": [
             [
              0,
              "#0d0887"
             ],
             [
              0.1111111111111111,
              "#46039f"
             ],
             [
              0.2222222222222222,
              "#7201a8"
             ],
             [
              0.3333333333333333,
              "#9c179e"
             ],
             [
              0.4444444444444444,
              "#bd3786"
             ],
             [
              0.5555555555555556,
              "#d8576b"
             ],
             [
              0.6666666666666666,
              "#ed7953"
             ],
             [
              0.7777777777777778,
              "#fb9f3a"
             ],
             [
              0.8888888888888888,
              "#fdca26"
             ],
             [
              1,
              "#f0f921"
             ]
            ],
            "type": "histogram2d"
           }
          ],
          "histogram2dcontour": [
           {
            "colorbar": {
             "outlinewidth": 0,
             "ticks": ""
            },
            "colorscale": [
             [
              0,
              "#0d0887"
             ],
             [
              0.1111111111111111,
              "#46039f"
             ],
             [
              0.2222222222222222,
              "#7201a8"
             ],
             [
              0.3333333333333333,
              "#9c179e"
             ],
             [
              0.4444444444444444,
              "#bd3786"
             ],
             [
              0.5555555555555556,
              "#d8576b"
             ],
             [
              0.6666666666666666,
              "#ed7953"
             ],
             [
              0.7777777777777778,
              "#fb9f3a"
             ],
             [
              0.8888888888888888,
              "#fdca26"
             ],
             [
              1,
              "#f0f921"
             ]
            ],
            "type": "histogram2dcontour"
           }
          ],
          "mesh3d": [
           {
            "colorbar": {
             "outlinewidth": 0,
             "ticks": ""
            },
            "type": "mesh3d"
           }
          ],
          "parcoords": [
           {
            "line": {
             "colorbar": {
              "outlinewidth": 0,
              "ticks": ""
             }
            },
            "type": "parcoords"
           }
          ],
          "pie": [
           {
            "automargin": true,
            "type": "pie"
           }
          ],
          "scatter": [
           {
            "fillpattern": {
             "fillmode": "overlay",
             "size": 10,
             "solidity": 0.2
            },
            "type": "scatter"
           }
          ],
          "scatter3d": [
           {
            "line": {
             "colorbar": {
              "outlinewidth": 0,
              "ticks": ""
             }
            },
            "marker": {
             "colorbar": {
              "outlinewidth": 0,
              "ticks": ""
             }
            },
            "type": "scatter3d"
           }
          ],
          "scattercarpet": [
           {
            "marker": {
             "colorbar": {
              "outlinewidth": 0,
              "ticks": ""
             }
            },
            "type": "scattercarpet"
           }
          ],
          "scattergeo": [
           {
            "marker": {
             "colorbar": {
              "outlinewidth": 0,
              "ticks": ""
             }
            },
            "type": "scattergeo"
           }
          ],
          "scattergl": [
           {
            "marker": {
             "colorbar": {
              "outlinewidth": 0,
              "ticks": ""
             }
            },
            "type": "scattergl"
           }
          ],
          "scattermapbox": [
           {
            "marker": {
             "colorbar": {
              "outlinewidth": 0,
              "ticks": ""
             }
            },
            "type": "scattermapbox"
           }
          ],
          "scatterpolar": [
           {
            "marker": {
             "colorbar": {
              "outlinewidth": 0,
              "ticks": ""
             }
            },
            "type": "scatterpolar"
           }
          ],
          "scatterpolargl": [
           {
            "marker": {
             "colorbar": {
              "outlinewidth": 0,
              "ticks": ""
             }
            },
            "type": "scatterpolargl"
           }
          ],
          "scatterternary": [
           {
            "marker": {
             "colorbar": {
              "outlinewidth": 0,
              "ticks": ""
             }
            },
            "type": "scatterternary"
           }
          ],
          "surface": [
           {
            "colorbar": {
             "outlinewidth": 0,
             "ticks": ""
            },
            "colorscale": [
             [
              0,
              "#0d0887"
             ],
             [
              0.1111111111111111,
              "#46039f"
             ],
             [
              0.2222222222222222,
              "#7201a8"
             ],
             [
              0.3333333333333333,
              "#9c179e"
             ],
             [
              0.4444444444444444,
              "#bd3786"
             ],
             [
              0.5555555555555556,
              "#d8576b"
             ],
             [
              0.6666666666666666,
              "#ed7953"
             ],
             [
              0.7777777777777778,
              "#fb9f3a"
             ],
             [
              0.8888888888888888,
              "#fdca26"
             ],
             [
              1,
              "#f0f921"
             ]
            ],
            "type": "surface"
           }
          ],
          "table": [
           {
            "cells": {
             "fill": {
              "color": "#EBF0F8"
             },
             "line": {
              "color": "white"
             }
            },
            "header": {
             "fill": {
              "color": "#C8D4E3"
             },
             "line": {
              "color": "white"
             }
            },
            "type": "table"
           }
          ]
         },
         "layout": {
          "annotationdefaults": {
           "arrowcolor": "#2a3f5f",
           "arrowhead": 0,
           "arrowwidth": 1
          },
          "autotypenumbers": "strict",
          "coloraxis": {
           "colorbar": {
            "outlinewidth": 0,
            "ticks": ""
           }
          },
          "colorscale": {
           "diverging": [
            [
             0,
             "#8e0152"
            ],
            [
             0.1,
             "#c51b7d"
            ],
            [
             0.2,
             "#de77ae"
            ],
            [
             0.3,
             "#f1b6da"
            ],
            [
             0.4,
             "#fde0ef"
            ],
            [
             0.5,
             "#f7f7f7"
            ],
            [
             0.6,
             "#e6f5d0"
            ],
            [
             0.7,
             "#b8e186"
            ],
            [
             0.8,
             "#7fbc41"
            ],
            [
             0.9,
             "#4d9221"
            ],
            [
             1,
             "#276419"
            ]
           ],
           "sequential": [
            [
             0,
             "#0d0887"
            ],
            [
             0.1111111111111111,
             "#46039f"
            ],
            [
             0.2222222222222222,
             "#7201a8"
            ],
            [
             0.3333333333333333,
             "#9c179e"
            ],
            [
             0.4444444444444444,
             "#bd3786"
            ],
            [
             0.5555555555555556,
             "#d8576b"
            ],
            [
             0.6666666666666666,
             "#ed7953"
            ],
            [
             0.7777777777777778,
             "#fb9f3a"
            ],
            [
             0.8888888888888888,
             "#fdca26"
            ],
            [
             1,
             "#f0f921"
            ]
           ],
           "sequentialminus": [
            [
             0,
             "#0d0887"
            ],
            [
             0.1111111111111111,
             "#46039f"
            ],
            [
             0.2222222222222222,
             "#7201a8"
            ],
            [
             0.3333333333333333,
             "#9c179e"
            ],
            [
             0.4444444444444444,
             "#bd3786"
            ],
            [
             0.5555555555555556,
             "#d8576b"
            ],
            [
             0.6666666666666666,
             "#ed7953"
            ],
            [
             0.7777777777777778,
             "#fb9f3a"
            ],
            [
             0.8888888888888888,
             "#fdca26"
            ],
            [
             1,
             "#f0f921"
            ]
           ]
          },
          "colorway": [
           "#636efa",
           "#EF553B",
           "#00cc96",
           "#ab63fa",
           "#FFA15A",
           "#19d3f3",
           "#FF6692",
           "#B6E880",
           "#FF97FF",
           "#FECB52"
          ],
          "font": {
           "color": "#2a3f5f"
          },
          "geo": {
           "bgcolor": "white",
           "lakecolor": "white",
           "landcolor": "#E5ECF6",
           "showlakes": true,
           "showland": true,
           "subunitcolor": "white"
          },
          "hoverlabel": {
           "align": "left"
          },
          "hovermode": "closest",
          "mapbox": {
           "style": "light"
          },
          "paper_bgcolor": "white",
          "plot_bgcolor": "#E5ECF6",
          "polar": {
           "angularaxis": {
            "gridcolor": "white",
            "linecolor": "white",
            "ticks": ""
           },
           "bgcolor": "#E5ECF6",
           "radialaxis": {
            "gridcolor": "white",
            "linecolor": "white",
            "ticks": ""
           }
          },
          "scene": {
           "xaxis": {
            "backgroundcolor": "#E5ECF6",
            "gridcolor": "white",
            "gridwidth": 2,
            "linecolor": "white",
            "showbackground": true,
            "ticks": "",
            "zerolinecolor": "white"
           },
           "yaxis": {
            "backgroundcolor": "#E5ECF6",
            "gridcolor": "white",
            "gridwidth": 2,
            "linecolor": "white",
            "showbackground": true,
            "ticks": "",
            "zerolinecolor": "white"
           },
           "zaxis": {
            "backgroundcolor": "#E5ECF6",
            "gridcolor": "white",
            "gridwidth": 2,
            "linecolor": "white",
            "showbackground": true,
            "ticks": "",
            "zerolinecolor": "white"
           }
          },
          "shapedefaults": {
           "line": {
            "color": "#2a3f5f"
           }
          },
          "ternary": {
           "aaxis": {
            "gridcolor": "white",
            "linecolor": "white",
            "ticks": ""
           },
           "baxis": {
            "gridcolor": "white",
            "linecolor": "white",
            "ticks": ""
           },
           "bgcolor": "#E5ECF6",
           "caxis": {
            "gridcolor": "white",
            "linecolor": "white",
            "ticks": ""
           }
          },
          "title": {
           "x": 0.05
          },
          "xaxis": {
           "automargin": true,
           "gridcolor": "white",
           "linecolor": "white",
           "ticks": "",
           "title": {
            "standoff": 15
           },
           "zerolinecolor": "white",
           "zerolinewidth": 2
          },
          "yaxis": {
           "automargin": true,
           "gridcolor": "white",
           "linecolor": "white",
           "ticks": "",
           "title": {
            "standoff": 15
           },
           "zerolinecolor": "white",
           "zerolinewidth": 2
          }
         }
        },
        "title": {
         "text": "Histogram of savings variable vs Normal Distribution PDF"
        },
        "xaxis": {
         "anchor": "y",
         "domain": [
          0,
          1
         ],
         "title": {
          "text": "savings"
         }
        },
        "yaxis": {
         "anchor": "x",
         "domain": [
          0,
          1
         ],
         "title": {
          "text": "probability density"
         }
        }
       }
      }
     },
     "metadata": {},
     "output_type": "display_data"
    },
    {
     "data": {
      "application/vnd.plotly.v1+json": {
       "config": {
        "plotlyServerURL": "https://plot.ly"
       },
       "data": [
        {
         "alignmentgroup": "True",
         "bingroup": "x",
         "histnorm": "probability density",
         "hovertemplate": "expenses=%{x}<br>probability density=%{y}<extra></extra>",
         "legendgroup": "",
         "marker": {
          "color": "#636efa",
          "pattern": {
           "shape": ""
          }
         },
         "name": "",
         "offsetgroup": "",
         "orientation": "v",
         "showlegend": false,
         "type": "histogram",
         "x": [
          326.33,
          409.24,
          274.26,
          374.86,
          248.24,
          275.46,
          377.83,
          474.65,
          334.08,
          423.81,
          378.66,
          437.07,
          328.48,
          323.24,
          378.62,
          337.14,
          440.62,
          280.59,
          401.46,
          394.41,
          299.58,
          266.57,
          147.61,
          197.69,
          137.15,
          376.66,
          332.2,
          385.19,
          279.28,
          178.86,
          389.19,
          473.58,
          399.84,
          427.25,
          437.65,
          75.64,
          462.19,
          273.96,
          334.46,
          278.91,
          441.7,
          278.66,
          69.06,
          417.9,
          197.68,
          345.97,
          433.43,
          444.71,
          415.31,
          267.82,
          298.69,
          285.25,
          435.52,
          96.33,
          433.62,
          339.88,
          205.75,
          148.98,
          372.2,
          333,
          212.34,
          337.92,
          373.03,
          415.99,
          408.77,
          337.69,
          370.13,
          369.96,
          367.16,
          105.31,
          400.14,
          422.75,
          267.76,
          140.27,
          121.71,
          277.41,
          366.61,
          322.98,
          241.2,
          355.29,
          390.66,
          439.69,
          312.85,
          296.98,
          428.35,
          327.28,
          434.89,
          286.97,
          104.5,
          167.92,
          432.52,
          147.99,
          450.04,
          430.17,
          236.62,
          39.06,
          425.55,
          421.76,
          183.4,
          144.5,
          273.97,
          204.69,
          369.7,
          217.93,
          242.99,
          222.27,
          336.84,
          236.55,
          353.23,
          429.56,
          421.81,
          361.53,
          444.06,
          319.48,
          141.25,
          318.89,
          333.16,
          136.88,
          378.32,
          303.87,
          172.21,
          471.9,
          97.11,
          430.72,
          467.76,
          263.13,
          258.78,
          395.82,
          185.84,
          275.77,
          182.88,
          286.05,
          94.36,
          402,
          204.44,
          211.69,
          306.43,
          139.46,
          438.84,
          258.96,
          179.38,
          196.77,
          383.11,
          394.44,
          303.22,
          443.52,
          409.93,
          419.21,
          203.28,
          305.47,
          358.43,
          110.4,
          288.62,
          168,
          356.01,
          436.81,
          292.4,
          419.57,
          157.55,
          430.17,
          157.79,
          413.53,
          219.14,
          258.55,
          351.88,
          258.62,
          129.99,
          367.12,
          312.39,
          301.5,
          311.36,
          395.28,
          149.58,
          237.65,
          325.21,
          304.91,
          173.41,
          154,
          465.31,
          424.01,
          338.94,
          335.63,
          313.39,
          123.03,
          384.89,
          291.11,
          383.88,
          431.55,
          326.76,
          439.99,
          102.48,
          435.03,
          460.5,
          316.46,
          192.6,
          399.37,
          108.23,
          401.47,
          335.19,
          186.88,
          384.36,
          137.13,
          352.66,
          341.76,
          247.99,
          334.73,
          168.55,
          117.15,
          331.11,
          389.4,
          61.02,
          363.82,
          323.06,
          281.64,
          453.92,
          431.94,
          443.29,
          385.75,
          338.66,
          471.37,
          178.49,
          397.93,
          301.95,
          311.33,
          347.39,
          288.8,
          205.41,
          421.86,
          166.87,
          290.9,
          449.36,
          188.27,
          431.57,
          377.72,
          258.7,
          386.4,
          438.04,
          378.46,
          441.65,
          425.29,
          340.63,
          226.18,
          425.29,
          438.08,
          427.28,
          265.82,
          380.91,
          350.43,
          398.69,
          463.49,
          403.36,
          454.64,
          433.28,
          400.5,
          246.05,
          445.24,
          353.32,
          365.66,
          270.21,
          343.18,
          126.66,
          338.11,
          82.08,
          430.1,
          483.1,
          239.72,
          364.2,
          -299.55,
          396.3,
          134.99,
          205.15,
          433.38,
          424.21,
          415.89,
          262.26,
          281.18,
          470.34,
          282.47,
          382.5,
          295.43,
          460.41,
          274.74,
          91.11,
          448.16,
          303.29,
          203.04,
          355.88,
          370.96,
          422.2,
          362.27,
          405.56,
          427.38,
          373.15,
          329.99,
          340.46,
          415.31,
          249.43,
          242.91,
          100.02,
          287.33,
          383.58,
          372.69,
          383.66,
          343.69,
          437.73,
          458.6,
          474.45,
          370.57,
          403.24,
          310.47,
          162.13,
          399.01,
          67.88,
          152.52,
          272.18,
          330.92,
          377.07,
          309.7,
          410.89,
          143.07,
          50.38,
          211.34,
          36.99,
          403.23,
          169.92,
          191.96,
          416.97,
          126.39,
          169.21,
          66.3,
          244.46,
          230.28,
          421.42,
          344.72,
          380.46,
          221.28,
          139.55,
          88.86,
          351.56,
          384.38,
          276.23,
          -325.31,
          254.39,
          215.09,
          390.72,
          341.51,
          238.8,
          465.48,
          407.36,
          7.3,
          96.99,
          440.72,
          143.18,
          429.08,
          267.6,
          137.78,
          323.45,
          440.34,
          380.93,
          109.08,
          202.37,
          259.41,
          105.83,
          438.9,
          486.79,
          395.12,
          433.53,
          331.84,
          215.64,
          298.97,
          213.1,
          432.06,
          237.95,
          435.49,
          364.33,
          386.54,
          433.53,
          106.65,
          410.09,
          435.26,
          270.06,
          477.93,
          298.21,
          390.34,
          365.47,
          422.74,
          124.11,
          226.88,
          302.6,
          429.91,
          164.85,
          108.68,
          309.26,
          249.72,
          305.33,
          431.58,
          148.32,
          398.31,
          189.6,
          366.73,
          392.01,
          225.38,
          195.57,
          177.87,
          368.7,
          282.73,
          329.99,
          454.59,
          347.85,
          102.84,
          167.69,
          440.73,
          417.22,
          369.03,
          343.15,
          453.92,
          381.88,
          371.53,
          417.12,
          229.09,
          249.18,
          360.54,
          355.48,
          373.21,
          396.72,
          -349.07,
          440.57,
          428.81,
          271.39,
          338.88,
          431.47,
          421.37,
          293.22,
          237.28,
          459.12,
          451.31,
          473.3,
          175.32,
          411.92,
          344.23,
          146.5,
          354,
          406.83,
          432.86,
          257.05,
          -391.65,
          368.74,
          287.8,
          229.27,
          475.4
         ],
         "xaxis": "x",
         "yaxis": "y"
        },
        {
         "name": "Normal distribution",
         "type": "scatter",
         "x": [
          -391.65,
          -373.7226530612245,
          -355.79530612244895,
          -337.86795918367346,
          -319.9406122448979,
          -302.01326530612243,
          -284.08591836734695,
          -266.1585714285714,
          -248.2312244897959,
          -230.30387755102038,
          -212.37653061224486,
          -194.44918367346935,
          -176.52183673469386,
          -158.59448979591835,
          -140.66714285714284,
          -122.73979591836729,
          -104.8124489795918,
          -86.88510204081632,
          -68.95775510204078,
          -51.03040816326529,
          -33.10306122448975,
          -15.175714285714264,
          2.7516326530612787,
          20.678979591836764,
          38.60632653061225,
          56.53367346938779,
          74.46102040816328,
          92.38836734693882,
          110.31571428571431,
          128.2430612244898,
          146.1704081632654,
          164.09775510204088,
          182.02510204081636,
          199.95244897959185,
          217.87979591836734,
          235.80714285714294,
          253.73448979591842,
          271.6618367346939,
          289.5891836734694,
          307.516530612245,
          325.4438775510205,
          343.37122448979596,
          361.29857142857145,
          379.22591836734694,
          397.15326530612253,
          415.080612244898,
          433.0079591836735,
          450.935306122449,
          468.8626530612245,
          486.79
         ],
         "y": [
          6.410031303995835e-10,
          1.396619415252725e-9,
          2.9821367405500687e-9,
          6.240344779423546e-9,
          1.2797383080864182e-8,
          2.571966510159647e-8,
          5.065717906632718e-8,
          9.777959804024284e-8,
          1.8496393110690067e-7,
          3.428920373697812e-7,
          6.229587734340131e-7,
          0.0000011091563416944834,
          0.000001935342261474406,
          0.0000033094387477140853,
          0.000005546033239013737,
          0.000009108401000471335,
          0.000014659979739127483,
          0.00002312363744086965,
          0.000035744603684347325,
          0.00005414973986195376,
          0.00008039218201603714,
          0.00011696685477941269,
          0.0001667797662973916,
          0.0002330534108700111,
          0.00031915313846822395,
          0.0004283258931211417,
          0.0005633536237713352,
          0.0007261384083617088,
          0.0009172532920928651,
          0.0011355093193125556,
          0.0013776017321726842,
          0.0016379031230988224,
          0.0019084654205035014,
          0.0021792744805800286,
          0.0024387715763038507,
          0.0026746186567035775,
          0.0028746446585342046,
          0.003027875544266283,
          0.003125528230020582,
          0.0031618436082470995,
          0.0031346488523451904,
          0.003045572650557026,
          0.0028998837182060803,
          0.0027059748562740372,
          0.002474562821386265,
          0.002217710047138789,
          0.0019477920903400252,
          0.001676532533113784,
          0.0014142068167496498,
          0.001169083203110397
         ]
        }
       ],
       "layout": {
        "barmode": "relative",
        "legend": {
         "tracegroupgap": 0
        },
        "template": {
         "data": {
          "bar": [
           {
            "error_x": {
             "color": "#2a3f5f"
            },
            "error_y": {
             "color": "#2a3f5f"
            },
            "marker": {
             "line": {
              "color": "#E5ECF6",
              "width": 0.5
             },
             "pattern": {
              "fillmode": "overlay",
              "size": 10,
              "solidity": 0.2
             }
            },
            "type": "bar"
           }
          ],
          "barpolar": [
           {
            "marker": {
             "line": {
              "color": "#E5ECF6",
              "width": 0.5
             },
             "pattern": {
              "fillmode": "overlay",
              "size": 10,
              "solidity": 0.2
             }
            },
            "type": "barpolar"
           }
          ],
          "carpet": [
           {
            "aaxis": {
             "endlinecolor": "#2a3f5f",
             "gridcolor": "white",
             "linecolor": "white",
             "minorgridcolor": "white",
             "startlinecolor": "#2a3f5f"
            },
            "baxis": {
             "endlinecolor": "#2a3f5f",
             "gridcolor": "white",
             "linecolor": "white",
             "minorgridcolor": "white",
             "startlinecolor": "#2a3f5f"
            },
            "type": "carpet"
           }
          ],
          "choropleth": [
           {
            "colorbar": {
             "outlinewidth": 0,
             "ticks": ""
            },
            "type": "choropleth"
           }
          ],
          "contour": [
           {
            "colorbar": {
             "outlinewidth": 0,
             "ticks": ""
            },
            "colorscale": [
             [
              0,
              "#0d0887"
             ],
             [
              0.1111111111111111,
              "#46039f"
             ],
             [
              0.2222222222222222,
              "#7201a8"
             ],
             [
              0.3333333333333333,
              "#9c179e"
             ],
             [
              0.4444444444444444,
              "#bd3786"
             ],
             [
              0.5555555555555556,
              "#d8576b"
             ],
             [
              0.6666666666666666,
              "#ed7953"
             ],
             [
              0.7777777777777778,
              "#fb9f3a"
             ],
             [
              0.8888888888888888,
              "#fdca26"
             ],
             [
              1,
              "#f0f921"
             ]
            ],
            "type": "contour"
           }
          ],
          "contourcarpet": [
           {
            "colorbar": {
             "outlinewidth": 0,
             "ticks": ""
            },
            "type": "contourcarpet"
           }
          ],
          "heatmap": [
           {
            "colorbar": {
             "outlinewidth": 0,
             "ticks": ""
            },
            "colorscale": [
             [
              0,
              "#0d0887"
             ],
             [
              0.1111111111111111,
              "#46039f"
             ],
             [
              0.2222222222222222,
              "#7201a8"
             ],
             [
              0.3333333333333333,
              "#9c179e"
             ],
             [
              0.4444444444444444,
              "#bd3786"
             ],
             [
              0.5555555555555556,
              "#d8576b"
             ],
             [
              0.6666666666666666,
              "#ed7953"
             ],
             [
              0.7777777777777778,
              "#fb9f3a"
             ],
             [
              0.8888888888888888,
              "#fdca26"
             ],
             [
              1,
              "#f0f921"
             ]
            ],
            "type": "heatmap"
           }
          ],
          "heatmapgl": [
           {
            "colorbar": {
             "outlinewidth": 0,
             "ticks": ""
            },
            "colorscale": [
             [
              0,
              "#0d0887"
             ],
             [
              0.1111111111111111,
              "#46039f"
             ],
             [
              0.2222222222222222,
              "#7201a8"
             ],
             [
              0.3333333333333333,
              "#9c179e"
             ],
             [
              0.4444444444444444,
              "#bd3786"
             ],
             [
              0.5555555555555556,
              "#d8576b"
             ],
             [
              0.6666666666666666,
              "#ed7953"
             ],
             [
              0.7777777777777778,
              "#fb9f3a"
             ],
             [
              0.8888888888888888,
              "#fdca26"
             ],
             [
              1,
              "#f0f921"
             ]
            ],
            "type": "heatmapgl"
           }
          ],
          "histogram": [
           {
            "marker": {
             "pattern": {
              "fillmode": "overlay",
              "size": 10,
              "solidity": 0.2
             }
            },
            "type": "histogram"
           }
          ],
          "histogram2d": [
           {
            "colorbar": {
             "outlinewidth": 0,
             "ticks": ""
            },
            "colorscale": [
             [
              0,
              "#0d0887"
             ],
             [
              0.1111111111111111,
              "#46039f"
             ],
             [
              0.2222222222222222,
              "#7201a8"
             ],
             [
              0.3333333333333333,
              "#9c179e"
             ],
             [
              0.4444444444444444,
              "#bd3786"
             ],
             [
              0.5555555555555556,
              "#d8576b"
             ],
             [
              0.6666666666666666,
              "#ed7953"
             ],
             [
              0.7777777777777778,
              "#fb9f3a"
             ],
             [
              0.8888888888888888,
              "#fdca26"
             ],
             [
              1,
              "#f0f921"
             ]
            ],
            "type": "histogram2d"
           }
          ],
          "histogram2dcontour": [
           {
            "colorbar": {
             "outlinewidth": 0,
             "ticks": ""
            },
            "colorscale": [
             [
              0,
              "#0d0887"
             ],
             [
              0.1111111111111111,
              "#46039f"
             ],
             [
              0.2222222222222222,
              "#7201a8"
             ],
             [
              0.3333333333333333,
              "#9c179e"
             ],
             [
              0.4444444444444444,
              "#bd3786"
             ],
             [
              0.5555555555555556,
              "#d8576b"
             ],
             [
              0.6666666666666666,
              "#ed7953"
             ],
             [
              0.7777777777777778,
              "#fb9f3a"
             ],
             [
              0.8888888888888888,
              "#fdca26"
             ],
             [
              1,
              "#f0f921"
             ]
            ],
            "type": "histogram2dcontour"
           }
          ],
          "mesh3d": [
           {
            "colorbar": {
             "outlinewidth": 0,
             "ticks": ""
            },
            "type": "mesh3d"
           }
          ],
          "parcoords": [
           {
            "line": {
             "colorbar": {
              "outlinewidth": 0,
              "ticks": ""
             }
            },
            "type": "parcoords"
           }
          ],
          "pie": [
           {
            "automargin": true,
            "type": "pie"
           }
          ],
          "scatter": [
           {
            "fillpattern": {
             "fillmode": "overlay",
             "size": 10,
             "solidity": 0.2
            },
            "type": "scatter"
           }
          ],
          "scatter3d": [
           {
            "line": {
             "colorbar": {
              "outlinewidth": 0,
              "ticks": ""
             }
            },
            "marker": {
             "colorbar": {
              "outlinewidth": 0,
              "ticks": ""
             }
            },
            "type": "scatter3d"
           }
          ],
          "scattercarpet": [
           {
            "marker": {
             "colorbar": {
              "outlinewidth": 0,
              "ticks": ""
             }
            },
            "type": "scattercarpet"
           }
          ],
          "scattergeo": [
           {
            "marker": {
             "colorbar": {
              "outlinewidth": 0,
              "ticks": ""
             }
            },
            "type": "scattergeo"
           }
          ],
          "scattergl": [
           {
            "marker": {
             "colorbar": {
              "outlinewidth": 0,
              "ticks": ""
             }
            },
            "type": "scattergl"
           }
          ],
          "scattermapbox": [
           {
            "marker": {
             "colorbar": {
              "outlinewidth": 0,
              "ticks": ""
             }
            },
            "type": "scattermapbox"
           }
          ],
          "scatterpolar": [
           {
            "marker": {
             "colorbar": {
              "outlinewidth": 0,
              "ticks": ""
             }
            },
            "type": "scatterpolar"
           }
          ],
          "scatterpolargl": [
           {
            "marker": {
             "colorbar": {
              "outlinewidth": 0,
              "ticks": ""
             }
            },
            "type": "scatterpolargl"
           }
          ],
          "scatterternary": [
           {
            "marker": {
             "colorbar": {
              "outlinewidth": 0,
              "ticks": ""
             }
            },
            "type": "scatterternary"
           }
          ],
          "surface": [
           {
            "colorbar": {
             "outlinewidth": 0,
             "ticks": ""
            },
            "colorscale": [
             [
              0,
              "#0d0887"
             ],
             [
              0.1111111111111111,
              "#46039f"
             ],
             [
              0.2222222222222222,
              "#7201a8"
             ],
             [
              0.3333333333333333,
              "#9c179e"
             ],
             [
              0.4444444444444444,
              "#bd3786"
             ],
             [
              0.5555555555555556,
              "#d8576b"
             ],
             [
              0.6666666666666666,
              "#ed7953"
             ],
             [
              0.7777777777777778,
              "#fb9f3a"
             ],
             [
              0.8888888888888888,
              "#fdca26"
             ],
             [
              1,
              "#f0f921"
             ]
            ],
            "type": "surface"
           }
          ],
          "table": [
           {
            "cells": {
             "fill": {
              "color": "#EBF0F8"
             },
             "line": {
              "color": "white"
             }
            },
            "header": {
             "fill": {
              "color": "#C8D4E3"
             },
             "line": {
              "color": "white"
             }
            },
            "type": "table"
           }
          ]
         },
         "layout": {
          "annotationdefaults": {
           "arrowcolor": "#2a3f5f",
           "arrowhead": 0,
           "arrowwidth": 1
          },
          "autotypenumbers": "strict",
          "coloraxis": {
           "colorbar": {
            "outlinewidth": 0,
            "ticks": ""
           }
          },
          "colorscale": {
           "diverging": [
            [
             0,
             "#8e0152"
            ],
            [
             0.1,
             "#c51b7d"
            ],
            [
             0.2,
             "#de77ae"
            ],
            [
             0.3,
             "#f1b6da"
            ],
            [
             0.4,
             "#fde0ef"
            ],
            [
             0.5,
             "#f7f7f7"
            ],
            [
             0.6,
             "#e6f5d0"
            ],
            [
             0.7,
             "#b8e186"
            ],
            [
             0.8,
             "#7fbc41"
            ],
            [
             0.9,
             "#4d9221"
            ],
            [
             1,
             "#276419"
            ]
           ],
           "sequential": [
            [
             0,
             "#0d0887"
            ],
            [
             0.1111111111111111,
             "#46039f"
            ],
            [
             0.2222222222222222,
             "#7201a8"
            ],
            [
             0.3333333333333333,
             "#9c179e"
            ],
            [
             0.4444444444444444,
             "#bd3786"
            ],
            [
             0.5555555555555556,
             "#d8576b"
            ],
            [
             0.6666666666666666,
             "#ed7953"
            ],
            [
             0.7777777777777778,
             "#fb9f3a"
            ],
            [
             0.8888888888888888,
             "#fdca26"
            ],
            [
             1,
             "#f0f921"
            ]
           ],
           "sequentialminus": [
            [
             0,
             "#0d0887"
            ],
            [
             0.1111111111111111,
             "#46039f"
            ],
            [
             0.2222222222222222,
             "#7201a8"
            ],
            [
             0.3333333333333333,
             "#9c179e"
            ],
            [
             0.4444444444444444,
             "#bd3786"
            ],
            [
             0.5555555555555556,
             "#d8576b"
            ],
            [
             0.6666666666666666,
             "#ed7953"
            ],
            [
             0.7777777777777778,
             "#fb9f3a"
            ],
            [
             0.8888888888888888,
             "#fdca26"
            ],
            [
             1,
             "#f0f921"
            ]
           ]
          },
          "colorway": [
           "#636efa",
           "#EF553B",
           "#00cc96",
           "#ab63fa",
           "#FFA15A",
           "#19d3f3",
           "#FF6692",
           "#B6E880",
           "#FF97FF",
           "#FECB52"
          ],
          "font": {
           "color": "#2a3f5f"
          },
          "geo": {
           "bgcolor": "white",
           "lakecolor": "white",
           "landcolor": "#E5ECF6",
           "showlakes": true,
           "showland": true,
           "subunitcolor": "white"
          },
          "hoverlabel": {
           "align": "left"
          },
          "hovermode": "closest",
          "mapbox": {
           "style": "light"
          },
          "paper_bgcolor": "white",
          "plot_bgcolor": "#E5ECF6",
          "polar": {
           "angularaxis": {
            "gridcolor": "white",
            "linecolor": "white",
            "ticks": ""
           },
           "bgcolor": "#E5ECF6",
           "radialaxis": {
            "gridcolor": "white",
            "linecolor": "white",
            "ticks": ""
           }
          },
          "scene": {
           "xaxis": {
            "backgroundcolor": "#E5ECF6",
            "gridcolor": "white",
            "gridwidth": 2,
            "linecolor": "white",
            "showbackground": true,
            "ticks": "",
            "zerolinecolor": "white"
           },
           "yaxis": {
            "backgroundcolor": "#E5ECF6",
            "gridcolor": "white",
            "gridwidth": 2,
            "linecolor": "white",
            "showbackground": true,
            "ticks": "",
            "zerolinecolor": "white"
           },
           "zaxis": {
            "backgroundcolor": "#E5ECF6",
            "gridcolor": "white",
            "gridwidth": 2,
            "linecolor": "white",
            "showbackground": true,
            "ticks": "",
            "zerolinecolor": "white"
           }
          },
          "shapedefaults": {
           "line": {
            "color": "#2a3f5f"
           }
          },
          "ternary": {
           "aaxis": {
            "gridcolor": "white",
            "linecolor": "white",
            "ticks": ""
           },
           "baxis": {
            "gridcolor": "white",
            "linecolor": "white",
            "ticks": ""
           },
           "bgcolor": "#E5ECF6",
           "caxis": {
            "gridcolor": "white",
            "linecolor": "white",
            "ticks": ""
           }
          },
          "title": {
           "x": 0.05
          },
          "xaxis": {
           "automargin": true,
           "gridcolor": "white",
           "linecolor": "white",
           "ticks": "",
           "title": {
            "standoff": 15
           },
           "zerolinecolor": "white",
           "zerolinewidth": 2
          },
          "yaxis": {
           "automargin": true,
           "gridcolor": "white",
           "linecolor": "white",
           "ticks": "",
           "title": {
            "standoff": 15
           },
           "zerolinecolor": "white",
           "zerolinewidth": 2
          }
         }
        },
        "title": {
         "text": "Histogram of expenses variable vs Normal Distribution PDF"
        },
        "xaxis": {
         "anchor": "y",
         "domain": [
          0,
          1
         ],
         "title": {
          "text": "expenses"
         }
        },
        "yaxis": {
         "anchor": "x",
         "domain": [
          0,
          1
         ],
         "title": {
          "text": "probability density"
         }
        }
       }
      }
     },
     "metadata": {},
     "output_type": "display_data"
    }
   ],
   "source": [
    "def plot_histogram_with_normal(\n",
    "    data: pd.Series, var_name: str, alt_name: str | None = None\n",
    "):\n",
    "    mean = data.mean()\n",
    "    std = data.std()\n",
    "\n",
    "    fig = px.histogram(\n",
    "        data,\n",
    "        x=var_name,\n",
    "        histnorm=\"probability density\",\n",
    "        title=f\"Histogram of {alt_name if alt_name is not None else var_name} variable vs Normal Distribution PDF\",\n",
    "    )\n",
    "\n",
    "    x = np.linspace(data.min(), data.max())\n",
    "    fig.add_trace(\n",
    "        go.Scatter(\n",
    "            x=x,\n",
    "            y=stats.norm.pdf(x, loc=mean, scale=std),\n",
    "            name=\"Normal distribution\",\n",
    "        )\n",
    "    )\n",
    "\n",
    "    fig.show()\n",
    "\n",
    "\n",
    "for column in quan_vars:\n",
    "    col_data = data[column]\n",
    "    plot_histogram_with_normal(col_data, column)"
   ]
  },
  {
   "cell_type": "markdown",
   "metadata": {},
   "source": [
    "#### Observations\n",
    "\n",
    "- **Weight** and **age** variables seem to be normally distributed.\n",
    "- We can clearly see that variables **income**, **savings** and **expenses** aren't normally distributed, which is also proved by the QQ plots below. However if for the savings variable, we only took into consideration values up to 1050, we probably could see distribution quite similar to the normal one\n",
    "- Variable **height** also isn't ideally normally distributed. Its distribution rather looks like a bimodal distribution. These two different modes may be associated with the correlation of height with respondent's gender, but it needs to be verified further\n"
   ]
  },
  {
   "cell_type": "code",
   "execution_count": 34,
   "metadata": {},
   "outputs": [
    {
     "data": {
      "image/png": "[encoded data removed]",
      "text/plain": [
       "<Figure size 640x480 with 1 Axes>"
      ]
     },
     "metadata": {},
     "output_type": "display_data"
    },
    {
     "data": {
      "image/png": "[encoded data removed]",
      "text/plain": [
       "<Figure size 640x480 with 1 Axes>"
      ]
     },
     "metadata": {},
     "output_type": "display_data"
    },
    {
     "data": {
      "image/png": "[encoded data removed]",
      "text/plain": [
       "<Figure size 640x480 with 1 Axes>"
      ]
     },
     "metadata": {},
     "output_type": "display_data"
    }
   ],
   "source": [
    "for col in [\"income\", \"savings\", \"expenses\"]:\n",
    "    fig = sm.qqplot(data[col], line=\"q\")\n",
    "    plt.title(f\"QQ Plot of {col}\")\n",
    "    plt.show()"
   ]
  },
  {
   "cell_type": "markdown",
   "metadata": {},
   "source": [
    "QQ Plots also show that the mentioned variables aren't normally distributed. We can try to check if taking a logarithm of these values will make it better.\n"
   ]
  },
  {
   "cell_type": "code",
   "execution_count": 35,
   "metadata": {},
   "outputs": [
    {
     "data": {
      "application/vnd.plotly.v1+json": {
       "config": {
        "plotlyServerURL": "https://plot.ly"
       },
       "data": [
        {
         "alignmentgroup": "True",
         "bingroup": "x",
         "hovertemplate": "income=%{x}<br>count=%{y}<extra></extra>",
         "legendgroup": "",
         "marker": {
          "color": "#636efa",
          "pattern": {
           "shape": ""
          }
         },
         "name": "",
         "offsetgroup": "",
         "orientation": "v",
         "showlegend": false,
         "type": "histogram",
         "x": [
          7.100934345776873,
          7.17022722995892,
          7.092731641990825,
          7.115687725807643,
          6.793488553853314,
          6.9857158204513485,
          7.058792545736325,
          7.479373039944843,
          7.263441734527154,
          7.721401802692694,
          7.210884920982556,
          7.652350991879599,
          7.502153373471909,
          7.1450226183667445,
          7.520505522470053,
          7.287758979052428,
          7.320421066527002,
          7.010681834961839,
          7.7408861164671885,
          7.144501887754164,
          7.170357976560656,
          7.137381770554067,
          6.747809506662301,
          6.718747418597541,
          6.839455024723344,
          7.480806125272482,
          7.5063225130525,
          7.5556749416053925,
          7.05501081326389,
          6.999559319457174,
          7.477717358971704,
          7.699008726648408,
          7.3637550604643485,
          7.225190309583266,
          7.986919677427431,
          6.852538508344207,
          7.952432189540131,
          7.0029381779593285,
          7.559861691092556,
          6.980764075835391,
          7.743100562501639,
          6.888735545144883,
          6.819612352941376,
          7.9063925242687585,
          7.065015405180721,
          6.90625415285587,
          7.2268342691309515,
          7.657008653325954,
          7.738954244779592,
          6.857808446129323,
          8.085807016476672,
          6.931100642977128,
          7.517689314673032,
          6.68809316044201,
          7.549245941301997,
          7.0894182856462145,
          6.746917288855023,
          6.910800637168097,
          8.290734149933709,
          7.05444102251707,
          6.741074760897924,
          8.39029801602634,
          7.1400409138135394,
          7.474692769148295,
          7.841005384247948,
          7.281316838077293,
          7.157626444037326,
          7.506668700189336,
          7.19246794711339,
          6.716945801491828,
          7.917947926795103,
          7.444231105483161,
          7.154427839333341,
          6.994070580434057,
          6.8848038995650285,
          7.160449865517437,
          7.3573457195770375,
          7.075893391259617,
          6.940774107839308,
          7.116150607947438,
          7.068359376358473,
          7.7006527673724285,
          6.9852717214099656,
          7.081784213497852,
          7.518357457071967,
          7.072337079298082,
          7.622194173676371,
          6.899198776299016,
          6.966542920465225,
          6.677826258352906,
          7.280022036386714,
          6.911597886699587,
          8.028569275633933,
          7.529750115213993,
          6.789827232812237,
          6.730421263699221,
          7.755373088180261,
          7.309627272913416,
          7.056476962728768,
          6.722653861954521,
          7.166976146611883,
          6.959578932704309,
          7.14058774084359,
          7.066791149667007,
          7.079782362379338,
          6.954591153819169,
          7.276445746527383,
          7.049567292437882,
          7.322563272759923,
          7.913981774323162,
          7.700281622522103,
          7.281406310294509,
          7.8403287250301865,
          7.045410656280198,
          6.711375364937142,
          7.264331218020046,
          6.978651670957217,
          6.7156863707333025,
          7.273814056711209,
          6.988819003701865,
          7.0187866847047395,
          7.377296301241759,
          6.703139032281811,
          7.595186152545973,
          7.698074541294341,
          6.949568781795548,
          7.065989040247001,
          7.3809849489582104,
          6.909853077064283,
          7.023340345317181,
          6.623161765351705,
          6.93414401332004,
          6.846103254568354,
          7.5174773713969545,
          7.104505572428213,
          6.803460861506308,
          6.995390627927437,
          6.895399256772553,
          7.694169644762522,
          6.87392958649804,
          7.036667268574335,
          6.780092347491982,
          7.193325122247644,
          7.466770886845527,
          6.965212537052589,
          7.6358641157749805,
          7.2929836655888645,
          7.830218919194141,
          6.836882069338345,
          6.969076128963721,
          7.343400355591434,
          6.764877487386584,
          7.029282407876753,
          6.97237192206811,
          7.281619634820412,
          7.142447882513212,
          6.88151396777691,
          7.939436854167457,
          8.68319225820525,
          7.400559488150309,
          6.927518689823088,
          7.041499149031733,
          6.84576284713993,
          6.745036329481695,
          7.318327324458446,
          7.05958326343975,
          6.901707025114597,
          7.09596778335498,
          7.159385213041416,
          6.860758006621226,
          7.13376671398383,
          7.33321907359699,
          6.705920572989175,
          6.998984415372753,
          7.183703781554716,
          8.407434127423498,
          7.044434212897356,
          6.86135525614782,
          7.862439458843162,
          7.630844683413789,
          7.015227563286131,
          8.004572624369622,
          6.905963675017787,
          6.941770157569414,
          7.100208668308649,
          7.148581565148655,
          7.929212907771219,
          7.506300528870119,
          6.998701404684928,
          7.602885492032823,
          6.613907571339391,
          7.593338928015857,
          7.478271441385848,
          7.058009807229927,
          6.95028780970084,
          7.978975815658274,
          6.863301698227832,
          8.259434903135682,
          7.105384079843239,
          6.916209441628695,
          7.152198375866804,
          6.76685969427726,
          7.343264508438678,
          7.018419704011861,
          6.861365731026442,
          7.222821460646684,
          6.948369251867392,
          6.662046538007779,
          7.139541375677688,
          7.202378207863236,
          6.908085224544113,
          7.241702902877362,
          7.032412411581554,
          7.170504084888706,
          7.567257771425856,
          7.496691283140778,
          7.453440195643235,
          7.232957099535256,
          7.2480843541447655,
          7.787025116326818,
          6.879818660289114,
          7.451752588136199,
          8.165559803165857,
          6.8719000960731496,
          7.203822100968311,
          7.09865659085554,
          6.813895047494517,
          7.647499744918864,
          6.877749576895731,
          7.033585846217821,
          7.574363393304906,
          7.069525428213925,
          7.295952145523781,
          7.26528285932312,
          8.522958539809798,
          7.277531031348329,
          7.342928045566123,
          7.07503087757082,
          7.824885658253736,
          7.761297886002342,
          7.141617182976916,
          7.0709959479633,
          7.250564537059231,
          7.360886109788497,
          7.445037811710488,
          7.125854127151613,
          7.07656935241759,
          7.152542898354218,
          7.641137081592898,
          7.4045225454970875,
          7.213687303365091,
          7.812515792638067,
          7.357734756396945,
          7.133208161736695,
          6.85940501804109,
          7.661004591943516,
          7.169065141609485,
          8.198127773255322,
          7.0967627683666645,
          7.0565976087019235,
          6.8718897309621125,
          7.384777966899401,
          6.74128738611135,
          7.355743334170192,
          7.29784952499957,
          6.928841395978397,
          7.2090221586778505,
          8.805600001182475,
          7.271870475468554,
          6.626081785477524,
          6.7850790411146225,
          7.4510093699674655,
          7.3188379125410075,
          7.483891001143395,
          6.975619513798267,
          7.18382519050574,
          7.356854424110363,
          7.03784450413981,
          7.041000380629308,
          7.480935791494894,
          7.516569311076331,
          7.024106178509844,
          6.679611748579542,
          7.642663213289978,
          6.995876040377264,
          6.907825276532251,
          7.487100862429917,
          7.18527337275968,
          7.521539937156742,
          8.040266452655706,
          7.254439481251195,
          7.267874285323424,
          7.270987675754609,
          6.907225138482492,
          8.366442392106332,
          7.057364232193841,
          6.944694545460132,
          7.114013064819562,
          6.886102541286684,
          6.868608963061313,
          7.015514914449187,
          7.2231570849840585,
          7.340063531157795,
          7.00445540145935,
          7.630534074666685,
          7.467833816975092,
          7.386836333457281,
          7.321948849654141,
          7.750649170403858,
          6.96289665997834,
          6.934669811523018,
          8.377241230988792,
          6.9040986014785934,
          6.8702610745545565,
          6.998527906923984,
          8.38223220598212,
          7.098119407419277,
          7.201424393278041,
          7.322384930745704,
          6.957801796466272,
          6.791120334017345,
          7.05386226630844,
          6.882447727355507,
          7.896392718608341,
          6.8613133555360655,
          6.7896471905018085,
          7.271995533655512,
          6.834065680836265,
          6.851227254640264,
          6.852623046344088,
          6.761306529661857,
          6.8031278279001395,
          7.705321031710398,
          8.253719711997235,
          7.25676290401157,
          8.446375799360581,
          6.799412543145105,
          6.627644472026674,
          7.106196217655975,
          7.279711861617979,
          6.840065130012187,
          8.866302387123431,
          6.802239195668735,
          7.0237767640188595,
          7.545162451054191,
          7.078628216382349,
          7.075267720122383,
          7.59160941263049,
          8.02758422741087,
          8.736600170431043,
          6.888185024685261,
          7.849690365518412,
          7.009517327917675,
          8.183793828678393,
          6.744059186311348,
          6.77608501053395,
          7.0783753058017505,
          7.533977092151967,
          7.390415968620916,
          6.945185929390203,
          8.55467585657724,
          8.292841410486503,
          6.717913516188306,
          7.431121934242439,
          7.643636225462292,
          7.470189947281354,
          7.491478142260793,
          7.5243939160134685,
          6.948273227285025,
          6.8991382588750225,
          6.823982289115736,
          7.420387270283496,
          6.863176235584169,
          7.652711870718447,
          7.532757442810399,
          7.89672381795419,
          7.491372151258772,
          6.5391957060698145,
          7.538792985878571,
          7.640531743065275,
          7.035787830654336,
          7.375481316483815,
          6.965288067179705,
          7.055899383974505,
          7.526862946583438,
          7.199215206345183,
          6.814575827562975,
          6.801939103971798,
          6.894832133691647,
          7.417862644862679,
          6.817764923785166,
          6.699882040703772,
          8.350118015621565,
          7.134332927030629,
          7.077540246771913,
          7.523232767372112,
          7.0027836008864375,
          7.524097006301529,
          6.999586687599746,
          7.482980039172101,
          7.868143275817664,
          7.164356816944938,
          6.857135441981771,
          7.0066680525547795,
          8.336095685166656,
          6.85649356304335,
          6.979033536982767,
          7.7304910896838335,
          7.058388350702421,
          6.788183143841292,
          6.731149356784066,
          7.622590563112155,
          7.263792019312263,
          7.018097365983928,
          7.142819495992035,
          7.509625634814396,
          7.5171892738984205,
          7.135639575186451,
          7.543818748794141,
          6.756397362425295,
          7.076315920526055,
          7.200745736991389,
          7.237871645500447,
          7.220863841012149,
          7.210397389948199,
          8.78100102881538,
          7.451572640668764,
          7.652711870718447,
          7.108325969443955,
          7.440217142067483,
          7.395924166354715,
          7.565088736002918,
          7.102318269420657,
          6.8525173727275215,
          7.612796444829045,
          7.621871073478231,
          7.383784468025405,
          7.0459246495399075,
          7.410824902589413,
          8.334404325450357,
          6.926204049050597,
          7.17535198417056,
          7.197517686036565,
          7.440551765956293,
          7.006858257025158,
          8.83037925451924,
          7.277468849383152,
          7.0407027511582925,
          6.850327417079614,
          7.737716583104596
         ],
         "xaxis": "x",
         "yaxis": "y"
        }
       ],
       "layout": {
        "barmode": "relative",
        "legend": {
         "tracegroupgap": 0
        },
        "template": {
         "data": {
          "bar": [
           {
            "error_x": {
             "color": "#2a3f5f"
            },
            "error_y": {
             "color": "#2a3f5f"
            },
            "marker": {
             "line": {
              "color": "#E5ECF6",
              "width": 0.5
             },
             "pattern": {
              "fillmode": "overlay",
              "size": 10,
              "solidity": 0.2
             }
            },
            "type": "bar"
           }
          ],
          "barpolar": [
           {
            "marker": {
             "line": {
              "color": "#E5ECF6",
              "width": 0.5
             },
             "pattern": {
              "fillmode": "overlay",
              "size": 10,
              "solidity": 0.2
             }
            },
            "type": "barpolar"
           }
          ],
          "carpet": [
           {
            "aaxis": {
             "endlinecolor": "#2a3f5f",
             "gridcolor": "white",
             "linecolor": "white",
             "minorgridcolor": "white",
             "startlinecolor": "#2a3f5f"
            },
            "baxis": {
             "endlinecolor": "#2a3f5f",
             "gridcolor": "white",
             "linecolor": "white",
             "minorgridcolor": "white",
             "startlinecolor": "#2a3f5f"
            },
            "type": "carpet"
           }
          ],
          "choropleth": [
           {
            "colorbar": {
             "outlinewidth": 0,
             "ticks": ""
            },
            "type": "choropleth"
           }
          ],
          "contour": [
           {
            "colorbar": {
             "outlinewidth": 0,
             "ticks": ""
            },
            "colorscale": [
             [
              0,
              "#0d0887"
             ],
             [
              0.1111111111111111,
              "#46039f"
             ],
             [
              0.2222222222222222,
              "#7201a8"
             ],
             [
              0.3333333333333333,
              "#9c179e"
             ],
             [
              0.4444444444444444,
              "#bd3786"
             ],
             [
              0.5555555555555556,
              "#d8576b"
             ],
             [
              0.6666666666666666,
              "#ed7953"
             ],
             [
              0.7777777777777778,
              "#fb9f3a"
             ],
             [
              0.8888888888888888,
              "#fdca26"
             ],
             [
              1,
              "#f0f921"
             ]
            ],
            "type": "contour"
           }
          ],
          "contourcarpet": [
           {
            "colorbar": {
             "outlinewidth": 0,
             "ticks": ""
            },
            "type": "contourcarpet"
           }
          ],
          "heatmap": [
           {
            "colorbar": {
             "outlinewidth": 0,
             "ticks": ""
            },
            "colorscale": [
             [
              0,
              "#0d0887"
             ],
             [
              0.1111111111111111,
              "#46039f"
             ],
             [
              0.2222222222222222,
              "#7201a8"
             ],
             [
              0.3333333333333333,
              "#9c179e"
             ],
             [
              0.4444444444444444,
              "#bd3786"
             ],
             [
              0.5555555555555556,
              "#d8576b"
             ],
             [
              0.6666666666666666,
              "#ed7953"
             ],
             [
              0.7777777777777778,
              "#fb9f3a"
             ],
             [
              0.8888888888888888,
              "#fdca26"
             ],
             [
              1,
              "#f0f921"
             ]
            ],
            "type": "heatmap"
           }
          ],
          "heatmapgl": [
           {
            "colorbar": {
             "outlinewidth": 0,
             "ticks": ""
            },
            "colorscale": [
             [
              0,
              "#0d0887"
             ],
             [
              0.1111111111111111,
              "#46039f"
             ],
             [
              0.2222222222222222,
              "#7201a8"
             ],
             [
              0.3333333333333333,
              "#9c179e"
             ],
             [
              0.4444444444444444,
              "#bd3786"
             ],
             [
              0.5555555555555556,
              "#d8576b"
             ],
             [
              0.6666666666666666,
              "#ed7953"
             ],
             [
              0.7777777777777778,
              "#fb9f3a"
             ],
             [
              0.8888888888888888,
              "#fdca26"
             ],
             [
              1,
              "#f0f921"
             ]
            ],
            "type": "heatmapgl"
           }
          ],
          "histogram": [
           {
            "marker": {
             "pattern": {
              "fillmode": "overlay",
              "size": 10,
              "solidity": 0.2
             }
            },
            "type": "histogram"
           }
          ],
          "histogram2d": [
           {
            "colorbar": {
             "outlinewidth": 0,
             "ticks": ""
            },
            "colorscale": [
             [
              0,
              "#0d0887"
             ],
             [
              0.1111111111111111,
              "#46039f"
             ],
             [
              0.2222222222222222,
              "#7201a8"
             ],
             [
              0.3333333333333333,
              "#9c179e"
             ],
             [
              0.4444444444444444,
              "#bd3786"
             ],
             [
              0.5555555555555556,
              "#d8576b"
             ],
             [
              0.6666666666666666,
              "#ed7953"
             ],
             [
              0.7777777777777778,
              "#fb9f3a"
             ],
             [
              0.8888888888888888,
              "#fdca26"
             ],
             [
              1,
              "#f0f921"
             ]
            ],
            "type": "histogram2d"
           }
          ],
          "histogram2dcontour": [
           {
            "colorbar": {
             "outlinewidth": 0,
             "ticks": ""
            },
            "colorscale": [
             [
              0,
              "#0d0887"
             ],
             [
              0.1111111111111111,
              "#46039f"
             ],
             [
              0.2222222222222222,
              "#7201a8"
             ],
             [
              0.3333333333333333,
              "#9c179e"
             ],
             [
              0.4444444444444444,
              "#bd3786"
             ],
             [
              0.5555555555555556,
              "#d8576b"
             ],
             [
              0.6666666666666666,
              "#ed7953"
             ],
             [
              0.7777777777777778,
              "#fb9f3a"
             ],
             [
              0.8888888888888888,
              "#fdca26"
             ],
             [
              1,
              "#f0f921"
             ]
            ],
            "type": "histogram2dcontour"
           }
          ],
          "mesh3d": [
           {
            "colorbar": {
             "outlinewidth": 0,
             "ticks": ""
            },
            "type": "mesh3d"
           }
          ],
          "parcoords": [
           {
            "line": {
             "colorbar": {
              "outlinewidth": 0,
              "ticks": ""
             }
            },
            "type": "parcoords"
           }
          ],
          "pie": [
           {
            "automargin": true,
            "type": "pie"
           }
          ],
          "scatter": [
           {
            "fillpattern": {
             "fillmode": "overlay",
             "size": 10,
             "solidity": 0.2
            },
            "type": "scatter"
           }
          ],
          "scatter3d": [
           {
            "line": {
             "colorbar": {
              "outlinewidth": 0,
              "ticks": ""
             }
            },
            "marker": {
             "colorbar": {
              "outlinewidth": 0,
              "ticks": ""
             }
            },
            "type": "scatter3d"
           }
          ],
          "scattercarpet": [
           {
            "marker": {
             "colorbar": {
              "outlinewidth": 0,
              "ticks": ""
             }
            },
            "type": "scattercarpet"
           }
          ],
          "scattergeo": [
           {
            "marker": {
             "colorbar": {
              "outlinewidth": 0,
              "ticks": ""
             }
            },
            "type": "scattergeo"
           }
          ],
          "scattergl": [
           {
            "marker": {
             "colorbar": {
              "outlinewidth": 0,
              "ticks": ""
             }
            },
            "type": "scattergl"
           }
          ],
          "scattermapbox": [
           {
            "marker": {
             "colorbar": {
              "outlinewidth": 0,
              "ticks": ""
             }
            },
            "type": "scattermapbox"
           }
          ],
          "scatterpolar": [
           {
            "marker": {
             "colorbar": {
              "outlinewidth": 0,
              "ticks": ""
             }
            },
            "type": "scatterpolar"
           }
          ],
          "scatterpolargl": [
           {
            "marker": {
             "colorbar": {
              "outlinewidth": 0,
              "ticks": ""
             }
            },
            "type": "scatterpolargl"
           }
          ],
          "scatterternary": [
           {
            "marker": {
             "colorbar": {
              "outlinewidth": 0,
              "ticks": ""
             }
            },
            "type": "scatterternary"
           }
          ],
          "surface": [
           {
            "colorbar": {
             "outlinewidth": 0,
             "ticks": ""
            },
            "colorscale": [
             [
              0,
              "#0d0887"
             ],
             [
              0.1111111111111111,
              "#46039f"
             ],
             [
              0.2222222222222222,
              "#7201a8"
             ],
             [
              0.3333333333333333,
              "#9c179e"
             ],
             [
              0.4444444444444444,
              "#bd3786"
             ],
             [
              0.5555555555555556,
              "#d8576b"
             ],
             [
              0.6666666666666666,
              "#ed7953"
             ],
             [
              0.7777777777777778,
              "#fb9f3a"
             ],
             [
              0.8888888888888888,
              "#fdca26"
             ],
             [
              1,
              "#f0f921"
             ]
            ],
            "type": "surface"
           }
          ],
          "table": [
           {
            "cells": {
             "fill": {
              "color": "#EBF0F8"
             },
             "line": {
              "color": "white"
             }
            },
            "header": {
             "fill": {
              "color": "#C8D4E3"
             },
             "line": {
              "color": "white"
             }
            },
            "type": "table"
           }
          ]
         },
         "layout": {
          "annotationdefaults": {
           "arrowcolor": "#2a3f5f",
           "arrowhead": 0,
           "arrowwidth": 1
          },
          "autotypenumbers": "strict",
          "coloraxis": {
           "colorbar": {
            "outlinewidth": 0,
            "ticks": ""
           }
          },
          "colorscale": {
           "diverging": [
            [
             0,
             "#8e0152"
            ],
            [
             0.1,
             "#c51b7d"
            ],
            [
             0.2,
             "#de77ae"
            ],
            [
             0.3,
             "#f1b6da"
            ],
            [
             0.4,
             "#fde0ef"
            ],
            [
             0.5,
             "#f7f7f7"
            ],
            [
             0.6,
             "#e6f5d0"
            ],
            [
             0.7,
             "#b8e186"
            ],
            [
             0.8,
             "#7fbc41"
            ],
            [
             0.9,
             "#4d9221"
            ],
            [
             1,
             "#276419"
            ]
           ],
           "sequential": [
            [
             0,
             "#0d0887"
            ],
            [
             0.1111111111111111,
             "#46039f"
            ],
            [
             0.2222222222222222,
             "#7201a8"
            ],
            [
             0.3333333333333333,
             "#9c179e"
            ],
            [
             0.4444444444444444,
             "#bd3786"
            ],
            [
             0.5555555555555556,
             "#d8576b"
            ],
            [
             0.6666666666666666,
             "#ed7953"
            ],
            [
             0.7777777777777778,
             "#fb9f3a"
            ],
            [
             0.8888888888888888,
             "#fdca26"
            ],
            [
             1,
             "#f0f921"
            ]
           ],
           "sequentialminus": [
            [
             0,
             "#0d0887"
            ],
            [
             0.1111111111111111,
             "#46039f"
            ],
            [
             0.2222222222222222,
             "#7201a8"
            ],
            [
             0.3333333333333333,
             "#9c179e"
            ],
            [
             0.4444444444444444,
             "#bd3786"
            ],
            [
             0.5555555555555556,
             "#d8576b"
            ],
            [
             0.6666666666666666,
             "#ed7953"
            ],
            [
             0.7777777777777778,
             "#fb9f3a"
            ],
            [
             0.8888888888888888,
             "#fdca26"
            ],
            [
             1,
             "#f0f921"
            ]
           ]
          },
          "colorway": [
           "#636efa",
           "#EF553B",
           "#00cc96",
           "#ab63fa",
           "#FFA15A",
           "#19d3f3",
           "#FF6692",
           "#B6E880",
           "#FF97FF",
           "#FECB52"
          ],
          "font": {
           "color": "#2a3f5f"
          },
          "geo": {
           "bgcolor": "white",
           "lakecolor": "white",
           "landcolor": "#E5ECF6",
           "showlakes": true,
           "showland": true,
           "subunitcolor": "white"
          },
          "hoverlabel": {
           "align": "left"
          },
          "hovermode": "closest",
          "mapbox": {
           "style": "light"
          },
          "paper_bgcolor": "white",
          "plot_bgcolor": "#E5ECF6",
          "polar": {
           "angularaxis": {
            "gridcolor": "white",
            "linecolor": "white",
            "ticks": ""
           },
           "bgcolor": "#E5ECF6",
           "radialaxis": {
            "gridcolor": "white",
            "linecolor": "white",
            "ticks": ""
           }
          },
          "scene": {
           "xaxis": {
            "backgroundcolor": "#E5ECF6",
            "gridcolor": "white",
            "gridwidth": 2,
            "linecolor": "white",
            "showbackground": true,
            "ticks": "",
            "zerolinecolor": "white"
           },
           "yaxis": {
            "backgroundcolor": "#E5ECF6",
            "gridcolor": "white",
            "gridwidth": 2,
            "linecolor": "white",
            "showbackground": true,
            "ticks": "",
            "zerolinecolor": "white"
           },
           "zaxis": {
            "backgroundcolor": "#E5ECF6",
            "gridcolor": "white",
            "gridwidth": 2,
            "linecolor": "white",
            "showbackground": true,
            "ticks": "",
            "zerolinecolor": "white"
           }
          },
          "shapedefaults": {
           "line": {
            "color": "#2a3f5f"
           }
          },
          "ternary": {
           "aaxis": {
            "gridcolor": "white",
            "linecolor": "white",
            "ticks": ""
           },
           "baxis": {
            "gridcolor": "white",
            "linecolor": "white",
            "ticks": ""
           },
           "bgcolor": "#E5ECF6",
           "caxis": {
            "gridcolor": "white",
            "linecolor": "white",
            "ticks": ""
           }
          },
          "title": {
           "x": 0.05
          },
          "xaxis": {
           "automargin": true,
           "gridcolor": "white",
           "linecolor": "white",
           "ticks": "",
           "title": {
            "standoff": 15
           },
           "zerolinecolor": "white",
           "zerolinewidth": 2
          },
          "yaxis": {
           "automargin": true,
           "gridcolor": "white",
           "linecolor": "white",
           "ticks": "",
           "title": {
            "standoff": 15
           },
           "zerolinecolor": "white",
           "zerolinewidth": 2
          }
         }
        },
        "title": {
         "text": "Histogram of log-income variable vs Normal Distribution PDF"
        },
        "xaxis": {
         "anchor": "y",
         "domain": [
          0,
          1
         ],
         "title": {
          "text": "income"
         }
        },
        "yaxis": {
         "anchor": "x",
         "domain": [
          0,
          1
         ],
         "title": {
          "text": "count"
         }
        }
       }
      }
     },
     "metadata": {},
     "output_type": "display_data"
    },
    {
     "data": {
      "application/vnd.plotly.v1+json": {
       "config": {
        "plotlyServerURL": "https://plot.ly"
       },
       "data": [
        {
         "alignmentgroup": "True",
         "bingroup": "x",
         "hovertemplate": "savings=%{x}<br>count=%{y}<extra></extra>",
         "legendgroup": "",
         "marker": {
          "color": "#636efa",
          "pattern": {
           "shape": ""
          }
         },
         "name": "",
         "offsetgroup": "",
         "orientation": "v",
         "showlegend": false,
         "type": "histogram",
         "x": [
          6.174723164723277,
          5.258224272981592,
          6.466673355871429,
          5.714887254388307,
          6.052065639235831,
          6.320840234108892,
          6.032822398031547,
          6.037918651479866,
          6.182518696913578,
          5.895366557062645,
          6.195649514820894,
          4.845288841508263,
          6.944125780291787,
          5.9247369650572725,
          6.74128738611135,
          6.499501285546037,
          4.889145396508546,
          6.2245980324515395,
          6.397962455028096,
          5.165642749643496,
          6.589352796550366,
          6.626585290145579,
          6.526948636539881,
          6.3797326303876245,
          6.601746289837472,
          6.916496958918891,
          6.777680761616304,
          6.823188185024619,
          6.392235320715731,
          6.685386427510498,
          6.746541379914537,
          5.823016309246534,
          6.208086881431926,
          5.442417710521793,
          6.9131109119431855,
          6.803194443494875,
          6.739620610698727,
          6.535357374578169,
          6.878161676135059,
          6.229240520466504,
          6.495899795851958,
          6.017229754994008,
          6.774281027582166,
          6.612027593882548,
          6.727838827602027,
          5.819697099252557,
          5.8297688081076835,
          6.385531610263777,
          5.67552016493823,
          5.961881244566308,
          6.692716296744438,
          6.0332780499213925,
          5.862408837938621,
          6.60552793508832,
          6.053899294364302,
          6.001315863158356,
          6.124114301203446,
          6.69728113076859,
          7.4031220276855825,
          5.974496398877828,
          6.103989337949827,
          7.563392681903539,
          5.766945049613841,
          6.2422232654551655,
          6.175139354511825,
          6.487881868013081,
          5.867459067136863,
          6.787123188621004,
          5.994734195975605,
          6.598181999669539,
          6.512369206315637,
          6.010040932680917,
          6.4193595471823075,
          6.783902610314825,
          6.593208904194584,
          6.573666200382666,
          6.4914213183088645,
          6.399443160380445,
          6.4445763086835,
          5.307921102690732,
          5.948034989180646,
          5.60311463485544,
          5.921015258417331,
          6.273838808017752,
          6.013495082928735,
          6.388107521043036,
          5.777187819072476,
          5.971134280634731,
          6.744636169412329,
          6.459262620903455,
          6.140358577789418,
          6.660908000968692,
          6.867807901872543,
          6.249647003066707,
          6.079795885897947,
          6.728939569517427,
          6.042490305711026,
          5.500809130131374,
          6.7615380459790035,
          6.43059006670876,
          6.417875419731609,
          6.538530485510215,
          5.663515881427646,
          6.64528600900176,
          6.64667618832489,
          6.452790004712768,
          6.482510843306352,
          6.365232568472892,
          6.444163052697327,
          6.924327202975835,
          5.817646730805248,
          6.3656281687154115,
          6.806198630550472,
          6.371611847231857,
          6.602940611523369,
          6.554431855276919,
          6.164261723985454,
          6.462670578178823,
          5.032722890560261,
          6.070021536263528,
          6.713794245531151,
          5.677198908673179,
          6.457240502320248,
          6.5097522601051026,
          5.483925184333142,
          6.241386339454797,
          6.280395838960195,
          6.3151590667270785,
          6.5627124192731126,
          6.024149525725334,
          6.091830108727296,
          5.667809814197383,
          6.791210226708006,
          6.762717946171413,
          6.613840490110706,
          6.014814795716197,
          5.670432494974647,
          6.807426527185332,
          6.035098584128043,
          6.2350379799337,
          6.616185659803164,
          6.12439888653171,
          5.752858312302793,
          6.49503894415978,
          5.942956843042938,
          5.897208811182262,
          6.335692345744957,
          6.328097485101752,
          6.441823349106455,
          5.9335175871531325,
          6.523180441765475,
          6.617884145617218,
          6.525337528335042,
          6.808652917938925,
          6.475925661442644,
          5.33787456154649,
          6.019541669679873,
          6.749415838533424,
          8.017617383839498,
          4.644583188344926,
          6.809943973970215,
          5.464086010000923,
          6.04845905862779,
          5.990038530829903,
          6.484574165068193,
          6.477787415259625,
          6.593113024947573,
          5.664833724517626,
          6.126781844055611,
          5.859275110800027,
          6.349750692364485,
          5.1430660812767455,
          6.396229410101753,
          6.627300360954814,
          6.406797474414496,
          7.474567964155933,
          6.75891878714531,
          6.589792677239823,
          6.468459306355068,
          5.241535352449052,
          5.808442745199634,
          6.309045169905626,
          5.7490426060610655,
          6.676440937492598,
          5.435118408040182,
          6.2267540369657475,
          6.385244987937308,
          5.987607116780677,
          5.90889782345102,
          6.252308425605017,
          6.437271534499525,
          6.388342894278824,
          5.533231373461162,
          6.402596899342026,
          6.543782340776532,
          6.518188126026746,
          6.605176127334096,
          7.421656169265056,
          6.079978960638721,
          6.52527889364381,
          5.659760922561871,
          6.363114306721416,
          6.261491684321042,
          5.683511737813841,
          5.863915226161007,
          6.369781112630383,
          6.699266322633929,
          6.443336028030302,
          6.183117431330821,
          5.761673953071979,
          6.794160958397208,
          6.3545787146756165,
          6.318211070504741,
          6.562585326657728,
          6.142682358850603,
          6.107490484415251,
          6.067777229957145,
          5.9193238693303,
          6.5194864634522265,
          6.163651589421339,
          6.680415435536518,
          5.048444755491802,
          6.9952532042546185,
          6.076586640524805,
          6.398395247377756,
          6.408611159989984,
          6.261052656664792,
          5.259368616409462,
          6.541679139102344,
          6.371167303992706,
          5.1298987149230735,
          6.736634755735079,
          4.859967431104096,
          5.188223443750963,
          7.69316253796738,
          6.243312166550547,
          5.742522302972132,
          5.673975975073536,
          6.394376398428429,
          6.043131521668399,
          6.279758932058197,
          6.6504213411800395,
          4.747797584237848,
          5.073547493489243,
          6.023350735970304,
          6.5363727061711305,
          6.03965929595765,
          6.084362729474712,
          5.627836917741397,
          6.106243073744067,
          5.822128314871346,
          6.442285356936944,
          5.289831462897738,
          5.959354493189748,
          6.395662185649181,
          6.369507069638174,
          5.319442648162985,
          7.180146032864959,
          6.605514406309225,
          6.007116415046204,
          6.661035991139221,
          6.447305862541213,
          6.706067399697217,
          4.692264892839025,
          4.4520190064939165,
          6.323588055990326,
          6.14154265956481,
          7.926259580068246,
          5.944582561207851,
          6.34349371612682,
          6.211483221074666,
          5.778982707219137,
          5.271048939393843,
          6.326578719119624,
          6.507188156136165,
          6.589270297375311,
          5.497577977398914,
          6.276718674485095,
          5.844413604395947,
          6.906864882696991,
          5.519298581697563,
          6.346811109138014,
          6.433293727952072,
          6.591660014493448,
          6.085319122579606,
          6.541736820040252,
          6.821565382666664,
          5.8612989125311845,
          6.364027603873549,
          6.633305275299074,
          5.687551461545784,
          5.674731210262197,
          6.39469382427457,
          5.9764016694309365,
          7.539452497225859,
          5.449062253240462,
          6.307406034273544,
          6.631026334744172,
          6.813807171136497,
          6.210499670377649,
          5.790785518277775,
          5.358989046080769,
          5.7254134947824955,
          6.177798875288194,
          6.048789613727251,
          5.3777291059721986,
          5.743131384720113,
          6.333013162800813,
          5.485045865160197,
          5.964838191040272,
          6.703310805100412,
          7.662162173762283,
          6.768665610580183,
          6.591056257459863,
          6.5235035672731705,
          7.47069695857464,
          6.147164026925091,
          6.524310924543239,
          5.883378097242924,
          6.737405770369174,
          6.778511822860978,
          6.506172624388195,
          6.8326221661666215,
          6.454254721835416,
          6.678832560403887,
          6.317994667128004,
          6.313004420278385,
          6.763884908562435,
          6.5208420162684995,
          6.706409911535573,
          5.945603837892363,
          6.16732779384089,
          5.659865417589745,
          7.140888764325695,
          6.247675302126387,
          7.5153009972463565,
          6.539918270337213,
          6.481010353068922,
          6.324215582927341,
          6.500358306024146,
          6.059753837806675,
          8.071193547467612,
          6.013886290542712,
          6.661432656595502,
          4.473351611367243,
          5.334311726771412,
          6.416274661479923,
          6.597118416384801,
          6.920098783513375,
          7.9692193720147415,
          6.764000375336999,
          6.789793477348068,
          6.689188737161034,
          7.197652396409468,
          6.0664096687542655,
          6.5151570365807965,
          6.420646181833463,
          5.1116865381659835,
          6.419815759002847,
          6.794978441379176,
          7.746119063382795,
          7.2507135784042855,
          6.548104483013264,
          6.058071240601964,
          6.167935690223761,
          5.645093478307522,
          5.873187639516929,
          6.8294369171028375,
          6.328026065457748,
          5.862181261343891,
          6.457428778961949,
          5.2662073126298035,
          6.232860505139277,
          5.55975812779459,
          6.862004491225129,
          6.270345503106693,
          5.163585253346995,
          6.359123940480248,
          6.899975091663174,
          6.3579809050775715,
          6.130465330309764,
          4.900001640593084,
          6.3658688922627755,
          5.789684903656904,
          6.864471924465779,
          5.315321965363861,
          6.6125113543230665,
          6.1632095353361915,
          5.881538067729378,
          5.370684538673937,
          6.325487357761781,
          6.659075947211416,
          7.522021576688634,
          6.464837493823321,
          6.524428304045978,
          5.442547572219269,
          6.782294091617308,
          6.749521273717242,
          6.662059323197416,
          6.752468954554585,
          5.777280737165244,
          6.641182169740591,
          6.4340969795575855,
          6.557076607131345,
          7.489847986253426,
          5.914637496994656,
          5.971185306249601,
          6.048435443367608,
          5.814339465220845,
          6.650705865638129,
          6.329257339982275,
          6.283518299825399,
          6.157572030038909,
          5.659098867029561,
          6.128069337004953,
          5.901320997255016,
          6.748841607430649,
          5.836388439204223,
          6.444512741954304,
          6.054275013518657,
          6.574531759559978,
          6.035337881551952,
          6.257782523805988,
          6.0709224684426975,
          5.927858924019011,
          7.864223958022568,
          5.278930652747847,
          5.846785535738538,
          6.585978532759528,
          6.587384711906823,
          4.876875303916732,
          6.880671810572395,
          6.378239408994666,
          6.226813310860554,
          6.023859130543853,
          5.66230054020126,
          5.77333963134875,
          6.75097280568924,
          6.030228425158765,
          7.4899485522164015,
          6.688591298660757,
          6.2833502718203365,
          5.737507344057822,
          5.852575973235498,
          6.382644777104778,
          7.964054879264448,
          6.236995617299821,
          6.252539519256748,
          6.4514651878641605,
          6.088500509619577
         ],
         "xaxis": "x",
         "yaxis": "y"
        }
       ],
       "layout": {
        "barmode": "relative",
        "legend": {
         "tracegroupgap": 0
        },
        "template": {
         "data": {
          "bar": [
           {
            "error_x": {
             "color": "#2a3f5f"
            },
            "error_y": {
             "color": "#2a3f5f"
            },
            "marker": {
             "line": {
              "color": "#E5ECF6",
              "width": 0.5
             },
             "pattern": {
              "fillmode": "overlay",
              "size": 10,
              "solidity": 0.2
             }
            },
            "type": "bar"
           }
          ],
          "barpolar": [
           {
            "marker": {
             "line": {
              "color": "#E5ECF6",
              "width": 0.5
             },
             "pattern": {
              "fillmode": "overlay",
              "size": 10,
              "solidity": 0.2
             }
            },
            "type": "barpolar"
           }
          ],
          "carpet": [
           {
            "aaxis": {
             "endlinecolor": "#2a3f5f",
             "gridcolor": "white",
             "linecolor": "white",
             "minorgridcolor": "white",
             "startlinecolor": "#2a3f5f"
            },
            "baxis": {
             "endlinecolor": "#2a3f5f",
             "gridcolor": "white",
             "linecolor": "white",
             "minorgridcolor": "white",
             "startlinecolor": "#2a3f5f"
            },
            "type": "carpet"
           }
          ],
          "choropleth": [
           {
            "colorbar": {
             "outlinewidth": 0,
             "ticks": ""
            },
            "type": "choropleth"
           }
          ],
          "contour": [
           {
            "colorbar": {
             "outlinewidth": 0,
             "ticks": ""
            },
            "colorscale": [
             [
              0,
              "#0d0887"
             ],
             [
              0.1111111111111111,
              "#46039f"
             ],
             [
              0.2222222222222222,
              "#7201a8"
             ],
             [
              0.3333333333333333,
              "#9c179e"
             ],
             [
              0.4444444444444444,
              "#bd3786"
             ],
             [
              0.5555555555555556,
              "#d8576b"
             ],
             [
              0.6666666666666666,
              "#ed7953"
             ],
             [
              0.7777777777777778,
              "#fb9f3a"
             ],
             [
              0.8888888888888888,
              "#fdca26"
             ],
             [
              1,
              "#f0f921"
             ]
            ],
            "type": "contour"
           }
          ],
          "contourcarpet": [
           {
            "colorbar": {
             "outlinewidth": 0,
             "ticks": ""
            },
            "type": "contourcarpet"
           }
          ],
          "heatmap": [
           {
            "colorbar": {
             "outlinewidth": 0,
             "ticks": ""
            },
            "colorscale": [
             [
              0,
              "#0d0887"
             ],
             [
              0.1111111111111111,
              "#46039f"
             ],
             [
              0.2222222222222222,
              "#7201a8"
             ],
             [
              0.3333333333333333,
              "#9c179e"
             ],
             [
              0.4444444444444444,
              "#bd3786"
             ],
             [
              0.5555555555555556,
              "#d8576b"
             ],
             [
              0.6666666666666666,
              "#ed7953"
             ],
             [
              0.7777777777777778,
              "#fb9f3a"
             ],
             [
              0.8888888888888888,
              "#fdca26"
             ],
             [
              1,
              "#f0f921"
             ]
            ],
            "type": "heatmap"
           }
          ],
          "heatmapgl": [
           {
            "colorbar": {
             "outlinewidth": 0,
             "ticks": ""
            },
            "colorscale": [
             [
              0,
              "#0d0887"
             ],
             [
              0.1111111111111111,
              "#46039f"
             ],
             [
              0.2222222222222222,
              "#7201a8"
             ],
             [
              0.3333333333333333,
              "#9c179e"
             ],
             [
              0.4444444444444444,
              "#bd3786"
             ],
             [
              0.5555555555555556,
              "#d8576b"
             ],
             [
              0.6666666666666666,
              "#ed7953"
             ],
             [
              0.7777777777777778,
              "#fb9f3a"
             ],
             [
              0.8888888888888888,
              "#fdca26"
             ],
             [
              1,
              "#f0f921"
             ]
            ],
            "type": "heatmapgl"
           }
          ],
          "histogram": [
           {
            "marker": {
             "pattern": {
              "fillmode": "overlay",
              "size": 10,
              "solidity": 0.2
             }
            },
            "type": "histogram"
           }
          ],
          "histogram2d": [
           {
            "colorbar": {
             "outlinewidth": 0,
             "ticks": ""
            },
            "colorscale": [
             [
              0,
              "#0d0887"
             ],
             [
              0.1111111111111111,
              "#46039f"
             ],
             [
              0.2222222222222222,
              "#7201a8"
             ],
             [
              0.3333333333333333,
              "#9c179e"
             ],
             [
              0.4444444444444444,
              "#bd3786"
             ],
             [
              0.5555555555555556,
              "#d8576b"
             ],
             [
              0.6666666666666666,
              "#ed7953"
             ],
             [
              0.7777777777777778,
              "#fb9f3a"
             ],
             [
              0.8888888888888888,
              "#fdca26"
             ],
             [
              1,
              "#f0f921"
             ]
            ],
            "type": "histogram2d"
           }
          ],
          "histogram2dcontour": [
           {
            "colorbar": {
             "outlinewidth": 0,
             "ticks": ""
            },
            "colorscale": [
             [
              0,
              "#0d0887"
             ],
             [
              0.1111111111111111,
              "#46039f"
             ],
             [
              0.2222222222222222,
              "#7201a8"
             ],
             [
              0.3333333333333333,
              "#9c179e"
             ],
             [
              0.4444444444444444,
              "#bd3786"
             ],
             [
              0.5555555555555556,
              "#d8576b"
             ],
             [
              0.6666666666666666,
              "#ed7953"
             ],
             [
              0.7777777777777778,
              "#fb9f3a"
             ],
             [
              0.8888888888888888,
              "#fdca26"
             ],
             [
              1,
              "#f0f921"
             ]
            ],
            "type": "histogram2dcontour"
           }
          ],
          "mesh3d": [
           {
            "colorbar": {
             "outlinewidth": 0,
             "ticks": ""
            },
            "type": "mesh3d"
           }
          ],
          "parcoords": [
           {
            "line": {
             "colorbar": {
              "outlinewidth": 0,
              "ticks": ""
             }
            },
            "type": "parcoords"
           }
          ],
          "pie": [
           {
            "automargin": true,
            "type": "pie"
           }
          ],
          "scatter": [
           {
            "fillpattern": {
             "fillmode": "overlay",
             "size": 10,
             "solidity": 0.2
            },
            "type": "scatter"
           }
          ],
          "scatter3d": [
           {
            "line": {
             "colorbar": {
              "outlinewidth": 0,
              "ticks": ""
             }
            },
            "marker": {
             "colorbar": {
              "outlinewidth": 0,
              "ticks": ""
             }
            },
            "type": "scatter3d"
           }
          ],
          "scattercarpet": [
           {
            "marker": {
             "colorbar": {
              "outlinewidth": 0,
              "ticks": ""
             }
            },
            "type": "scattercarpet"
           }
          ],
          "scattergeo": [
           {
            "marker": {
             "colorbar": {
              "outlinewidth": 0,
              "ticks": ""
             }
            },
            "type": "scattergeo"
           }
          ],
          "scattergl": [
           {
            "marker": {
             "colorbar": {
              "outlinewidth": 0,
              "ticks": ""
             }
            },
            "type": "scattergl"
           }
          ],
          "scattermapbox": [
           {
            "marker": {
             "colorbar": {
              "outlinewidth": 0,
              "ticks": ""
             }
            },
            "type": "scattermapbox"
           }
          ],
          "scatterpolar": [
           {
            "marker": {
             "colorbar": {
              "outlinewidth": 0,
              "ticks": ""
             }
            },
            "type": "scatterpolar"
           }
          ],
          "scatterpolargl": [
           {
            "marker": {
             "colorbar": {
              "outlinewidth": 0,
              "ticks": ""
             }
            },
            "type": "scatterpolargl"
           }
          ],
          "scatterternary": [
           {
            "marker": {
             "colorbar": {
              "outlinewidth": 0,
              "ticks": ""
             }
            },
            "type": "scatterternary"
           }
          ],
          "surface": [
           {
            "colorbar": {
             "outlinewidth": 0,
             "ticks": ""
            },
            "colorscale": [
             [
              0,
              "#0d0887"
             ],
             [
              0.1111111111111111,
              "#46039f"
             ],
             [
              0.2222222222222222,
              "#7201a8"
             ],
             [
              0.3333333333333333,
              "#9c179e"
             ],
             [
              0.4444444444444444,
              "#bd3786"
             ],
             [
              0.5555555555555556,
              "#d8576b"
             ],
             [
              0.6666666666666666,
              "#ed7953"
             ],
             [
              0.7777777777777778,
              "#fb9f3a"
             ],
             [
              0.8888888888888888,
              "#fdca26"
             ],
             [
              1,
              "#f0f921"
             ]
            ],
            "type": "surface"
           }
          ],
          "table": [
           {
            "cells": {
             "fill": {
              "color": "#EBF0F8"
             },
             "line": {
              "color": "white"
             }
            },
            "header": {
             "fill": {
              "color": "#C8D4E3"
             },
             "line": {
              "color": "white"
             }
            },
            "type": "table"
           }
          ]
         },
         "layout": {
          "annotationdefaults": {
           "arrowcolor": "#2a3f5f",
           "arrowhead": 0,
           "arrowwidth": 1
          },
          "autotypenumbers": "strict",
          "coloraxis": {
           "colorbar": {
            "outlinewidth": 0,
            "ticks": ""
           }
          },
          "colorscale": {
           "diverging": [
            [
             0,
             "#8e0152"
            ],
            [
             0.1,
             "#c51b7d"
            ],
            [
             0.2,
             "#de77ae"
            ],
            [
             0.3,
             "#f1b6da"
            ],
            [
             0.4,
             "#fde0ef"
            ],
            [
             0.5,
             "#f7f7f7"
            ],
            [
             0.6,
             "#e6f5d0"
            ],
            [
             0.7,
             "#b8e186"
            ],
            [
             0.8,
             "#7fbc41"
            ],
            [
             0.9,
             "#4d9221"
            ],
            [
             1,
             "#276419"
            ]
           ],
           "sequential": [
            [
             0,
             "#0d0887"
            ],
            [
             0.1111111111111111,
             "#46039f"
            ],
            [
             0.2222222222222222,
             "#7201a8"
            ],
            [
             0.3333333333333333,
             "#9c179e"
            ],
            [
             0.4444444444444444,
             "#bd3786"
            ],
            [
             0.5555555555555556,
             "#d8576b"
            ],
            [
             0.6666666666666666,
             "#ed7953"
            ],
            [
             0.7777777777777778,
             "#fb9f3a"
            ],
            [
             0.8888888888888888,
             "#fdca26"
            ],
            [
             1,
             "#f0f921"
            ]
           ],
           "sequentialminus": [
            [
             0,
             "#0d0887"
            ],
            [
             0.1111111111111111,
             "#46039f"
            ],
            [
             0.2222222222222222,
             "#7201a8"
            ],
            [
             0.3333333333333333,
             "#9c179e"
            ],
            [
             0.4444444444444444,
             "#bd3786"
            ],
            [
             0.5555555555555556,
             "#d8576b"
            ],
            [
             0.6666666666666666,
             "#ed7953"
            ],
            [
             0.7777777777777778,
             "#fb9f3a"
            ],
            [
             0.8888888888888888,
             "#fdca26"
            ],
            [
             1,
             "#f0f921"
            ]
           ]
          },
          "colorway": [
           "#636efa",
           "#EF553B",
           "#00cc96",
           "#ab63fa",
           "#FFA15A",
           "#19d3f3",
           "#FF6692",
           "#B6E880",
           "#FF97FF",
           "#FECB52"
          ],
          "font": {
           "color": "#2a3f5f"
          },
          "geo": {
           "bgcolor": "white",
           "lakecolor": "white",
           "landcolor": "#E5ECF6",
           "showlakes": true,
           "showland": true,
           "subunitcolor": "white"
          },
          "hoverlabel": {
           "align": "left"
          },
          "hovermode": "closest",
          "mapbox": {
           "style": "light"
          },
          "paper_bgcolor": "white",
          "plot_bgcolor": "#E5ECF6",
          "polar": {
           "angularaxis": {
            "gridcolor": "white",
            "linecolor": "white",
            "ticks": ""
           },
           "bgcolor": "#E5ECF6",
           "radialaxis": {
            "gridcolor": "white",
            "linecolor": "white",
            "ticks": ""
           }
          },
          "scene": {
           "xaxis": {
            "backgroundcolor": "#E5ECF6",
            "gridcolor": "white",
            "gridwidth": 2,
            "linecolor": "white",
            "showbackground": true,
            "ticks": "",
            "zerolinecolor": "white"
           },
           "yaxis": {
            "backgroundcolor": "#E5ECF6",
            "gridcolor": "white",
            "gridwidth": 2,
            "linecolor": "white",
            "showbackground": true,
            "ticks": "",
            "zerolinecolor": "white"
           },
           "zaxis": {
            "backgroundcolor": "#E5ECF6",
            "gridcolor": "white",
            "gridwidth": 2,
            "linecolor": "white",
            "showbackground": true,
            "ticks": "",
            "zerolinecolor": "white"
           }
          },
          "shapedefaults": {
           "line": {
            "color": "#2a3f5f"
           }
          },
          "ternary": {
           "aaxis": {
            "gridcolor": "white",
            "linecolor": "white",
            "ticks": ""
           },
           "baxis": {
            "gridcolor": "white",
            "linecolor": "white",
            "ticks": ""
           },
           "bgcolor": "#E5ECF6",
           "caxis": {
            "gridcolor": "white",
            "linecolor": "white",
            "ticks": ""
           }
          },
          "title": {
           "x": 0.05
          },
          "xaxis": {
           "automargin": true,
           "gridcolor": "white",
           "linecolor": "white",
           "ticks": "",
           "title": {
            "standoff": 15
           },
           "zerolinecolor": "white",
           "zerolinewidth": 2
          },
          "yaxis": {
           "automargin": true,
           "gridcolor": "white",
           "linecolor": "white",
           "ticks": "",
           "title": {
            "standoff": 15
           },
           "zerolinecolor": "white",
           "zerolinewidth": 2
          }
         }
        },
        "title": {
         "text": "Histogram of log-savings variable vs Normal Distribution PDF"
        },
        "xaxis": {
         "anchor": "y",
         "domain": [
          0,
          1
         ],
         "title": {
          "text": "savings"
         }
        },
        "yaxis": {
         "anchor": "x",
         "domain": [
          0,
          1
         ],
         "title": {
          "text": "count"
         }
        }
       }
      }
     },
     "metadata": {},
     "output_type": "display_data"
    },
    {
     "data": {
      "application/vnd.plotly.v1+json": {
       "config": {
        "plotlyServerURL": "https://plot.ly"
       },
       "data": [
        {
         "alignmentgroup": "True",
         "bingroup": "x",
         "hovertemplate": "expenses=%{x}<br>count=%{y}<extra></extra>",
         "legendgroup": "",
         "marker": {
          "color": "#636efa",
          "pattern": {
           "shape": ""
          }
         },
         "name": "",
         "offsetgroup": "",
         "orientation": "v",
         "showlegend": false,
         "type": "histogram",
         "x": [
          5.787909139305635,
          6.014301781010739,
          5.614076561571708,
          5.926552622930839,
          5.514396020140125,
          5.618442427489185,
          5.934444359008533,
          6.162577690327807,
          5.811380485254219,
          6.049285241591683,
          5.936638704824203,
          6.080093365334014,
          5.794475953270624,
          5.778395081365247,
          5.936533063581764,
          5.820498274352162,
          6.088182825984419,
          5.636894529114569,
          5.995107902022781,
          5.977390977376623,
          5.702381493740573,
          5.58563687328081,
          4.994573660548905,
          5.286700147207846,
          4.9210752173836125,
          5.931342923766601,
          5.8057371971791945,
          5.9537367190470105,
          5.63221486279678,
          5.186603376918035,
          5.96406765625103,
          6.160320852948366,
          5.991064467086642,
          6.0573693219957,
          6.081419504178447,
          4.325985243790257,
          6.135976061950666,
          5.612982110329704,
          5.812517290952977,
          5.630889149135876,
          6.090630918602481,
          5.629992400685445,
          4.234975691961846,
          6.03524216945387,
          5.286649561680354,
          5.846352066096299,
          6.071730306826638,
          6.097422384333755,
          6.029025229325865,
          5.59031511306742,
          5.699406246255222,
          5.653365988742185,
          6.076540719463101,
          4.567779796769532,
          6.072168574522944,
          5.82859261413534,
          5.326661839557179,
          5.00381206874813,
          5.91943134420815,
          5.808142489980444,
          5.358188763585427,
          5.822809181077842,
          5.921658845364004,
          6.030661221510797,
          6.013152650678054,
          5.822128314871346,
          5.913854295280189,
          5.9133948916860595,
          5.905797720350891,
          4.656908381392506,
          5.99181448587227,
          6.04678098777869,
          5.590091056903071,
          4.94356913673158,
          4.8016411658864655,
          5.625496556257657,
          5.904298612720427,
          5.7775904018009205,
          5.485626464853031,
          5.872934357401514,
          5.967837616476825,
          6.086069933148976,
          5.745723842444373,
          5.693664796467916,
          6.059940618410053,
          5.790816073621143,
          6.075093125547555,
          5.659377680679295,
          4.6491870714048655,
          5.1234876755123775,
          6.069628568077336,
          4.997144703913756,
          6.109336467702871,
          6.064180479395057,
          5.466455478825517,
          3.665098925448533,
          6.05338244992297,
          6.044436431874088,
          5.211669559822364,
          4.973279507552487,
          5.6130186113426115,
          5.321496639495442,
          5.912691865942586,
          5.3841739103077195,
          5.493020290230397,
          5.4038928590966755,
          5.819608040161792,
          5.466159602077157,
          5.867119402835146,
          6.062761428990016,
          6.04455497568209,
          5.89034502570741,
          6.09595968843743,
          5.766694674049188,
          4.9505313700265505,
          5.764846215731935,
          5.8086228550671395,
          4.919104629583938,
          5.9357403983356205,
          5.7165999783668155,
          5.1487146623168085,
          6.156767098732342,
          4.575844356606263,
          6.065458227016308,
          6.147955343867415,
          5.5726482066314,
          5.555978279887807,
          5.980959562462835,
          5.224886088462154,
          5.619567184968573,
          5.2088302000465,
          5.656166620714538,
          4.547117254539474,
          5.996452088619021,
          5.320274533900079,
          5.355122940369489,
          5.724989344300599,
          4.9377778217928645,
          6.08413488194929,
          5.556673609617989,
          5.189506460689857,
          5.282035533973754,
          5.94832215421114,
          5.9774670374641286,
          5.714458614653435,
          6.094742896561484,
          6.015986413414719,
          6.0383719876841395,
          5.314584339011908,
          5.721851574117079,
          5.88173338295482,
          4.704110133842995,
          5.665110944007932,
          5.123963979403259,
          5.8749588203451575,
          6.079498317941531,
          5.678122727875623,
          6.039230377302645,
          5.0597428682032835,
          6.064180479395057,
          5.061265035047578,
          6.02473006322259,
          5.389710794977248,
          5.55508909884223,
          5.863290208384473,
          5.555359802867706,
          4.867457524419928,
          5.905688770086578,
          5.744252407209914,
          5.70877001616724,
          5.74094979899764,
          5.979594374537495,
          5.007831366763521,
          5.470799003060018,
          5.784471127508377,
          5.720016651094949,
          5.1556587328104575,
          5.0369526024136295,
          6.142703850130517,
          6.049757039859498,
          5.825823100565226,
          5.816009362731305,
          5.747448421308188,
          4.812428228072077,
          5.952957579177967,
          5.673701202617746,
          5.950330003749427,
          6.067383378665666,
          5.789225956473668,
          6.0867519993813115,
          4.629667657588479,
          6.075414994227914,
          6.132312855695361,
          5.757196851290837,
          5.260615499364025,
          5.989888305491614,
          4.684258592307055,
          5.995132810794406,
          5.814697535227356,
          5.230466699639862,
          5.951579613409067,
          4.920929381011763,
          5.865504419979778,
          5.834108736331776,
          5.51338842277136,
          5.81332423670725,
          5.12723244168007,
          4.763455164953805,
          5.802450646452902,
          5.964607092938099,
          4.1112016792885235,
          5.8966592398340705,
          5.777838064485612,
          5.640629659650933,
          6.117920971060541,
          6.068286689709266,
          6.094224183409496,
          5.95518949124327,
          5.824996654237195,
          6.1556433482562865,
          5.184532577241416,
          5.986276110418858,
          5.71026144075391,
          5.7408534428653,
          5.850448068130755,
          5.665734407018671,
          5.325007981801082,
          6.044673505439125,
          5.117215066158812,
          5.672979565501156,
          6.107824348224177,
          5.23787710273662,
          6.067429722163682,
          5.934153180394868,
          5.5556690891919835,
          5.9568731023383625,
          6.0823102304075585,
          5.936110386975904,
          6.090517713191141,
          6.052771289168674,
          5.830796844208857,
          5.421331142443181,
          6.052771289168674,
          6.082401542100084,
          6.057439536031515,
          5.582819387993187,
          5.94256312674981,
          5.859160971835714,
          5.9881841725578395,
          6.138784809800136,
          5.999829463439609,
          6.119505896988866,
          6.071384170283856,
          5.992713766508414,
          5.505534767311987,
          6.098613462625025,
          5.867374161876931,
          5.901703939900359,
          5.5991994344637614,
          5.838255090857475,
          4.841506331088285,
          5.823371286324659,
          4.407694381422459,
          6.064017739789691,
          6.180223671560361,
          5.479471575589985,
          5.897703167293508,
          5.982171500196389,
          4.9052007016207355,
          5.323741418888195,
          6.07161494129081,
          6.050228615638675,
          6.030420802218394,
          5.569336378103278,
          5.638995033651762,
          6.153455837428686,
          5.643572350257175,
          5.94672865326659,
          5.688431922151257,
          6.132117396855113,
          5.6158251958970595,
          4.512067567725767,
          6.105150311511799,
          5.714689443494875,
          5.313403003966077,
          5.874593595376567,
          5.916094240083205,
          6.0454791354142206,
          5.8923897901667415,
          6.005268828084379,
          6.057673547218317,
          5.921980483577396,
          5.799062350971077,
          5.830297644386424,
          6.029025229325865,
          5.519178314704694,
          5.492691004366133,
          4.605370165990758,
          5.660631381000218,
          5.949548204006691,
          5.920746974893695,
          5.949756743708192,
          5.839740088291405,
          6.081602281944041,
          6.128178370423804,
          6.162156238419768,
          5.91504236076353,
          5.999531918185741,
          5.738087278348192,
          5.088398482561978,
          5.988986479232442,
          4.217741440366026,
          5.027295734989363,
          5.606463612132171,
          5.801876654321982,
          5.932430846604856,
          5.735604086979157,
          6.018325538771608,
          4.963334020978243,
          3.919594270924464,
          5.353468211012885,
          3.610647605844363,
          5.999507118751167,
          5.135327738053574,
          5.257287016990045,
          6.033014276764776,
          4.8393723646590345,
          5.131140547080535,
          4.194189897191817,
          5.499051696349117,
          5.439295959807609,
          6.043629961088661,
          5.842732493307583,
          5.941381046939995,
          5.399428867916448,
          4.938422959982331,
          4.487062097507763,
          5.862380393696444,
          5.951631646606258,
          5.621233852021042,
          5.53886852251728,
          5.371056545188342,
          5.96799119092234,
          5.833376961158986,
          5.475626381518447,
          6.143069131239876,
          6.009697315369042,
          1.9878743481543455,
          4.574607880405451,
          6.088409753164461,
          4.964102579968039,
          6.061643381729229,
          5.589493328254074,
          4.92565821016505,
          5.779044542489994,
          6.0875471557850265,
          5.942615631212701,
          4.692081557977388,
          5.310097705083568,
          5.558409821640448,
          4.661834033105633,
          6.0842715966941885,
          6.1878328185852025,
          5.97918951623237,
          6.071960997978349,
          5.804652925041163,
          5.373610350583468,
          5.700343233908688,
          5.361761539104571,
          6.06856446748883,
          5.4720605675671194,
          6.076471833916409,
          5.898060050335743,
          5.957235355557322,
          6.071960997978349,
          4.669552444917359,
          6.016376647804199,
          6.075943553685921,
          5.598644156532896,
          6.169464278252913,
          5.697797936308945,
          5.967018154203056,
          5.901184196477774,
          6.046757332856691,
          4.82116826914143,
          5.424421243343763,
          5.712411801354255,
          6.063575884455238,
          5.10503596951774,
          4.688407784558147,
          5.734182347047285,
          5.520340290193543,
          5.721393158915862,
          6.06745289310732,
          4.999372101817545,
          5.9872305965759205,
          5.244916589820922,
          5.904625882475441,
          5.971287349669164,
          5.417787866524203,
          5.275918371604558,
          5.1810529463873864,
          5.9099833052400985,
          5.644492378630635,
          5.799062350971077,
          6.119395913816181,
          5.85177135236965,
          4.633174382397689,
          5.122117036759018,
          6.088432443050445,
          6.03361366061614,
          5.9108779415488035,
          5.838167669354644,
          6.117920971060541,
          5.9451064231298325,
          5.917629614598621,
          6.033373950185192,
          5.434114939445257,
          5.518175526870717,
          5.887602907573892,
          5.8734689888702745,
          5.922141263898231,
          5.983230742180878,
          6.088069343080496,
          6.061013930380187,
          5.603556900738151,
          5.825646062413042,
          6.06719798319342,
          6.043511307568665,
          5.680923180510119,
          5.469240878389622,
          6.129311613800107,
          6.112154464797083,
          6.159729436912202,
          5.166612875550609,
          6.020829155737886,
          5.841310038608051,
          4.987025428457122,
          5.869296913133774,
          6.0083954077679635,
          6.070414350086383,
          5.549270618501514,
          5.910091788642244,
          5.662265794453267,
          5.434900348334571,
          6.164156554926094
         ],
         "xaxis": "x",
         "yaxis": "y"
        }
       ],
       "layout": {
        "barmode": "relative",
        "legend": {
         "tracegroupgap": 0
        },
        "template": {
         "data": {
          "bar": [
           {
            "error_x": {
             "color": "#2a3f5f"
            },
            "error_y": {
             "color": "#2a3f5f"
            },
            "marker": {
             "line": {
              "color": "#E5ECF6",
              "width": 0.5
             },
             "pattern": {
              "fillmode": "overlay",
              "size": 10,
              "solidity": 0.2
             }
            },
            "type": "bar"
           }
          ],
          "barpolar": [
           {
            "marker": {
             "line": {
              "color": "#E5ECF6",
              "width": 0.5
             },
             "pattern": {
              "fillmode": "overlay",
              "size": 10,
              "solidity": 0.2
             }
            },
            "type": "barpolar"
           }
          ],
          "carpet": [
           {
            "aaxis": {
             "endlinecolor": "#2a3f5f",
             "gridcolor": "white",
             "linecolor": "white",
             "minorgridcolor": "white",
             "startlinecolor": "#2a3f5f"
            },
            "baxis": {
             "endlinecolor": "#2a3f5f",
             "gridcolor": "white",
             "linecolor": "white",
             "minorgridcolor": "white",
             "startlinecolor": "#2a3f5f"
            },
            "type": "carpet"
           }
          ],
          "choropleth": [
           {
            "colorbar": {
             "outlinewidth": 0,
             "ticks": ""
            },
            "type": "choropleth"
           }
          ],
          "contour": [
           {
            "colorbar": {
             "outlinewidth": 0,
             "ticks": ""
            },
            "colorscale": [
             [
              0,
              "#0d0887"
             ],
             [
              0.1111111111111111,
              "#46039f"
             ],
             [
              0.2222222222222222,
              "#7201a8"
             ],
             [
              0.3333333333333333,
              "#9c179e"
             ],
             [
              0.4444444444444444,
              "#bd3786"
             ],
             [
              0.5555555555555556,
              "#d8576b"
             ],
             [
              0.6666666666666666,
              "#ed7953"
             ],
             [
              0.7777777777777778,
              "#fb9f3a"
             ],
             [
              0.8888888888888888,
              "#fdca26"
             ],
             [
              1,
              "#f0f921"
             ]
            ],
            "type": "contour"
           }
          ],
          "contourcarpet": [
           {
            "colorbar": {
             "outlinewidth": 0,
             "ticks": ""
            },
            "type": "contourcarpet"
           }
          ],
          "heatmap": [
           {
            "colorbar": {
             "outlinewidth": 0,
             "ticks": ""
            },
            "colorscale": [
             [
              0,
              "#0d0887"
             ],
             [
              0.1111111111111111,
              "#46039f"
             ],
             [
              0.2222222222222222,
              "#7201a8"
             ],
             [
              0.3333333333333333,
              "#9c179e"
             ],
             [
              0.4444444444444444,
              "#bd3786"
             ],
             [
              0.5555555555555556,
              "#d8576b"
             ],
             [
              0.6666666666666666,
              "#ed7953"
             ],
             [
              0.7777777777777778,
              "#fb9f3a"
             ],
             [
              0.8888888888888888,
              "#fdca26"
             ],
             [
              1,
              "#f0f921"
             ]
            ],
            "type": "heatmap"
           }
          ],
          "heatmapgl": [
           {
            "colorbar": {
             "outlinewidth": 0,
             "ticks": ""
            },
            "colorscale": [
             [
              0,
              "#0d0887"
             ],
             [
              0.1111111111111111,
              "#46039f"
             ],
             [
              0.2222222222222222,
              "#7201a8"
             ],
             [
              0.3333333333333333,
              "#9c179e"
             ],
             [
              0.4444444444444444,
              "#bd3786"
             ],
             [
              0.5555555555555556,
              "#d8576b"
             ],
             [
              0.6666666666666666,
              "#ed7953"
             ],
             [
              0.7777777777777778,
              "#fb9f3a"
             ],
             [
              0.8888888888888888,
              "#fdca26"
             ],
             [
              1,
              "#f0f921"
             ]
            ],
            "type": "heatmapgl"
           }
          ],
          "histogram": [
           {
            "marker": {
             "pattern": {
              "fillmode": "overlay",
              "size": 10,
              "solidity": 0.2
             }
            },
            "type": "histogram"
           }
          ],
          "histogram2d": [
           {
            "colorbar": {
             "outlinewidth": 0,
             "ticks": ""
            },
            "colorscale": [
             [
              0,
              "#0d0887"
             ],
             [
              0.1111111111111111,
              "#46039f"
             ],
             [
              0.2222222222222222,
              "#7201a8"
             ],
             [
              0.3333333333333333,
              "#9c179e"
             ],
             [
              0.4444444444444444,
              "#bd3786"
             ],
             [
              0.5555555555555556,
              "#d8576b"
             ],
             [
              0.6666666666666666,
              "#ed7953"
             ],
             [
              0.7777777777777778,
              "#fb9f3a"
             ],
             [
              0.8888888888888888,
              "#fdca26"
             ],
             [
              1,
              "#f0f921"
             ]
            ],
            "type": "histogram2d"
           }
          ],
          "histogram2dcontour": [
           {
            "colorbar": {
             "outlinewidth": 0,
             "ticks": ""
            },
            "colorscale": [
             [
              0,
              "#0d0887"
             ],
             [
              0.1111111111111111,
              "#46039f"
             ],
             [
              0.2222222222222222,
              "#7201a8"
             ],
             [
              0.3333333333333333,
              "#9c179e"
             ],
             [
              0.4444444444444444,
              "#bd3786"
             ],
             [
              0.5555555555555556,
              "#d8576b"
             ],
             [
              0.6666666666666666,
              "#ed7953"
             ],
             [
              0.7777777777777778,
              "#fb9f3a"
             ],
             [
              0.8888888888888888,
              "#fdca26"
             ],
             [
              1,
              "#f0f921"
             ]
            ],
            "type": "histogram2dcontour"
           }
          ],
          "mesh3d": [
           {
            "colorbar": {
             "outlinewidth": 0,
             "ticks": ""
            },
            "type": "mesh3d"
           }
          ],
          "parcoords": [
           {
            "line": {
             "colorbar": {
              "outlinewidth": 0,
              "ticks": ""
             }
            },
            "type": "parcoords"
           }
          ],
          "pie": [
           {
            "automargin": true,
            "type": "pie"
           }
          ],
          "scatter": [
           {
            "fillpattern": {
             "fillmode": "overlay",
             "size": 10,
             "solidity": 0.2
            },
            "type": "scatter"
           }
          ],
          "scatter3d": [
           {
            "line": {
             "colorbar": {
              "outlinewidth": 0,
              "ticks": ""
             }
            },
            "marker": {
             "colorbar": {
              "outlinewidth": 0,
              "ticks": ""
             }
            },
            "type": "scatter3d"
           }
          ],
          "scattercarpet": [
           {
            "marker": {
             "colorbar": {
              "outlinewidth": 0,
              "ticks": ""
             }
            },
            "type": "scattercarpet"
           }
          ],
          "scattergeo": [
           {
            "marker": {
             "colorbar": {
              "outlinewidth": 0,
              "ticks": ""
             }
            },
            "type": "scattergeo"
           }
          ],
          "scattergl": [
           {
            "marker": {
             "colorbar": {
              "outlinewidth": 0,
              "ticks": ""
             }
            },
            "type": "scattergl"
           }
          ],
          "scattermapbox": [
           {
            "marker": {
             "colorbar": {
              "outlinewidth": 0,
              "ticks": ""
             }
            },
            "type": "scattermapbox"
           }
          ],
          "scatterpolar": [
           {
            "marker": {
             "colorbar": {
              "outlinewidth": 0,
              "ticks": ""
             }
            },
            "type": "scatterpolar"
           }
          ],
          "scatterpolargl": [
           {
            "marker": {
             "colorbar": {
              "outlinewidth": 0,
              "ticks": ""
             }
            },
            "type": "scatterpolargl"
           }
          ],
          "scatterternary": [
           {
            "marker": {
             "colorbar": {
              "outlinewidth": 0,
              "ticks": ""
             }
            },
            "type": "scatterternary"
           }
          ],
          "surface": [
           {
            "colorbar": {
             "outlinewidth": 0,
             "ticks": ""
            },
            "colorscale": [
             [
              0,
              "#0d0887"
             ],
             [
              0.1111111111111111,
              "#46039f"
             ],
             [
              0.2222222222222222,
              "#7201a8"
             ],
             [
              0.3333333333333333,
              "#9c179e"
             ],
             [
              0.4444444444444444,
              "#bd3786"
             ],
             [
              0.5555555555555556,
              "#d8576b"
             ],
             [
              0.6666666666666666,
              "#ed7953"
             ],
             [
              0.7777777777777778,
              "#fb9f3a"
             ],
             [
              0.8888888888888888,
              "#fdca26"
             ],
             [
              1,
              "#f0f921"
             ]
            ],
            "type": "surface"
           }
          ],
          "table": [
           {
            "cells": {
             "fill": {
              "color": "#EBF0F8"
             },
             "line": {
              "color": "white"
             }
            },
            "header": {
             "fill": {
              "color": "#C8D4E3"
             },
             "line": {
              "color": "white"
             }
            },
            "type": "table"
           }
          ]
         },
         "layout": {
          "annotationdefaults": {
           "arrowcolor": "#2a3f5f",
           "arrowhead": 0,
           "arrowwidth": 1
          },
          "autotypenumbers": "strict",
          "coloraxis": {
           "colorbar": {
            "outlinewidth": 0,
            "ticks": ""
           }
          },
          "colorscale": {
           "diverging": [
            [
             0,
             "#8e0152"
            ],
            [
             0.1,
             "#c51b7d"
            ],
            [
             0.2,
             "#de77ae"
            ],
            [
             0.3,
             "#f1b6da"
            ],
            [
             0.4,
             "#fde0ef"
            ],
            [
             0.5,
             "#f7f7f7"
            ],
            [
             0.6,
             "#e6f5d0"
            ],
            [
             0.7,
             "#b8e186"
            ],
            [
             0.8,
             "#7fbc41"
            ],
            [
             0.9,
             "#4d9221"
            ],
            [
             1,
             "#276419"
            ]
           ],
           "sequential": [
            [
             0,
             "#0d0887"
            ],
            [
             0.1111111111111111,
             "#46039f"
            ],
            [
             0.2222222222222222,
             "#7201a8"
            ],
            [
             0.3333333333333333,
             "#9c179e"
            ],
            [
             0.4444444444444444,
             "#bd3786"
            ],
            [
             0.5555555555555556,
             "#d8576b"
            ],
            [
             0.6666666666666666,
             "#ed7953"
            ],
            [
             0.7777777777777778,
             "#fb9f3a"
            ],
            [
             0.8888888888888888,
             "#fdca26"
            ],
            [
             1,
             "#f0f921"
            ]
           ],
           "sequentialminus": [
            [
             0,
             "#0d0887"
            ],
            [
             0.1111111111111111,
             "#46039f"
            ],
            [
             0.2222222222222222,
             "#7201a8"
            ],
            [
             0.3333333333333333,
             "#9c179e"
            ],
            [
             0.4444444444444444,
             "#bd3786"
            ],
            [
             0.5555555555555556,
             "#d8576b"
            ],
            [
             0.6666666666666666,
             "#ed7953"
            ],
            [
             0.7777777777777778,
             "#fb9f3a"
            ],
            [
             0.8888888888888888,
             "#fdca26"
            ],
            [
             1,
             "#f0f921"
            ]
           ]
          },
          "colorway": [
           "#636efa",
           "#EF553B",
           "#00cc96",
           "#ab63fa",
           "#FFA15A",
           "#19d3f3",
           "#FF6692",
           "#B6E880",
           "#FF97FF",
           "#FECB52"
          ],
          "font": {
           "color": "#2a3f5f"
          },
          "geo": {
           "bgcolor": "white",
           "lakecolor": "white",
           "landcolor": "#E5ECF6",
           "showlakes": true,
           "showland": true,
           "subunitcolor": "white"
          },
          "hoverlabel": {
           "align": "left"
          },
          "hovermode": "closest",
          "mapbox": {
           "style": "light"
          },
          "paper_bgcolor": "white",
          "plot_bgcolor": "#E5ECF6",
          "polar": {
           "angularaxis": {
            "gridcolor": "white",
            "linecolor": "white",
            "ticks": ""
           },
           "bgcolor": "#E5ECF6",
           "radialaxis": {
            "gridcolor": "white",
            "linecolor": "white",
            "ticks": ""
           }
          },
          "scene": {
           "xaxis": {
            "backgroundcolor": "#E5ECF6",
            "gridcolor": "white",
            "gridwidth": 2,
            "linecolor": "white",
            "showbackground": true,
            "ticks": "",
            "zerolinecolor": "white"
           },
           "yaxis": {
            "backgroundcolor": "#E5ECF6",
            "gridcolor": "white",
            "gridwidth": 2,
            "linecolor": "white",
            "showbackground": true,
            "ticks": "",
            "zerolinecolor": "white"
           },
           "zaxis": {
            "backgroundcolor": "#E5ECF6",
            "gridcolor": "white",
            "gridwidth": 2,
            "linecolor": "white",
            "showbackground": true,
            "ticks": "",
            "zerolinecolor": "white"
           }
          },
          "shapedefaults": {
           "line": {
            "color": "#2a3f5f"
           }
          },
          "ternary": {
           "aaxis": {
            "gridcolor": "white",
            "linecolor": "white",
            "ticks": ""
           },
           "baxis": {
            "gridcolor": "white",
            "linecolor": "white",
            "ticks": ""
           },
           "bgcolor": "#E5ECF6",
           "caxis": {
            "gridcolor": "white",
            "linecolor": "white",
            "ticks": ""
           }
          },
          "title": {
           "x": 0.05
          },
          "xaxis": {
           "automargin": true,
           "gridcolor": "white",
           "linecolor": "white",
           "ticks": "",
           "title": {
            "standoff": 15
           },
           "zerolinecolor": "white",
           "zerolinewidth": 2
          },
          "yaxis": {
           "automargin": true,
           "gridcolor": "white",
           "linecolor": "white",
           "ticks": "",
           "title": {
            "standoff": 15
           },
           "zerolinecolor": "white",
           "zerolinewidth": 2
          }
         }
        },
        "title": {
         "text": "Histogram of log-expenses variable vs Normal Distribution PDF"
        },
        "xaxis": {
         "anchor": "y",
         "domain": [
          0,
          1
         ],
         "title": {
          "text": "expenses"
         }
        },
        "yaxis": {
         "anchor": "x",
         "domain": [
          0,
          1
         ],
         "title": {
          "text": "count"
         }
        }
       }
      }
     },
     "metadata": {},
     "output_type": "display_data"
    }
   ],
   "source": [
    "for col in [\"income\", \"savings\", \"expenses\"]:\n",
    "    col_data = data[col]\n",
    "    col_data = col_data[col_data >= 0]  # to ensure correct values for log\n",
    "    col_data = np.log(col_data)\n",
    "\n",
    "    fig = px.histogram(\n",
    "        col_data,\n",
    "        x=col,\n",
    "        title=f\"Histogram of log-{col} variable vs Normal Distribution PDF\",\n",
    "    )\n",
    "    fig.show()"
   ]
  },
  {
   "cell_type": "markdown",
   "metadata": {},
   "source": [
    "The situation got a **little** better for income and savings variables (however we can't say they're log-normally distributed) and didn't improve at all in the case of the expenses variable.\n"
   ]
  },
  {
   "cell_type": "markdown",
   "metadata": {},
   "source": [
    "#### Task 2\n"
   ]
  },
  {
   "cell_type": "markdown",
   "metadata": {},
   "source": [
    "Let's start by calculating Pearson's correlation coefficient for numerical variables.\n"
   ]
  },
  {
   "cell_type": "code",
   "execution_count": null,
   "metadata": {},
   "outputs": [
    {
     "data": {
      "image/png": "[encoded data removed]",
      "text/plain": [
       "<Figure size 1200x800 with 2 Axes>"
      ]
     },
     "metadata": {},
     "output_type": "display_data"
    }
   ],
   "source": [
    "import seaborn as sns\n",
    "\n",
    "\n",
    "def get_correlation_matrix(data: pd.DataFrame, method: str):\n",
    "    pearson_corr = data.corr(method=method.lower())\n",
    "\n",
    "    plt.figure(figsize=(12, 8))\n",
    "\n",
    "    sns.heatmap(\n",
    "        pearson_corr,\n",
    "        annot=True,\n",
    "        fmt=\".2f\",\n",
    "        cmap=\"coolwarm\",\n",
    "        vmin=-1,\n",
    "        vmax=1,\n",
    "        linewidths=0.5,\n",
    "    )\n",
    "\n",
    "    plt.title(f\"{method}'s Correlation Heatmap\")\n",
    "    plt.show()\n",
    "\n",
    "\n",
    "data_corr = data[quan_vars]\n",
    "get_correlation_matrix(data_corr, \"Pearson\")"
   ]
  },
  {
   "cell_type": "markdown",
   "metadata": {},
   "source": [
    "We can notice positive Pearson's correlation between following pairs of variables: (width, height), (income, savings) and (cats, expenses), however the last one seems to be weakly correlated (to be verified). There's also a negative Pearson's correlation between the following pairs: (savings, expenses), (age, weight) and (age, height). The problem with Pearson's correlation is that it only detects linear associations between numeric variables containing no outliers. We can remember from the Task 1 that e.g. the expenses variable contains some outliers that may cause errors here.\n",
    "\n",
    "Alternatively to the Pearson's correlation, we can use rank correlations, e.g. Spearman's or Kendall's correlation. Let's check it now.\n"
   ]
  },
  {
   "cell_type": "code",
   "execution_count": 60,
   "metadata": {},
   "outputs": [
    {
     "data": {
      "image/png": "[encoded data removed]",
      "text/plain": [
       "<Figure size 1200x800 with 2 Axes>"
      ]
     },
     "metadata": {},
     "output_type": "display_data"
    }
   ],
   "source": [
    "get_correlation_matrix(data_corr, \"Spearman\")"
   ]
  },
  {
   "cell_type": "code",
   "execution_count": 61,
   "metadata": {},
   "outputs": [
    {
     "data": {
      "image/png": "[encoded data removed]",
      "text/plain": [
       "<Figure size 1200x800 with 2 Axes>"
      ]
     },
     "metadata": {},
     "output_type": "display_data"
    }
   ],
   "source": [
    "get_correlation_matrix(data_corr, \"Kendall\")"
   ]
  },
  {
   "cell_type": "markdown",
   "metadata": {},
   "source": [
    "The above experiments allowed us to spot another positively correlated pair of variables - expenses and income. The reason why this association didn't appear while testing Pearman's correlation may be the non-linear relationship between variables.\n",
    "\n",
    "Let's now focus on the Spearman's correlation and check whether the found associations are in fact significant:\n"
   ]
  },
  {
   "cell_type": "code",
   "execution_count": null,
   "metadata": {},
   "outputs": [
    {
     "data": {
      "image/png": "[encoded data removed]",
      "text/plain": [
       "<Figure size 1200x800 with 2 Axes>"
      ]
     },
     "metadata": {},
     "output_type": "display_data"
    }
   ],
   "source": [
    "def test_spearman_significance(data: pd.DataFrame):\n",
    "    p_values = pd.DataFrame(\n",
    "        np.ones((data.shape[1], data.shape[1])),\n",
    "        columns=data.columns,\n",
    "        index=data.columns,\n",
    "    )\n",
    "    for col1 in data.columns:\n",
    "        for col2 in data.columns:\n",
    "            _, p_value = stats.spearmanr(data[col1], data[col2])\n",
    "            p_values.loc[col1, col2] = p_value\n",
    "    return p_values\n",
    "\n",
    "\n",
    "spearman_p_values = test_spearman_significance(data_corr)\n",
    "\n",
    "plt.figure(figsize=(12, 8))\n",
    "sns.heatmap(\n",
    "    spearman_p_values,\n",
    "    annot=True,\n",
    "    fmt=\".3f\",\n",
    "    cmap=\"coolwarm\",\n",
    "    vmin=0,\n",
    "    vmax=0.05,\n",
    "    linewidths=0.5,\n",
    ")\n",
    "plt.title(\"Spearman Correlation Significance (P-Values)\")\n",
    "plt.show()"
   ]
  },
  {
   "cell_type": "markdown",
   "metadata": {},
   "source": [
    "Assuming a significance level equal to 0.05 we can reject null hypothesis for all the cases we're interested in because of the p-value lower than 0.001 (and therefore lower than 0.05) in each such case. The null hypothesis in this test is that two tested samples have no ordinal correlation. It therefore provides us an evidence for a **significant** effect in each considered case.\n"
   ]
  },
  {
   "cell_type": "markdown",
   "metadata": {},
   "source": [
    "Now let's perform some chi-squared independence tests to analyze associations for qualitative variables.\n"
   ]
  },
  {
   "cell_type": "code",
   "execution_count": 75,
   "metadata": {},
   "outputs": [
    {
     "name": "stdout",
     "output_type": "stream",
     "text": [
      "Chi-squared test between sex and single:\n",
      "p-value: 0.7423405110026109\n",
      "\n",
      "Chi-squared test between sex and place:\n",
      "p-value: 0.8729486601449626\n",
      "\n",
      "Chi-squared test between single and sex:\n",
      "p-value: 0.7423405110026109\n",
      "\n",
      "Chi-squared test between single and place:\n",
      "p-value: 0.30864280946671163\n",
      "\n",
      "Chi-squared test between place and sex:\n",
      "p-value: 0.8729486601449626\n",
      "\n",
      "Chi-squared test between place and single:\n",
      "p-value: 0.30864280946671163\n",
      "\n"
     ]
    }
   ],
   "source": [
    "for var1 in qual_vars:\n",
    "    for var2 in qual_vars:\n",
    "        if var1 != var2:\n",
    "            contingency_table = pd.crosstab(data[var1], data[var2])\n",
    "            chi2, p, dof, expected = stats.chi2_contingency(contingency_table)\n",
    "            print(f\"Chi-squared test between {var1} and {var2}:\")\n",
    "            print(f\"p-value: {p}\\n\")"
   ]
  },
  {
   "cell_type": "markdown",
   "metadata": {},
   "source": [
    "Assuming again significance level equal to 0.05 we can't reject the null hypothesis in any case. In this test null hypothesis tells that tested variables are independent. Thus we see that we have no indication that the tested variables are dependent.\n",
    "\n",
    "We must also remember that this test is quite sensitive to the outliers, but it shouldn't be a problem in our case because we didn't find any outliers in the nominal variables.\n"
   ]
  }
 ],
 "metadata": {
  "kernelspec": {
   "display_name": ".venv",
   "language": "python",
   "name": "python3"
  },
  "language_info": {
   "codemirror_mode": {
    "name": "ipython",
    "version": 3
   },
   "file_extension": ".py",
   "mimetype": "text/x-python",
   "name": "python",
   "nbconvert_exporter": "python",
   "pygments_lexer": "ipython3",
   "version": "3.12.7"
  }
 },
 "nbformat": 4,
 "nbformat_minor": 2
}
