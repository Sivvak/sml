{
 "cells": [
  {
   "cell_type": "markdown",
   "metadata": {
    "id": "8f5a820a"
   },
   "source": [
    "<center><img src='https://drive.google.com/uc?export=view&id=12CrUdXDAiltLBT26sG7HZ_HciIhvGyT8'></center>"
   ]
  },
  {
   "cell_type": "markdown",
   "metadata": {
    "id": "685bcedd"
   },
   "source": [
    "# Wstęp do uczenia maszynowego - Notebook 1, version for tutors\n",
    "**Author: Jacek Sroka and Michał Ciach**\n"
   ]
  },
  {
   "cell_type": "markdown",
   "metadata": {
    "id": "Et5_2Neh7Sb1"
   },
   "source": [
    "In this introductory class you will learn about:\n",
    "\n",
    "1. Jupiter notebooks and Google Colab.\n",
    "2. Working with data.\n",
    "3. Visualizing and summarizing data.\n",
    "4. Elements of descriptive statistics.\n",
    "\n",
    "We expect you can program in Python (if you need to refresh check out [these](https://www.youtube.com/playlist?list=PLWKjhJtqVAbnqBxcdjVGgT3uVR10bzTEB)).\n",
    "\n",
    "\n"
   ]
  },
  {
   "cell_type": "markdown",
   "metadata": {
    "id": "MdN0vxBuutcw"
   },
   "source": [
    "## Jupyther notebooks and Google Colab ##\n",
    "\n",
    "Google Colab (or Colaboratory) is a service that allows execution of [Jupyter](https://jupyter.org/) notebooks in a browser on a machine hosted on Google Cloud. Colabs are stored on gdrive and can be shared between users. If you don't have edit permission for the viewed notebook you can always make a copy on your gdrive (see `File->Save a copy in drive` menu).\n",
    "\n",
    "You can also download the notebook to your local machine in `.ipynb` Jupyter file format (see `File->Download->Download .ipynb`). If you want to work on the local machine you can use [PyCharm Professional Edition](https://www.jetbrains.com/pycharm/) (as a student you are eligible for [free](https://www.jetbrains.com/community/education/#students) license) or you can install Jupyter Notebook or JupyterLab (see instructions on [this](https://jupyter.org/) page).\n",
    "\n",
    "Remember that with Colab the notebook is executed on a machine in the cloud and the data on that machine is not persisted in the notebook. It will be lost if the machine is reclaimed after not being used for a while. Future executions will start with fresh machines.\n",
    "\n",
    "To start up please go through this [overview notebook](https://colab.research.google.com/notebooks/basic_features_overview.ipynb#scrollTo=7bqjkGKwQSHW). If you are interested in knowing more about markup here is a [good guide](https://colab.research.google.com/notebooks/markdown_guide.ipynb). Then make a copy of this colab in your gdrive and follow with the exercises."
   ]
  },
  {
   "cell_type": "markdown",
   "metadata": {
    "id": "JJAyLrV9I-P7"
   },
   "source": [
    "### Exercise 1 ###\n",
    "Download the file `https://raw.githubusercontent.com/scikit-learn/scikit-learn/7f9bad99d6e0a3e8ddf92a7e5561245224dab102/sklearn/datasets/data/iris.csv` from the Internet to the Google Cloud machine running your notebook. Use shell commands like `!wget` or `!curl`. List the first few lines of the local files to confirm the file was downloaded. Finally, display the content on the full screen using the option in the context menu."
   ]
  },
  {
   "cell_type": "code",
   "execution_count": null,
   "metadata": {
    "colab": {
     "base_uri": "https://localhost:8080/"
    },
    "executionInfo": {
     "elapsed": 1879,
     "status": "ok",
     "timestamp": 1707840899524,
     "user": {
      "displayName": "Jacek Sroka",
      "userId": "16757906783153489086"
     },
     "user_tz": -60
    },
    "id": "lDT3XdfKNaow",
    "outputId": "a287cd1e-ffd0-4656-805e-375c5e36c54e"
   },
   "outputs": [],
   "source": [
    "#@title Solution (downloading)\n",
    "!echo pwd:\n",
    "!echo ----\n",
    "!pwd\n",
    "\n",
    "!echo wget:\n",
    "!echo -----\n",
    "!rm iris*\n",
    "!wget https://raw.githubusercontent.com/scikit-learn/scikit-learn/7f9bad99d6e0a3e8ddf92a7e5561245224dab102/sklearn/datasets/data/iris.csv\n",
    "\n",
    "!echo ls:\n",
    "!echo ---\n",
    "!ls -l\n",
    "\n",
    "!echo curl:\n",
    "!echo -----\n",
    "!rm iris.csv\n",
    "!curl -O https://raw.githubusercontent.com/scikit-learn/scikit-learn/7f9bad99d6e0a3e8ddf92a7e5561245224dab102/sklearn/datasets/data/iris.csv\n",
    "\n",
    "!echo ls:\n",
    "!echo ---\n",
    "!ls -l"
   ]
  },
  {
   "cell_type": "code",
   "execution_count": null,
   "metadata": {
    "colab": {
     "base_uri": "https://localhost:8080/"
    },
    "executionInfo": {
     "elapsed": 328,
     "status": "ok",
     "timestamp": 1707840941081,
     "user": {
      "displayName": "Jacek Sroka",
      "userId": "16757906783153489086"
     },
     "user_tz": -60
    },
    "id": "QeJBIRSuNnbf",
    "outputId": "4dbae1bc-0bc7-4ee9-bc84-9847693f1e76"
   },
   "outputs": [],
   "source": [
    "#@title Solution (displaying)\n",
    "!cat iris.csv"
   ]
  },
  {
   "cell_type": "markdown",
   "metadata": {
    "id": "0rH4d6QJQv1r"
   },
   "source": [
    "### Exercise 2 ###\n",
    "Using the left-hand side menu in Colab switch to `Files` tab and download the `iris.csv` from the Google Cloud machine running your notebook to your local machine. Note that you can also use this menu to upload files."
   ]
  },
  {
   "cell_type": "markdown",
   "metadata": {
    "id": "sLzQR6OoStpP"
   },
   "source": [
    "### Exercise 3 ###\n",
    "Note that you can use the `Mount Drive` icon in the `Files` tab to generate a code cell that mounts your gdrive folder into the Google Cloud machine running the notebook. Use the same gdrive account where you store the Colab notebook. As an exercise try this now and note how a new folder appears in the `Files` tab (inspect its content). If you write to the drive using the mounted folder remember to do `drive.flush_and_unmount()` at the end to persist your changes. You can read more about uploading files and data sources (Google Spreadsheet, Google Cloud Storage) in this [notebook](https://colab.research.google.com/notebooks/io.ipynb)."
   ]
  },
  {
   "cell_type": "markdown",
   "metadata": {
    "id": "_dnf3ZXeSUTA"
   },
   "source": [
    "### Exercise 4 ###\n",
    "Add a new comment to the cell (note the existing comment on the right)."
   ]
  },
  {
   "cell_type": "markdown",
   "metadata": {
    "id": "FYCBsqaTJKjx"
   },
   "source": [
    "## Working with data ##\n",
    "\n",
    "We are going to start with installing and importing some required libraries. If needed, restart the runtime to make sure the packages are loaded (see `Restart->Restart runtime` menu). Note that the most useful libraries are already installed in Colab, but sometimes we want to install the newest version."
   ]
  },
  {
   "cell_type": "code",
   "execution_count": null,
   "metadata": {
    "colab": {
     "base_uri": "https://localhost:8080/",
     "height": 933
    },
    "executionInfo": {
     "elapsed": 33907,
     "status": "ok",
     "timestamp": 1707841247665,
     "user": {
      "displayName": "Jacek Sroka",
      "userId": "16757906783153489086"
     },
     "user_tz": -60
    },
    "id": "SdNUrXOuJpUl",
    "outputId": "5eb3d7bd-ddd4-4ed6-b3c4-9e1de767444b"
   },
   "outputs": [],
   "source": [
    "!pip install numpy pandas matplotlib --upgrade"
   ]
  },
  {
   "cell_type": "markdown",
   "metadata": {
    "id": "Nt8cUGGP-qaC"
   },
   "source": [
    "Now let us import the libraries we will be using."
   ]
  },
  {
   "cell_type": "code",
   "execution_count": null,
   "metadata": {
    "id": "OC4BmXrCKWtt"
   },
   "outputs": [],
   "source": [
    "import matplotlib as plt\n",
    "import numpy as np\n",
    "import pandas as pd\n",
    "import plotly.express as px"
   ]
  },
  {
   "cell_type": "markdown",
   "metadata": {
    "id": "wtf4Yax2K0dq"
   },
   "source": [
    "You can print documentation from Python functions."
   ]
  },
  {
   "cell_type": "code",
   "execution_count": null,
   "metadata": {
    "colab": {
     "base_uri": "https://localhost:8080/"
    },
    "executionInfo": {
     "elapsed": 255,
     "status": "ok",
     "timestamp": 1707841269626,
     "user": {
      "displayName": "Jacek Sroka",
      "userId": "16757906783153489086"
     },
     "user_tz": -60
    },
    "id": "7s5UKUtRKzXP",
    "outputId": "64321afa-86ea-4cee-8725-ab077c7c2a25"
   },
   "outputs": [],
   "source": [
    "help(np.array)"
   ]
  },
  {
   "cell_type": "markdown",
   "metadata": {
    "id": "BNOiDGHgwgBS"
   },
   "source": [
    "You can also display it in a separate tab."
   ]
  },
  {
   "cell_type": "code",
   "execution_count": null,
   "metadata": {
    "id": "jG4G7r0DwZ93"
   },
   "outputs": [],
   "source": [
    "?np.array"
   ]
  },
  {
   "cell_type": "markdown",
   "metadata": {
    "id": "AqtpfSukLQPM"
   },
   "source": [
    "Numpy is very fast compared to native Python. We can check this by using magic commands built into notebooks (see this [notebook](https://colab.research.google.com/github/jakevdp/PythonDataScienceHandbook/blob/master/notebooks/01.07-Timing-and-Profiling.ipynb) for more details)."
   ]
  },
  {
   "cell_type": "code",
   "execution_count": null,
   "metadata": {
    "id": "k6iP9uXXLHYk"
   },
   "outputs": [],
   "source": [
    "# pure Python\n",
    "list1 = list(range(int(1e6)))\n",
    "list2 = list(range(int(1e6)))\n",
    "\n",
    "# Numpy\n",
    "arr1 = np.array(list1)\n",
    "arr2 = np.array(list2)"
   ]
  },
  {
   "cell_type": "code",
   "execution_count": null,
   "metadata": {
    "colab": {
     "base_uri": "https://localhost:8080/"
    },
    "executionInfo": {
     "elapsed": 11,
     "status": "ok",
     "timestamp": 1707841448193,
     "user": {
      "displayName": "Jacek Sroka",
      "userId": "16757906783153489086"
     },
     "user_tz": -60
    },
    "id": "RZn7thcDXE-o",
    "outputId": "97a6dc62-0239-4351-f04c-0184feade4e7"
   },
   "outputs": [],
   "source": [
    "%%time\n",
    "result = 0\n",
    "for x1, x2 in zip(list1, list2):\n",
    "  result += x1*x2\n",
    "result"
   ]
  },
  {
   "cell_type": "code",
   "execution_count": null,
   "metadata": {
    "colab": {
     "base_uri": "https://localhost:8080/"
    },
    "executionInfo": {
     "elapsed": 310,
     "status": "ok",
     "timestamp": 1707841451237,
     "user": {
      "displayName": "Jacek Sroka",
      "userId": "16757906783153489086"
     },
     "user_tz": -60
    },
    "id": "WSZCZDttXdCf",
    "outputId": "0d9bdb4a-6a01-422c-ac5d-87685aa0dc3a"
   },
   "outputs": [],
   "source": [
    "%%time\n",
    "(arr1*arr2).sum()"
   ]
  },
  {
   "cell_type": "code",
   "execution_count": null,
   "metadata": {
    "colab": {
     "base_uri": "https://localhost:8080/"
    },
    "executionInfo": {
     "elapsed": 9,
     "status": "ok",
     "timestamp": 1707841451555,
     "user": {
      "displayName": "Jacek Sroka",
      "userId": "16757906783153489086"
     },
     "user_tz": -60
    },
    "id": "uvetpIn6XW-s",
    "outputId": "2667b62b-2319-4c74-8a6e-3b75201aa620"
   },
   "outputs": [],
   "source": [
    "%%time\n",
    "np.dot(arr1, arr2)"
   ]
  },
  {
   "cell_type": "markdown",
   "metadata": {
    "id": "jzy5zRoVrOH-"
   },
   "source": [
    "We can use Numpy to read and parse data. Most often it is shared in CSV format. We will read the sample data provided in Colab. Check the [docs](https://numpy.org/doc/stable/reference/generated/numpy.genfromtxt.html#numpy.genfromtxt) for additional features like filling in missing values."
   ]
  },
  {
   "cell_type": "code",
   "execution_count": null,
   "metadata": {
    "colab": {
     "base_uri": "https://localhost:8080/",
     "height": 243
    },
    "executionInfo": {
     "elapsed": 369,
     "status": "ok",
     "timestamp": 1707841822667,
     "user": {
      "displayName": "Jacek Sroka",
      "userId": "16757906783153489086"
     },
     "user_tz": -60
    },
    "id": "Ra62d7FnrX5q",
    "outputId": "78e3ed4e-7007-4308-d5a3-92af0f4c08c8"
   },
   "outputs": [],
   "source": [
    "arr = np.genfromtxt(\"sample_data/california_housing_train.csv\", delimiter=\",\", dtype=str)\n",
    "display(arr)"
   ]
  },
  {
   "cell_type": "code",
   "execution_count": null,
   "metadata": {
    "colab": {
     "base_uri": "https://localhost:8080/"
    },
    "executionInfo": {
     "elapsed": 310,
     "status": "ok",
     "timestamp": 1707841835249,
     "user": {
      "displayName": "Jacek Sroka",
      "userId": "16757906783153489086"
     },
     "user_tz": -60
    },
    "id": "PgrK_Cxq-ikO",
    "outputId": "b568cf4b-ae2c-4262-bccc-f1618e47e24a"
   },
   "outputs": [],
   "source": [
    "arr = np.genfromtxt(\"sample_data/california_housing_train.csv\", delimiter=\",\", dtype=str, skip_header=1)\n",
    "longitude, latitude, housing_median_age, total_rooms, total_bedrooms,\tpopulation,\thouseholds, median_income, median_house_value = arr.T\n",
    "longitude"
   ]
  },
  {
   "cell_type": "markdown",
   "metadata": {
    "id": "UyFSFdodxtpz"
   },
   "source": [
    "We assume that you know Numpy from other classes. If not see this [tutorial](https://numpy.org/doc/stable/user/quickstart.html).\n",
    "\n",
    "Note that all elements in Numpy arrays have the same type. We can use Pandas to read heterogeneous data."
   ]
  },
  {
   "cell_type": "code",
   "execution_count": null,
   "metadata": {
    "colab": {
     "base_uri": "https://localhost:8080/",
     "height": 444
    },
    "executionInfo": {
     "elapsed": 321,
     "status": "ok",
     "timestamp": 1707841855222,
     "user": {
      "displayName": "Jacek Sroka",
      "userId": "16757906783153489086"
     },
     "user_tz": -60
    },
    "id": "FHPnviIRwtLF",
    "outputId": "76b06961-e816-4f3e-bfe8-bd3a61a00ecc"
   },
   "outputs": [],
   "source": [
    "df = pd.read_csv(\"sample_data/california_housing_train.csv\")\n",
    "df"
   ]
  },
  {
   "cell_type": "markdown",
   "metadata": {
    "id": "cIZclT2M1COW"
   },
   "source": [
    "We can get a basic summary of the values. It is a good practice to clean the data before doing any analysis. As a minimum one should deal with missing values (see [df.fillna()](https://pandas.pydata.org/docs/reference/api/pandas.DataFrame.fillna.html) method). It is also a good idea to filter out values that do not make sense (see this [tutorial](https://www.listendata.com/2019/07/how-to-filter-pandas-dataframe.html) for different methods)."
   ]
  },
  {
   "cell_type": "code",
   "execution_count": null,
   "metadata": {
    "colab": {
     "base_uri": "https://localhost:8080/"
    },
    "executionInfo": {
     "elapsed": 19,
     "status": "ok",
     "timestamp": 1695700211517,
     "user": {
      "displayName": "Jacek Sroka",
      "userId": "10127513659144847769"
     },
     "user_tz": -120
    },
    "id": "YkSEl_CO06xg",
    "outputId": "6cacb989-0aab-410c-b22b-0eca8081049d"
   },
   "outputs": [],
   "source": [
    "df.info()"
   ]
  },
  {
   "cell_type": "code",
   "execution_count": null,
   "metadata": {
    "colab": {
     "base_uri": "https://localhost:8080/",
     "height": 300
    },
    "executionInfo": {
     "elapsed": 16,
     "status": "ok",
     "timestamp": 1695700211517,
     "user": {
      "displayName": "Jacek Sroka",
      "userId": "10127513659144847769"
     },
     "user_tz": -120
    },
    "id": "6re8A6Ob08_j",
    "outputId": "aedde643-482a-48a1-caf4-97d188669337"
   },
   "outputs": [],
   "source": [
    "df.describe()"
   ]
  },
  {
   "cell_type": "markdown",
   "metadata": {
    "id": "jaI3wgHIxTZ8"
   },
   "source": [
    "We can convert Pandas output to vanilla Python in multiple ways. Compare the following."
   ]
  },
  {
   "cell_type": "code",
   "execution_count": null,
   "metadata": {
    "colab": {
     "base_uri": "https://localhost:8080/"
    },
    "executionInfo": {
     "elapsed": 14,
     "status": "ok",
     "timestamp": 1695700211517,
     "user": {
      "displayName": "Jacek Sroka",
      "userId": "10127513659144847769"
     },
     "user_tz": -120
    },
    "id": "cEiQH7rUxEs3",
    "outputId": "c73e9d0c-4b45-42f9-c7bf-69893c3516a4"
   },
   "outputs": [],
   "source": [
    "list(df.to_dict()[\"median_house_value\"].values())[:20]"
   ]
  },
  {
   "cell_type": "code",
   "execution_count": null,
   "metadata": {
    "colab": {
     "base_uri": "https://localhost:8080/"
    },
    "executionInfo": {
     "elapsed": 12,
     "status": "ok",
     "timestamp": 1695700211517,
     "user": {
      "displayName": "Jacek Sroka",
      "userId": "10127513659144847769"
     },
     "user_tz": -120
    },
    "id": "XFSYdfqow-v-",
    "outputId": "f6263a78-4607-4ac4-f591-96c887c807ce"
   },
   "outputs": [],
   "source": [
    "df.to_dict(\"records\")[:5]"
   ]
  },
  {
   "cell_type": "markdown",
   "metadata": {
    "id": "Xv3Ejm0I2p-l"
   },
   "source": [
    "### Exercise 5 ###\n",
    "Download the dataset from `https://www.statlearning.com/s/Heart.csv`. Load it into Pandas DataFrame. Check if the data is read correctly by comparing it to the console output. If needed, adjust the parameters of the `pd.read_csv()` function. The most commonly adjusted parameters are `sep`, `header` and `dtype`. Display the last rows by calling `df.tail()` and check if you can already spot some features of the data set, e.g., whether it is sorted with respect to some column. Check if there are null values.\n",
    "\n",
    "Note that if you are downloading the data with `!wget` you need to provide the output location with `-O <location>`, to overwrite the previously existing file. Otherwise, new files would be created with subsequent numbers appended to the filename. Also, note that for `!curl` you can achieve this with only `-O`, but it does not follow HTTP redirects by default and you need to force it to do so with `-L`."
   ]
  },
  {
   "cell_type": "code",
   "execution_count": null,
   "metadata": {
    "colab": {
     "base_uri": "https://localhost:8080/"
    },
    "executionInfo": {
     "elapsed": 1145,
     "status": "ok",
     "timestamp": 1707926976353,
     "user": {
      "displayName": "Jacek Sroka",
      "userId": "16757906783153489086"
     },
     "user_tz": -60
    },
    "id": "yeKE0iL5BhEv",
    "outputId": "cce3b883-0dd8-4152-fee4-7c6e1a523e77"
   },
   "outputs": [],
   "source": [
    "#@title Solution\n",
    "# !curl -LO https://www.statlearning.com/s/Advertising.csv\n",
    "# !curl -LO https://www.statlearning.com/s/Auto.csv\n",
    "# !curl -LO https://www.statlearning.com/s/College.csv\n",
    "# !curl -LO https://www.statlearning.com/s/Ch12Ex13.csv\n",
    "!curl -LO https://www.statlearning.com/s/Heart.csv\n",
    "# !curl -LO https://www.statlearning.com/s/Income1.csv\n",
    "# !curl -LO https://www.statlearning.com/s/Income2.csv\n",
    "!ls -l\n",
    "!head Heart.csv"
   ]
  },
  {
   "cell_type": "code",
   "execution_count": null,
   "metadata": {
    "colab": {
     "base_uri": "https://localhost:8080/",
     "height": 588
    },
    "executionInfo": {
     "elapsed": 584,
     "status": "ok",
     "timestamp": 1707927012119,
     "user": {
      "displayName": "Jacek Sroka",
      "userId": "16757906783153489086"
     },
     "user_tz": -60
    },
    "id": "UJ4DB9nQNskJ",
    "outputId": "77746458-361d-4290-a5f3-446fa90bb2a9"
   },
   "outputs": [],
   "source": [
    "#@title Solution\n",
    "# advertising = pd.read_csv(\"Advertising.csv\")\n",
    "# advertising.info()\n",
    "# advertising.tail()\n",
    "# auto = pd.read_csv(\"Auto.csv\")\n",
    "# auto.info()\n",
    "# auto.tail()\n",
    "# college = pd.read_csv(\"College.csv\")\n",
    "# college.info()\n",
    "# college.tail()\n",
    "# ch12Ex13 = pd.read_csv(\"Ch12Ex13.csv\")\n",
    "# ch12Ex13.info()\n",
    "# ch12Ex13.tail()\n",
    "# auto = pd.read_csv(\"Auto.csv\")\n",
    "# auto.info()\n",
    "# auto.tail()\n",
    "heart = pd.read_csv(\"Heart.csv\")\n",
    "heart.info()\n",
    "heart.tail()\n",
    "# income1 = pd.read_csv(\"Income1.csv\")\n",
    "# income1.info()\n",
    "# income1.tail()\n",
    "# income2 = pd.read_csv(\"Income2.csv\")\n",
    "# income2.info()\n",
    "# income2.tail()"
   ]
  },
  {
   "cell_type": "markdown",
   "metadata": {
    "id": "mI6P_WHNaInM"
   },
   "source": [
    "### Exercise 6 ###\n",
    "Remove the `Unnamed: 0` column and assign the result to a new variable. Next, change the `Ca` value in the last row to the mean of the `Ca` values in the whole dataset (don't forget to account for the missing values). Check if the value in the original variable also has been updated.\n",
    "\n",
    "Hint: Use [df.drop()](https://pandas.pydata.org/docs/reference/api/pandas.DataFrame.drop.html), [df.at()](https://pandas.pydata.org/docs/reference/api/pandas.DataFrame.at.html), [df.mean()](https://pandas.pydata.org/docs/reference/api/pandas.DataFrame.mean.html). Note the `inplace` parameter of `df.drop()` and check [this](https://www.practicaldatascience.org/html/views_and_copies_in_pandas.html)."
   ]
  },
  {
   "cell_type": "code",
   "execution_count": null,
   "metadata": {
    "colab": {
     "base_uri": "https://localhost:8080/",
     "height": 206
    },
    "executionInfo": {
     "elapsed": 327,
     "status": "ok",
     "timestamp": 1707927611656,
     "user": {
      "displayName": "Jacek Sroka",
      "userId": "16757906783153489086"
     },
     "user_tz": -60
    },
    "id": "2FQy7lb-xYTI",
    "outputId": "82e8cbdd-4d40-4f85-9d8f-1a193f544328"
   },
   "outputs": [],
   "source": [
    "#@title Solution (dropped)\n",
    "heart_dropped = heart.drop(columns=[\"Unnamed: 0\"])\n",
    "heart_dropped.at[302, \"Ca\"] = heart_dropped[\"Ca\"].mean(skipna=True)\n",
    "heart_dropped.tail()"
   ]
  },
  {
   "cell_type": "code",
   "execution_count": null,
   "metadata": {
    "colab": {
     "base_uri": "https://localhost:8080/",
     "height": 206
    },
    "executionInfo": {
     "elapsed": 299,
     "status": "ok",
     "timestamp": 1707929801424,
     "user": {
      "displayName": "Jacek Sroka",
      "userId": "16757906783153489086"
     },
     "user_tz": -60
    },
    "id": "asfxe4YV1DOW",
    "outputId": "36a745d1-c91d-4184-f219-23446b6fced1"
   },
   "outputs": [],
   "source": [
    "#@title Solution (original)\n",
    "heart.tail()"
   ]
  },
  {
   "cell_type": "markdown",
   "metadata": {
    "id": "QFAAwo1t4BwU"
   },
   "source": [
    "### Exercise 7 ###\n",
    "Drop the `Unnamed: 0` column in place. Replace every `NaN` value in numerical columns with the mean of the values in that column. Do a similar replacement with mode for `\"ChestPain\", \"Thal\",\"AHD\"` (non-numerical) columns.\n",
    "\n",
    "Hint: Use [df.fillna()](https://pandas.pydata.org/docs/reference/api/pandas.DataFrame.fillna.html) method and compute means for multiple columns at the same time with the [df.mean()](https://pandas.pydata.org/docs/reference/api/pandas.DataFrame.mean.html). For mode use [df.mode()](https://pandas.pydata.org/docs/reference/api/pandas.DataFrame.mode.html). Run it for all columns, but note that for each one there can be multiple modes. In this exercise just use the first one (get it with [df.iloc[0]](https://pandas.pydata.org/docs/reference/api/pandas.DataFrame.iloc.html)). Also, check out this [article](https://pandas.pydata.org/docs/user_guide/missing_data.html)."
   ]
  },
  {
   "cell_type": "code",
   "execution_count": null,
   "metadata": {
    "colab": {
     "base_uri": "https://localhost:8080/"
    },
    "executionInfo": {
     "elapsed": 25,
     "status": "ok",
     "timestamp": 1695700212946,
     "user": {
      "displayName": "Jacek Sroka",
      "userId": "10127513659144847769"
     },
     "user_tz": -120
    },
    "id": "kVg_OCy_4iLq",
    "outputId": "72a5f5c4-8c8a-481f-eda2-8f8a022079ef"
   },
   "outputs": [],
   "source": [
    "#@title Solution\n",
    "heart.drop(columns=[\"Unnamed: 0\"], inplace=True, errors=\"ignore\")\n",
    "heart_nonan = heart.fillna(value=heart.mean(axis=0, skipna = True, numeric_only=True))\n",
    "heart_nonan = heart.fillna(value=heart.mode(dropna=True).iloc[0])\n",
    "heart_nonan.info()"
   ]
  },
  {
   "cell_type": "markdown",
   "metadata": {
    "id": "ctNmpKCeP9Fk"
   },
   "source": [
    "### Exercise 8 ###\n",
    "Extend your DataFrame with a `Gender` column (with \"woman\"/\"man\"). Calculate its values based on the `Sex` column (for 0/1 respectively).\n",
    "\n",
    "Hint: New columns can be added with the notation `df1[\"column_name\"] = df2`. The second DataFrame can be computed with [df.apply()](https://pandas.pydata.org/docs/reference/api/pandas.DataFrame.apply.html) or [np.where()](https://numpy.org/doc/stable/reference/generated/numpy.where.html)."
   ]
  },
  {
   "cell_type": "code",
   "execution_count": null,
   "metadata": {
    "colab": {
     "base_uri": "https://localhost:8080/",
     "height": 424
    },
    "executionInfo": {
     "elapsed": 23,
     "status": "ok",
     "timestamp": 1695700212946,
     "user": {
      "displayName": "Jacek Sroka",
      "userId": "10127513659144847769"
     },
     "user_tz": -120
    },
    "id": "CkTfrqetP8tW",
    "outputId": "47b48170-4e73-4f5b-bbb3-252bbcc067f3"
   },
   "outputs": [],
   "source": [
    "#@title Solution\n",
    "heart_nonan[\"Gender1\"] = heart_nonan.apply(lambda x: \"woman\" if x[\"Sex\"] == 0 else \"man\", axis=1)\n",
    "heart_nonan[\"Gender2\"] = np.where(heart_nonan[\"Sex\"] == 0, \"woman\", \"man\")\n",
    "heart_nonan"
   ]
  },
  {
   "cell_type": "markdown",
   "metadata": {
    "id": "6B9KvNvwYUNP"
   },
   "source": [
    "### Exercise 9 ###\n",
    "Now sort your DataFrame ascending by `Age` and leave only people who reached retirement age in Poland.\n",
    "\n",
    "Hint: Use [df.sort_values()](https://pandas.pydata.org/docs/reference/api/pandas.DataFrame.sort_values.html) and pass the filtering condition as `df[condition]`. Check out this [question](https://stackoverflow.com/questions/21415661/logical-operators-for-boolean-indexing-in-pandas)."
   ]
  },
  {
   "cell_type": "code",
   "execution_count": null,
   "metadata": {
    "colab": {
     "base_uri": "https://localhost:8080/",
     "height": 1000
    },
    "executionInfo": {
     "elapsed": 22,
     "status": "ok",
     "timestamp": 1695700212946,
     "user": {
      "displayName": "Jacek Sroka",
      "userId": "10127513659144847769"
     },
     "user_tz": -120
    },
    "id": "h9OstOqhYrDe",
    "outputId": "13c132de-6e0d-473a-93b6-d7a3e8df3da7"
   },
   "outputs": [],
   "source": [
    "#@title Solution\n",
    "retired = heart_nonan.sort_values(\"Age\", ascending=True)[(heart_nonan[\"Age\"] > 65) | ((heart_nonan[\"Sex\"] == 0) & (heart_nonan[\"Age\"] > 60))]\n",
    "retired"
   ]
  },
  {
   "cell_type": "markdown",
   "metadata": {
    "id": "4MpxB6MBcFR3"
   },
   "source": [
    "### Exercise 10 ###\n",
    "Reset the index for the smaller DataFrame.\n",
    "\n",
    "Hint: Use [df.reset_index()](https://pandas.pydata.org/docs/reference/api/pandas.DataFrame.reset_index.html) and note that it doesn't work in place. Don't forget to drop the old index."
   ]
  },
  {
   "cell_type": "code",
   "execution_count": null,
   "metadata": {
    "colab": {
     "base_uri": "https://localhost:8080/",
     "height": 176
    },
    "executionInfo": {
     "elapsed": 330,
     "status": "error",
     "timestamp": 1709202807191,
     "user": {
      "displayName": "Jacek Sroka",
      "userId": "10127513659144847769"
     },
     "user_tz": -60
    },
    "id": "rYS3MaLRcTAM",
    "outputId": "ca8044ad-355a-4913-e285-767660cc9afc"
   },
   "outputs": [],
   "source": [
    "#@title Solution\n",
    "retired = retired.reset_index(drop=True)\n",
    "retired"
   ]
  },
  {
   "cell_type": "markdown",
   "metadata": {
    "id": "wJTO9A5Ph1JY"
   },
   "source": [
    "### Exercise 11 ###\n",
    "Now compute the mean age for women/men.\n",
    "\n",
    "Hint: Use [group by](https://pandas.pydata.org/pandas-docs/stable/user_guide/groupby.html)."
   ]
  },
  {
   "cell_type": "code",
   "execution_count": null,
   "metadata": {
    "colab": {
     "base_uri": "https://localhost:8080/",
     "height": 143
    },
    "executionInfo": {
     "elapsed": 17,
     "status": "ok",
     "timestamp": 1695700212947,
     "user": {
      "displayName": "Jacek Sroka",
      "userId": "10127513659144847769"
     },
     "user_tz": -120
    },
    "id": "5E-e5JdtfOcZ",
    "outputId": "86152e44-690a-4ed9-dafb-7292897f4868"
   },
   "outputs": [],
   "source": [
    "#@title Solution\n",
    "retired.groupby([\"Sex\", \"Gender1\", \"Gender2\"])[[\"Age\"]].mean()"
   ]
  },
  {
   "cell_type": "markdown",
   "metadata": {
    "id": "8mJXySUtXEyq"
   },
   "source": [
    "## Visualizing and summarizing data ##\n",
    "Pandas has built in support for basic visualizations."
   ]
  },
  {
   "cell_type": "code",
   "execution_count": null,
   "metadata": {
    "colab": {
     "base_uri": "https://localhost:8080/",
     "height": 904
    },
    "executionInfo": {
     "elapsed": 1503,
     "status": "ok",
     "timestamp": 1695700214433,
     "user": {
      "displayName": "Jacek Sroka",
      "userId": "10127513659144847769"
     },
     "user_tz": -120
    },
    "id": "O36yyKv7I8Gl",
    "outputId": "e8f29992-f998-4523-f3e2-6a3906f65cc6"
   },
   "outputs": [],
   "source": [
    "!curl -LO https://www.statlearning.com/s/Auto.csv\n",
    "auto = pd.read_csv(\"Auto.csv\")\n",
    "auto.info()\n",
    "pd.set_option(\"display.expand_frame_repr\", False)\n",
    "print(auto.tail())\n",
    "auto[\"mpg\"].sort_values(ascending=True).reset_index(drop=True).plot(title=\"mpg\");"
   ]
  },
  {
   "cell_type": "code",
   "execution_count": null,
   "metadata": {},
   "outputs": [],
   "source": [
    "auto[\"horsepower\"].info()"
   ]
  },
  {
   "cell_type": "markdown",
   "metadata": {
    "id": "NsfG69aoMX7_"
   },
   "source": [
    "### Exercise 12 ###\n",
    "Prepare a line plot showing the relation between horsepower and acceleration. But first, clean the data. There is a reason why the `\"horsepower\"` column has the type `object`. Find it and fix it.\n",
    "\n",
    "Hint: You can change the type of column using [pd.astype()](https://pandas.pydata.org/docs/reference/api/pandas.DataFrame.astype.html).\n",
    "Hint: Line plots are good for showing ordered sequences like time series. In this example, the data is not sorted in a proper way and you need to fix this. Later we are going to use scatter plots to show the relation between variables."
   ]
  },
  {
   "cell_type": "code",
   "execution_count": null,
   "metadata": {
    "colab": {
     "base_uri": "https://localhost:8080/"
    },
    "executionInfo": {
     "elapsed": 17,
     "status": "ok",
     "timestamp": 1695700214434,
     "user": {
      "displayName": "Jacek Sroka",
      "userId": "10127513659144847769"
     },
     "user_tz": -120
    },
    "id": "6M1El6AdQJO0",
    "outputId": "bab8563c-69fe-41c6-e2df-946867c61f83"
   },
   "outputs": [],
   "source": [
    "#@title Solution (cleaning)\n",
    "auto_fixed = auto[auto[\"horsepower\"] != \"?\"].astype({\"horsepower\":\"int\"})\n",
    "auto_fixed.info()"
   ]
  },
  {
   "cell_type": "code",
   "execution_count": null,
   "metadata": {
    "colab": {
     "base_uri": "https://localhost:8080/",
     "height": 455
    },
    "executionInfo": {
     "elapsed": 14,
     "status": "ok",
     "timestamp": 1695700214434,
     "user": {
      "displayName": "Jacek Sroka",
      "userId": "10127513659144847769"
     },
     "user_tz": -120
    },
    "id": "jATMPLaZZttd",
    "outputId": "ed909351-e454-4751-a9e9-147a391b6464"
   },
   "outputs": [],
   "source": [
    "#@title Solution (sorting and indexing)\n",
    "hp_vs_accel = auto_fixed[[\"horsepower\", \"acceleration\"]].sort_values(\"horsepower\", ascending=True).set_index(\"horsepower\")\n",
    "hp_vs_accel"
   ]
  },
  {
   "cell_type": "code",
   "execution_count": null,
   "metadata": {
    "colab": {
     "base_uri": "https://localhost:8080/",
     "height": 472
    },
    "executionInfo": {
     "elapsed": 861,
     "status": "ok",
     "timestamp": 1695700215282,
     "user": {
      "displayName": "Jacek Sroka",
      "userId": "10127513659144847769"
     },
     "user_tz": -120
    },
    "id": "grXRoSMWKBxE",
    "outputId": "15065659-98b1-4bdc-d565-d0d2045677ae"
   },
   "outputs": [],
   "source": [
    "#@title Solution (visualizing)\n",
    "hp_vs_accel.plot(title=\"horsepower/acceleration\");"
   ]
  },
  {
   "cell_type": "markdown",
   "metadata": {
    "id": "DI7btpzbZ4dB"
   },
   "source": [
    "### Exercise 13 ###\n",
    "Now show a bar and pie plot of the count of cars with different numbers of cylinders. First, prepare the data with [group by](https://pandas.pydata.org/pandas-docs/stable/user_guide/groupby.html) and then see this article [article](https://pandas.pydata.org/docs/user_guide/visualization.html) on plot types. Can a similar effect be achieved with a histogram?"
   ]
  },
  {
   "cell_type": "code",
   "execution_count": null,
   "metadata": {
    "colab": {
     "base_uri": "https://localhost:8080/",
     "height": 461
    },
    "executionInfo": {
     "elapsed": 22,
     "status": "ok",
     "timestamp": 1695700215283,
     "user": {
      "displayName": "Jacek Sroka",
      "userId": "10127513659144847769"
     },
     "user_tz": -120
    },
    "id": "myOV_ZIYaHxj",
    "outputId": "7e5e6edb-c559-48d3-8089-30c3167a600c"
   },
   "outputs": [],
   "source": [
    "#@title Solution (bar plot)\n",
    "auto.groupby([\"cylinders\"])[\"cylinders\"].count().plot(kind=\"bar\", legend=True)"
   ]
  },
  {
   "cell_type": "code",
   "execution_count": null,
   "metadata": {},
   "outputs": [],
   "source": [
    "auto.groupby([\"cylinders\"])[\"cylinders\"].count()"
   ]
  },
  {
   "cell_type": "code",
   "execution_count": null,
   "metadata": {
    "colab": {
     "base_uri": "https://localhost:8080/",
     "height": 447
    },
    "executionInfo": {
     "elapsed": 1037,
     "status": "ok",
     "timestamp": 1695700325667,
     "user": {
      "displayName": "Jacek Sroka",
      "userId": "10127513659144847769"
     },
     "user_tz": -120
    },
    "id": "4y2e4eF3mq3u",
    "outputId": "1503789d-7d6d-49f7-c724-0285ac74eb3c"
   },
   "outputs": [],
   "source": [
    "#@title Solution (histogram)\n",
    "auto[\"cylinders\"].plot(kind=\"hist\", legend=True)"
   ]
  },
  {
   "cell_type": "code",
   "execution_count": null,
   "metadata": {
    "colab": {
     "base_uri": "https://localhost:8080/",
     "height": 423
    },
    "executionInfo": {
     "elapsed": 8,
     "status": "ok",
     "timestamp": 1695700216111,
     "user": {
      "displayName": "Jacek Sroka",
      "userId": "10127513659144847769"
     },
     "user_tz": -120
    },
    "id": "7X8inTdibzYa",
    "outputId": "f724d420-fab6-4d64-afdc-72e0e03312ef"
   },
   "outputs": [],
   "source": [
    "#@title Solution (pie plot)\n",
    "auto.groupby([\"cylinders\"])[\"cylinders\"].count().plot(kind=\"pie\", legend=True)"
   ]
  },
  {
   "cell_type": "markdown",
   "metadata": {
    "id": "QVoacCFEugwn"
   },
   "source": [
    "### Matplotlib and Seaborn\n",
    "[Here](https://www.youtube.com/watch?v=GPVsHOlRBBI&t=21168s) you will find a simple introduction to visualization with [Matplotlib](https://matplotlib.org/stable/tutorials/introductory/pyplot.html) and [Seaborn](https://seaborn.pydata.org/tutorial.html), which are great, but in the following, we will use Plotly Express."
   ]
  },
  {
   "cell_type": "markdown",
   "metadata": {
    "id": "XRTuo1jxw3Mh"
   },
   "source": [
    "## Plotly Express ##\n",
    "Now we will analyze the incomes of Polish municipalities (pl. *gminy*) in recent years. The data has been downloaded from the BDL database \"https://bdl.stat.gov.pl/BDL/start\" and is available in the Google drive of this course. The code below downloads it into the Google Cloud machine that is running your Colab."
   ]
  },
  {
   "cell_type": "code",
   "execution_count": null,
   "metadata": {
    "colab": {
     "base_uri": "https://localhost:8080/"
    },
    "executionInfo": {
     "elapsed": 13020,
     "status": "ok",
     "timestamp": 1695700229126,
     "user": {
      "displayName": "Jacek Sroka",
      "userId": "10127513659144847769"
     },
     "user_tz": -120
    },
    "id": "rF1aCXIuy6-J",
    "outputId": "568ddd09-f33a-4a35-8b2e-8256e0c524cd"
   },
   "outputs": [],
   "source": [
    "!pip install gdown\n",
    "!gdown https://drive.google.com/uc?id=1GW1pjKOCoKOlC4Jqbqql_ghYD_n0iC6O\n",
    "!head \"BDL municipality incomes 2015-2020.csv\"\n",
    "income = pd.read_csv(\"BDL municipality incomes 2015-2020.csv\", sep=\";\", dtype={\"Code\": \"str\"})  # note the explicit type specification (codes have leading zeros)\n",
    "income.info()"
   ]
  },
  {
   "cell_type": "code",
   "execution_count": null,
   "metadata": {
    "id": "k2X5ho2wy_oa"
   },
   "outputs": [],
   "source": [
    "import plotly.express as px"
   ]
  },
  {
   "cell_type": "markdown",
   "metadata": {
    "id": "ECnZJwPFWzvn"
   },
   "source": [
    "### Histograms\n",
    "A histogram is a graph that shows the counts of observations that fall within given bins. It is used to inspect the *shape* of the distribution, i.e., whether it is symmetric, unimodal, etc. It can also be used to inspect the range of the observations (the minimum and maximum values) but is not very useful to inspect other summary statistics, such as quartiles."
   ]
  },
  {
   "cell_type": "markdown",
   "metadata": {
    "id": "6-a2dqo7_5F8"
   },
   "source": [
    "This is how we construct a default histogram of a given column of a Pandas data frame using the Plotly Express plotting library."
   ]
  },
  {
   "cell_type": "code",
   "execution_count": null,
   "metadata": {
    "colab": {
     "base_uri": "https://localhost:8080/",
     "height": 542
    },
    "executionInfo": {
     "elapsed": 1887,
     "status": "ok",
     "timestamp": 1695700231003,
     "user": {
      "displayName": "Jacek Sroka",
      "userId": "10127513659144847769"
     },
     "user_tz": -120
    },
    "id": "64774f8c",
    "outputId": "edf8ba46-8f55-49ac-f70a-01565c512b1c"
   },
   "outputs": [],
   "source": [
    "px.histogram(income,\n",
    "             x=\"2020\",\n",
    "             title=\"Income of Polish municipalities in 2020\",\n",
    "             labels={\"2020\": \"Income in PLN\"})"
   ]
  },
  {
   "cell_type": "markdown",
   "metadata": {
    "id": "1ed5b7dc"
   },
   "source": [
    "The histogram shows that there are a few municipalities with extremely large incomes. Because of this, the histogram doesn't give us much information about the less wealthy regions. One of the ways to get more information is to plot a fragment of the x-axis. To do that, we can select regions with income below 30 mln PLN with `income[income['2020'] < 3e07]`. To control the details in the histogram, we also modify the `nbins` argument.  "
   ]
  },
  {
   "cell_type": "code",
   "execution_count": null,
   "metadata": {
    "colab": {
     "base_uri": "https://localhost:8080/",
     "height": 542
    },
    "executionInfo": {
     "elapsed": 9,
     "status": "ok",
     "timestamp": 1695700231004,
     "user": {
      "displayName": "Jacek Sroka",
      "userId": "10127513659144847769"
     },
     "user_tz": -120
    },
    "id": "f87ba47e",
    "outputId": "7241267f-f19f-4abe-def0-5a3a5c083408"
   },
   "outputs": [],
   "source": [
    "px.histogram(income[income[\"2020\"] < 3e07],\n",
    "             x=\"2020\",\n",
    "             nbins=200,\n",
    "             title=\"Income of Polish municipalities in 2020 - fragment\",\n",
    "             labels={\"2020\": \"Income in PLN\"})"
   ]
  },
  {
   "cell_type": "markdown",
   "metadata": {
    "id": "2fdcd493"
   },
   "source": [
    "We can also plot a separate histogram for each voivodeship by passing a column name to the `facet_col` argument of the `px.histogram` method. This will create a table of histograms, with a different histogram for each value of the specified column. Each histogram will show the distribution of observations for a particular value of the `facet_col` column. The maximum number of histograms in a row is controlled by the `facet_col_wrap` argument."
   ]
  },
  {
   "cell_type": "code",
   "execution_count": null,
   "metadata": {
    "colab": {
     "base_uri": "https://localhost:8080/",
     "height": 542
    },
    "executionInfo": {
     "elapsed": 829,
     "status": "ok",
     "timestamp": 1695700231826,
     "user": {
      "displayName": "Jacek Sroka",
      "userId": "10127513659144847769"
     },
     "user_tz": -120
    },
    "id": "da7969c6",
    "outputId": "1cd7e8df-9d83-46ff-e474-c0247825d775"
   },
   "outputs": [],
   "source": [
    "# let us first translate codes to voivodeship names\n",
    "voivodeship_names = {\n",
    "    \"02\": \"Dolnośląskie\",\n",
    "    \"04\": \"Kujawsko-pomorskie\",\n",
    "    \"06\": \"Lubelskie\",\n",
    "    \"08\": \"Lubuskie\",\n",
    "    \"10\": \"Łódzkie\",\n",
    "    \"12\": \"Małopolskie\",\n",
    "    \"14\": \"Mazowieckie\",\n",
    "    \"16\": \"Opolskie\",\n",
    "    \"18\": \"Podkarpackie\",\n",
    "    \"20\": \"Podlaskie\",\n",
    "    \"22\": \"Pomorskie\",\n",
    "    \"24\": \"Śląskie\",\n",
    "    \"26\": \"Świętokrzyskie\",\n",
    "    \"28\": \"Warmińsko-mazurskie\",\n",
    "    \"30\": \"Wielkopolskie\",\n",
    "    \"32\": \"Zachodniopomorskie\"\n",
    "}\n",
    "code_list = [s[:2] for s in income[\"Code\"]]\n",
    "name_list = [voivodeship_names[code] for code in code_list]\n",
    "income[\"Voivodeship\"] = name_list\n",
    "\n",
    "px.histogram(income[income[\"2020\"] < 3e07],\n",
    "             x=\"2020\",\n",
    "             facet_col=\"Voivodeship\",\n",
    "             facet_col_wrap=4,\n",
    "             labels={\"2020\": \"Income in PLN\"},\n",
    "             title=\"Income of Polish municipalities in 2020 per voivodeship - fragment\")"
   ]
  },
  {
   "cell_type": "markdown",
   "metadata": {
    "id": "DQ_1ugfOHjKA"
   },
   "source": [
    "### Exercise 14 - homework###\n",
    "Search Google for a way to get rid of the `\"Voivodeship=\"` part of histogram titles and use it on the histogram above."
   ]
  },
  {
   "cell_type": "code",
   "execution_count": null,
   "metadata": {
    "colab": {
     "base_uri": "https://localhost:8080/",
     "height": 542
    },
    "executionInfo": {
     "elapsed": 23,
     "status": "ok",
     "timestamp": 1695700231827,
     "user": {
      "displayName": "Jacek Sroka",
      "userId": "10127513659144847769"
     },
     "user_tz": -120
    },
    "id": "bcuZgS6Mhg-0",
    "outputId": "3649af65-bdc9-4f80-d7cd-96bc179a400d"
   },
   "outputs": [],
   "source": [
    "#@title Solution\n",
    "px.histogram(income[income[\"2020\"] < 3e07],\n",
    "             x=\"2020\",\n",
    "             facet_col=\"Voivodeship\",\n",
    "             facet_col_wrap=4,\n",
    "             labels={\"2020\": \"Income in PLN\"},\n",
    "             title=\"Income of Polish municipalities in 2020 per voivodeship - fragment\") \\\n",
    "  .for_each_annotation(lambda a: a.update(text=a.text.replace(\"Voivodeship=\", \"\")))"
   ]
  },
  {
   "cell_type": "markdown",
   "metadata": {
    "id": "1b8f2503"
   },
   "source": [
    "### Boxplots\n",
    "A boxplot is another very common way to present the distribution of numerical data. It shows the summary statistics, i.e., the median, quartiles, and the minimum and maximum observations. In this way, it complements the information shown in a histogram, and both plots are sometimes combined."
   ]
  },
  {
   "cell_type": "markdown",
   "metadata": {
    "id": "O1tU8xSHLKHd"
   },
   "source": [
    "This is how we create a boxplot of the incomes of municipalities in the Mazowieckie voivodeship with income less than 30 mln PLN:"
   ]
  },
  {
   "cell_type": "code",
   "execution_count": null,
   "metadata": {
    "colab": {
     "base_uri": "https://localhost:8080/",
     "height": 542
    },
    "executionInfo": {
     "elapsed": 21,
     "status": "ok",
     "timestamp": 1695700231827,
     "user": {
      "displayName": "Jacek Sroka",
      "userId": "10127513659144847769"
     },
     "user_tz": -120
    },
    "id": "3d19a29b",
    "outputId": "15a017bb-b2db-4eee-e7d0-658a81d113da"
   },
   "outputs": [],
   "source": [
    "px.box(income[(income[\"Voivodeship\"] == \"Mazowieckie\") & (income[\"2020\"] < 3e07)],\n",
    "       y=\"2020\",\n",
    "       title=\"Income of municipalities in the Mazowieckie voivodeship in 2020 - fragment\",\n",
    "       labels={\"2020\": \"Income in PLN\"})"
   ]
  },
  {
   "cell_type": "markdown",
   "metadata": {
    "id": "db2d18b4"
   },
   "source": [
    "The horizontal edges of the box correspond to the first and the third quartiles, i.e. 25-th and 75-th percentiles, or 0.25 and 0.75 quantiles. Inside the box, a horizontal line shows the median. Outside of the box, whiskers show the typical range of observations. They either reach the maximum or minimum value in the column or, if those values are far away from the median, their length is equal to 1.5 times the interquartile range, i.e. 1.5 times the height of the box. For a normal distribution, this corresponds to 99% of the observations. Points are used to show observations that are not within the whiskers.  "
   ]
  },
  {
   "cell_type": "markdown",
   "metadata": {
    "id": "_NF3V3L9h16w"
   },
   "source": [
    "### Exercise 15 ###\n",
    "Now calculate the min, max, median, 25-th and 75-th percentile, IQR, lower fence, and upper fence in Pandas. Did you get the same values as on the plot? Can you explain?\n",
    "\n",
    "Hint: Use [df.describe()](https://pandas.pydata.org/docs/reference/api/pandas.DataFrame.describe.html) or [df.quantile()](https://pandas.pydata.org/docs/reference/api/pandas.DataFrame.quantile.html)."
   ]
  },
  {
   "cell_type": "code",
   "execution_count": null,
   "metadata": {
    "cellView": "form",
    "colab": {
     "base_uri": "https://localhost:8080/"
    },
    "executionInfo": {
     "elapsed": 20,
     "status": "ok",
     "timestamp": 1695700231827,
     "user": {
      "displayName": "Jacek Sroka",
      "userId": "10127513659144847769"
     },
     "user_tz": -120
    },
    "id": "JpgOyb53i5zm",
    "outputId": "b0623dba-6eae-410e-ab82-350fdaa2e465"
   },
   "outputs": [],
   "source": [
    "#@title Solution\n",
    "mazowieckie_30m = income[(income[\"Voivodeship\"] == \"Mazowieckie\") & (income[\"2020\"] < 3e07)][\"2020\"]\n",
    "desc = mazowieckie_30m.describe()\n",
    "print(desc)\n",
    "median = desc[\"50%\"]\n",
    "iqr = desc[\"75%\"]-desc[\"25%\"]\n",
    "l_fence = desc[\"25%\"] - 1.5*iqr\n",
    "u_fence = desc[\"75%\"] + 1.5*iqr\n",
    "\n",
    "print(f\"median={median}\")\n",
    "print(f\"IQR={iqr}\")\n",
    "print(f\"lower fence={l_fence}\")  # slightly different value because minimimum value is 2.649856e+06\n",
    "print(f\"upper fence={u_fence}\")\n"
   ]
  },
  {
   "cell_type": "markdown",
   "metadata": {
    "id": "387ae1d3"
   },
   "source": [
    "### Exercise 16 ###\n",
    "Create a series of boxplots, with a single boxplot for a single voivodeship, by passing the `Voivodeship` column name to the `x` argument of `px.box()`."
   ]
  },
  {
   "cell_type": "code",
   "execution_count": null,
   "metadata": {
    "cellView": "form",
    "colab": {
     "base_uri": "https://localhost:8080/",
     "height": 542
    },
    "executionInfo": {
     "elapsed": 18,
     "status": "ok",
     "timestamp": 1695700231828,
     "user": {
      "displayName": "Jacek Sroka",
      "userId": "10127513659144847769"
     },
     "user_tz": -120
    },
    "id": "db8af886",
    "outputId": "8d1d18a9-6b24-43f8-d00f-96d09a863513"
   },
   "outputs": [],
   "source": [
    "#@title Solution\n",
    "px.box(income[income['2020']<3e07],\n",
    "       x='Voivodeship',\n",
    "       y='2020')"
   ]
  },
  {
   "cell_type": "markdown",
   "metadata": {
    "id": "8FYpr1MwL8aZ"
   },
   "source": [
    "### Scatter plots\n",
    "Scatter plots are used to represent two-dimensional distributions or pairs of values. They simply represent pairs of values as points and are mostly useful to check the two-dimensional shape of the distribution, the correlation between variables, their ranges, etc., but do not tell us almost anything about the summary statistics."
   ]
  },
  {
   "cell_type": "markdown",
   "metadata": {
    "id": "KmMqdFxqM23f"
   },
   "source": [
    "This is how we create a basic scatter plot in Plotly Express, we will add a straight line using the `add_scatter` method to visualize how the income has changed from 2019 to 2020. Note that we don't need to specify the data frame in `px.add_scatter`, we just pass numerical data to the `x` and `y` variables.\n"
   ]
  },
  {
   "cell_type": "code",
   "execution_count": null,
   "metadata": {
    "colab": {
     "base_uri": "https://localhost:8080/",
     "height": 542
    },
    "executionInfo": {
     "elapsed": 16,
     "status": "ok",
     "timestamp": 1695700231828,
     "user": {
      "displayName": "Jacek Sroka",
      "userId": "10127513659144847769"
     },
     "user_tz": -120
    },
    "id": "AO7REmOCMQ4w",
    "outputId": "fe1786a7-3466-4279-b7ec-24351e462859"
   },
   "outputs": [],
   "source": [
    "fig = px.scatter(income,\n",
    "                 x='2019',\n",
    "                 y='2020',\n",
    "                 title='Income of Polish municipalities in 2020 vs 2019')\n",
    "fig.add_scatter(x=[0, 13.5e09], y=[0, 13.5e09], showlegend=False)"
   ]
  },
  {
   "cell_type": "markdown",
   "metadata": {
    "id": "SIr6mJ64M_sf"
   },
   "source": [
    "### Exercise 17. ###\n",
    "Create a scatter plot showing the income in the years 2019 and 2020 for those municipalities that had an income lower than **50** mln PLN in the year **2019**. Add a straight line and check visually if the incomes have increased or decreased. Can you see something suspicious in the plot?    \n"
   ]
  },
  {
   "cell_type": "code",
   "execution_count": null,
   "metadata": {
    "cellView": "form",
    "colab": {
     "base_uri": "https://localhost:8080/",
     "height": 542
    },
    "executionInfo": {
     "elapsed": 1167,
     "status": "ok",
     "timestamp": 1695700232980,
     "user": {
      "displayName": "Jacek Sroka",
      "userId": "10127513659144847769"
     },
     "user_tz": -120
    },
    "id": "rlHR9d_-5VUV",
    "outputId": "11ec8859-e43e-46fd-c4a9-8e974ffd16c1"
   },
   "outputs": [],
   "source": [
    "#@title Solution\n",
    "# Note for the tutors: We can see that the municipality with 2019 income of 0 reported quite a big income in 2020.\n",
    "fig = px.scatter(income[income['2019'] < 5e07],\n",
    "                 x='2019',\n",
    "                 y='2020',\n",
    "                 title='Income of Polish municipalities in 2020 vs 2019')\n",
    "fig.add_scatter(x=[0, 5e07], y=[0, 5e07], showlegend=False)"
   ]
  },
  {
   "cell_type": "markdown",
   "metadata": {
    "id": "lTNgiNHLQ7Gy"
   },
   "source": [
    "### Exercise 18 - homework ###\n",
    "Search Google for examples of using the `hover_data` and `hover_name` arguments in Plotly plots. Use the `hover_data` argument of `px.scatter` to add the voivodeship name to the information about the data points and the `hover_name` argument to add the region name. Use this to identify regions with suspicious data."
   ]
  },
  {
   "cell_type": "code",
   "execution_count": null,
   "metadata": {
    "cellView": "form",
    "colab": {
     "base_uri": "https://localhost:8080/",
     "height": 542
    },
    "executionInfo": {
     "elapsed": 39,
     "status": "ok",
     "timestamp": 1695700232981,
     "user": {
      "displayName": "Jacek Sroka",
      "userId": "10127513659144847769"
     },
     "user_tz": -120
    },
    "id": "sSZOzr1qNAPn",
    "outputId": "a28e79f6-53c9-4fcb-8a03-f526fc8f0a19"
   },
   "outputs": [],
   "source": [
    "#@title Solution\n",
    "fig = px.scatter(income[income['2019'] < 5e07],\n",
    "                 x='2019',\n",
    "                 y='2020',\n",
    "                 title='Income of Polish municipalities in 2020 vs 2019',\n",
    "                 hover_data=['Voivodeship'],\n",
    "                 hover_name='Region')\n",
    "fig.add_scatter(x=[0, 5e07], y=[0,  5e07])"
   ]
  },
  {
   "cell_type": "markdown",
   "metadata": {
    "id": "ud36sh3leP3z"
   },
   "source": [
    "## Further reading/materials ##\n",
    "\n",
    "* Recommended [book](https://www.statlearning.com/)\n",
    "* [Colab forms](https://colab.research.google.com/notebooks/forms.ipynb#scrollTo=7bBCtuAoTPfb)\n",
    "* [Colab layout widgets](https://colab.research.google.com/notebooks/widgets.ipynb)\n",
    "* [Colab charts](https://colab.research.google.com/notebooks/charts.ipynb)\n",
    "* [Colab profiling and timing code](https://colab.research.google.com/github/jakevdp/PythonDataScienceHandbook/blob/master/notebooks/01.07-Timing-and-Profiling.ipynb)\n",
    "* If you have more time and want to practice and get more details watch [this](https://www.youtube.com/watch?v=GPVsHOlRBBI) or [this](https://www.youtube.com/watch?v=r-uOLxNrNk8). Here is the [data visualization guide](https://jovian.com/aakashns/dataviz-cheatsheet) from one of these courses. It has code examples for Line graphs, Scatter plots, Histograms and Frequency Distribution, Heatmap, Contour plots, Box plots, Bar charts (in Marplotlib and Seaborn).\n",
    "* Here are sample visualizations in [Matplotlib](https://matplotlib.org/stable/gallery/index.html), [Seaborn](https://seaborn.pydata.org/examples/index.html) and [Plotly express](https://plotly.com/python/plotly-express/#gallery).\n",
    "* Here are tutorials for [Matplotlib](https://matplotlib.org/stable/tutorials/introductory/pyplot.html), [Seaborn](https://seaborn.pydata.org/tutorial.html), and [Plotly Express](https://plotly.com/python/plotly-express/)\n",
    "* For publishing data in AI and data science projects see: [Data Version Control (DVC)](https://dvc.org/), and [Zenodo](https://zenodo.org/).\n",
    "\n",
    "\n",
    "## Dataset sources ##\n",
    "Here are some sources for sample datasets:\n",
    "* https://www.kaggle.com/datasets?fileType=csv\n",
    "* https://archive.ics.uci.edu/\n",
    "* https://snap.stanford.edu/data/\n",
    "* https://code.datasciencedojo.com/datasciencedojo/datasets"
   ]
  },
  {
   "cell_type": "markdown",
   "metadata": {
    "id": "ZH4SXcd-7LFH"
   },
   "source": [
    "<center><img src='https://drive.google.com/uc?id=1_utx_ZGclmCwNttSe40kYA6VHzNocdET' height=\"60\">\n",
    "\n",
    "AI TECH - Akademia Innowacyjnych Zastosowań Technologii Cyfrowych. Program Operacyjny Polska Cyfrowa na lata 2014-2020\n",
    "<hr>\n",
    "\n",
    "<img src='https://drive.google.com/uc?id=1BXZ0u3562N_MqCLcekI-Ens77Kk4LpPm'>\n",
    "\n",
    "\n",
    "Projekt współfinansowany ze środków Unii Europejskiej w ramach Europejskiego Funduszu Rozwoju Regionalnego\n",
    "Program Operacyjny Polska Cyfrowa na lata 2014-2020,\n",
    "Oś Priorytetowa nr 3 \"Cyfrowe kompetencje społeczeństwa\" Działanie  nr 3.2 \"Innowacyjne rozwiązania na rzecz aktywizacji cyfrowej\".   \n",
    "Tytuł projektu:  „Akademia Innowacyjnych Zastosowań Technologii Cyfrowych (AI Tech)”\n",
    "    </center>"
   ]
  }
 ],
 "metadata": {
  "colab": {
   "provenance": [
    {
     "file_id": "1KYomMMEh9dVS6oou5vq5CBprnh1UoKQ4",
     "timestamp": 1690909657548
    },
    {
     "file_id": "1waPyjWfuwHwAgyUpOhFcsj2agCIxcGxj",
     "timestamp": 1689969481220
    }
   ]
  },
  "kernelspec": {
   "display_name": "Python 3 (ipykernel)",
   "language": "python",
   "name": "python3"
  },
  "language_info": {
   "codemirror_mode": {
    "name": "ipython",
    "version": 3
   },
   "file_extension": ".py",
   "mimetype": "text/x-python",
   "name": "python",
   "nbconvert_exporter": "python",
   "pygments_lexer": "ipython3",
   "version": "3.9.16"
  }
 },
 "nbformat": 4,
 "nbformat_minor": 4
}
